{
 "cells": [
  {
   "attachments": {},
   "cell_type": "markdown",
   "metadata": {},
   "source": [
    "## Template Placement Metric"
   ]
  },
  {
   "cell_type": "code",
   "execution_count": null,
   "metadata": {},
   "outputs": [],
   "source": [
    "import warnings\n",
    "warnings.filterwarnings(\"ignore\", \"Wswiglal-redir-stdio\")\n",
    "\n",
    "import numpy as np\n",
    "import matplotlib.pyplot as plt\n",
    "import matplotlib as mpl\n",
    "import lal\n",
    "\n",
    "from pycbc.conversions import tau0_from_mass1_mass2, tau3_from_mass1_mass2\n",
    "from pycbc.conversions import mass1_from_tau0_tau3, mass2_from_tau0_tau3\n",
    "from pycbc.conversions import mass2_from_mchirp_mass1, mchirp_from_tau0\n",
    "from pycbc.conversions import mchirp_from_mass1_mass2\n",
    "from pycbc.conversions import mass1_from_mchirp_q, mass2_from_mchirp_q, eta_from_tau0_tau3\n",
    "\n",
    "from tqdm import tqdm"
   ]
  },
  {
   "cell_type": "code",
   "execution_count": 2,
   "metadata": {},
   "outputs": [],
   "source": [
    "from scipy.stats import beta\n",
    "import multiprocessing"
   ]
  },
  {
   "cell_type": "markdown",
   "metadata": {},
   "source": [
    "## Parameters"
   ]
  },
  {
   "cell_type": "code",
   "execution_count": 3,
   "metadata": {},
   "outputs": [],
   "source": [
    "m_min = 7.0 # Msun\n",
    "m_max = 50.0 # Msun\n",
    "fL = 20.0 # Hz\n",
    "\n",
    "method_1 = False\n",
    "method_2 = True"
   ]
  },
  {
   "cell_type": "code",
   "execution_count": 4,
   "metadata": {},
   "outputs": [],
   "source": [
    "num_samples = 10_000_000\n",
    "foo_1 = np.random.uniform(m_min, m_max, num_samples)\n",
    "foo_2 = np.random.uniform(m_min, m_max, num_samples)\n",
    "masses = np.column_stack((foo_1, foo_2))\n",
    "masses = np.sort(masses, axis=1)"
   ]
  },
  {
   "cell_type": "code",
   "execution_count": null,
   "metadata": {},
   "outputs": [],
   "source": [
    "mass1, mass2 = (masses[:,1], masses[:,0])\n",
    "print(mass1, mass2)"
   ]
  },
  {
   "cell_type": "code",
   "execution_count": null,
   "metadata": {},
   "outputs": [],
   "source": [
    "# Get tau0 and tau3 from uniform m1, m2 (m1>m2)\n",
    "tau0 = tau0_from_mass1_mass2(mass1, mass2, f_lower=fL)\n",
    "tau3 = tau3_from_mass1_mass2(mass1, mass2, f_lower=fL)"
   ]
  },
  {
   "cell_type": "code",
   "execution_count": null,
   "metadata": {},
   "outputs": [],
   "source": [
    "plt.hist2d(tau0, tau3, bins=1024, norm=mpl.colors.LogNorm())\n",
    "plt.xlabel('tau0')\n",
    "plt.ylabel('tau3')\n",
    "plt.xlim(0.0, 12.0)\n",
    "plt.ylim(0.0, 1.0)\n",
    "plt.colorbar()\n",
    "plt.show()"
   ]
  },
  {
   "cell_type": "code",
   "execution_count": null,
   "metadata": {},
   "outputs": [],
   "source": [
    "plt.hist2d(mass1, mass2, bins=1024, norm=mpl.colors.LogNorm())\n",
    "print(mass1[:2], mass2[:2])\n",
    "plt.xlabel('m1')\n",
    "plt.ylabel('m2')\n",
    "plt.colorbar()\n",
    "plt.show()"
   ]
  },
  {
   "attachments": {},
   "cell_type": "markdown",
   "metadata": {},
   "source": [
    "## Sampling uniform on tau0 in (tau0, tau3) space"
   ]
  },
  {
   "cell_type": "code",
   "execution_count": 5,
   "metadata": {},
   "outputs": [],
   "source": [
    "# Placing templates uniform in the (tau0, tau3) space\n",
    "# The boundaries of tau3 are at m1=m2=m_max and m1=m2=m_min\n",
    "tau3_boundary_1 = tau3_from_mass1_mass2(m_max, m_max, f_lower=fL)\n",
    "tau3_boundary_2 = tau3_from_mass1_mass2(m_min, m_min, f_lower=fL)\n",
    "\n",
    "# The boundaries of tau0 are at also at the same locations\n",
    "tau0_boundary_1 = tau0_from_mass1_mass2(m_max, m_max, f_lower=fL)\n",
    "tau0_boundary_2 = tau0_from_mass1_mass2(m_min, m_min, f_lower=fL)"
   ]
  },
  {
   "cell_type": "code",
   "execution_count": 6,
   "metadata": {},
   "outputs": [
    {
     "name": "stdout",
     "output_type": "stream",
     "text": [
      "0.40759405349866723 10.798110809905172\n",
      "0.2536220914789963 0.9406651529313066\n"
     ]
    }
   ],
   "source": [
    "# This makes sense\n",
    "print(tau0_boundary_1, tau0_boundary_2)\n",
    "print(tau3_boundary_1, tau3_boundary_2)"
   ]
  },
  {
   "cell_type": "code",
   "execution_count": null,
   "metadata": {},
   "outputs": [],
   "source": [
    "# Is it possible to sample in (tau0, tau3) via constant lines of tau0\n",
    "# We can place boundaries in (m1, m2) by placing relevant boundaries on tau3\n",
    "const_tau0 = 4.0 # Say\n",
    "\n",
    "# The lower boundary will always intersect the m1=m2 line\n",
    "# m1=m2 corresponds to eta=0.25\n",
    "A3 = np.pi / (8.0 * (np.pi*fL)**(5./3.))\n",
    "A0 = 5.0 / (256.0 * (np.pi*fL)**(8./3.))\n",
    "lower_boundary_tau3 = 4.0*A3 * (const_tau0/(4.0*A0))**(2./5.)"
   ]
  },
  {
   "cell_type": "code",
   "execution_count": null,
   "metadata": {},
   "outputs": [],
   "source": [
    "# The upper boundary\n",
    "# Real root to the cubic equation\n",
    "u1_func = lambda p,q: (-q/2.) + ((0.25*q**2.)+((1./27.)*p**3.))**0.5\n",
    "u2_func = lambda p,q: (-q/2.) - ((0.25*q**2.)+((1./27.)*p**3.))**0.5\n",
    "\n",
    "if method_1 == True:\n",
    "    p_func = lambda t0, me: (-A0/(t0*me))\n",
    "    q_func = lambda me: -me\n",
    "\n",
    "    # The boundary here is chosen based on tau0 where m1=m_max and m2=m_min\n",
    "    inflection_tau0 = tau0_from_mass1_mass2(m_max, m_min, f_lower=fL)\n",
    "    # There are three separate types of solutions\n",
    "    flag = 0\n",
    "    if const_tau0 > inflection_tau0:\n",
    "        m_ext = m_max # m2=m_min and m1=[m_min, m_max]\n",
    "        flag = 1\n",
    "    elif const_tau0 < inflection_tau0:\n",
    "        m_ext = m_max # m1=m_max and m2=[m_min, m_max]\n",
    "        flag = 1\n",
    "    elif const_tau0 == inflection_tau0:\n",
    "        # edge case: tau3 upper boundary where m1=m_max and m2=m_min\n",
    "        upper_boundary_tau3 = tau3_from_mass1_mass2(m_max, m_min, f_lower=fL)\n",
    "\n",
    "    if flag == 1:\n",
    "        # Real root of cubic equation is M^(1./3.) where M is total mass\n",
    "        p = p_func(const_tau0, m_ext)\n",
    "        q = q_func(m_ext)\n",
    "        real_root = u1_func(p,q)**(1./3.) + u2_func(p,q)**(1./3.)\n",
    "        M = real_root**3.\n",
    "        # Compute tau3 from M. This will be the upper boundary given tau0.\n",
    "        upper_boundary_tau3 = (A3/A0) * const_tau0 * M*lal.MTSUN_SI\n",
    "\n",
    "elif method_2 == True:\n",
    "    # The boundary here is chosen based on tau0 where m1=m_max and m2=m_min\n",
    "    inflection_tau0 = tau0_from_mass1_mass2(m_max, m_min, f_lower=fL)\n",
    "    if const_tau0 > inflection_tau0:\n",
    "        # m2=m_min and m1=[m_min, m_max]\n",
    "        mchirp = mchirp_from_tau0(const_tau0, f_lower=fL)\n",
    "        # m1,m2 can be interchanged assuming the func can return m2>m1\n",
    "        estimated_m1 = mass2_from_mchirp_mass1(mchirp, m_min)\n",
    "        upper_boundary_tau3 = tau3_from_mass1_mass2(estimated_m1, m_min, f_lower=fL)\n",
    "    elif const_tau0 < inflection_tau0:\n",
    "        # m1=m_max and m2=[m_min, m_max]\n",
    "        mchirp = mchirp_from_tau0(const_tau0, f_lower=fL)\n",
    "        estimated_m2 = mass2_from_mchirp_mass1(mchirp, m_max)\n",
    "        upper_boundary_tau3 = tau3_from_mass1_mass2(m_max, estimated_m2, f_lower=fL)\n",
    "    elif const_tau0 == inflection_tau0:\n",
    "        # edge case: tau3 upper boundary where m1=m_max and m2=m_min\n",
    "        upper_boundary_tau3 = tau3_from_mass1_mass2(m_max, m_min, f_lower=fL)"
   ]
  },
  {
   "cell_type": "code",
   "execution_count": null,
   "metadata": {},
   "outputs": [],
   "source": [
    "# Lower boundary looks fine, upper boundary is wrong\n",
    "# Not sure how to fix this\n",
    "print(lower_boundary_tau3, upper_boundary_tau3)"
   ]
  },
  {
   "cell_type": "code",
   "execution_count": null,
   "metadata": {},
   "outputs": [],
   "source": [
    "# Plot the bounded tau3 alongside the 2D histogram of (tau0, tau3) for verification\n",
    "plt.hist2d(tau0, tau3, bins=1024, norm=mpl.colors.LogNorm())\n",
    "plt.plot([const_tau0, const_tau0], [lower_boundary_tau3, upper_boundary_tau3], linewidth=1, c='red')\n",
    "plt.xlabel('tau0')\n",
    "plt.ylabel('tau3')\n",
    "plt.xlim(0.0, 12.0)\n",
    "plt.ylim(0.0, 1.0)\n",
    "plt.colorbar()\n",
    "plt.show()"
   ]
  },
  {
   "cell_type": "code",
   "execution_count": null,
   "metadata": {},
   "outputs": [],
   "source": [
    "# Draw uniformly on tau0\n",
    "utau0 = np.random.uniform(tau0_boundary_1, tau0_boundary_2, num_samples)"
   ]
  },
  {
   "cell_type": "code",
   "execution_count": 7,
   "metadata": {},
   "outputs": [],
   "source": [
    "def tau3_lower_boundary_from_tau0(_tau0):\n",
    "    # The lower boundary will always intersect the m1=m2 line\n",
    "    # m1=m2 corresponds to eta=0.25\n",
    "    A3 = np.pi / (8.0 * (np.pi*fL)**(5./3.))\n",
    "    A0 = 5.0 / (256.0 * (np.pi*fL)**(8./3.))\n",
    "    lower_boundary_tau3 = 4.0*A3 * (_tau0/(4.0*A0))**(2./5.)\n",
    "    return lower_boundary_tau3"
   ]
  },
  {
   "cell_type": "code",
   "execution_count": 8,
   "metadata": {},
   "outputs": [],
   "source": [
    "def tau3_upper_boundary_from_tau0(_tau0):\n",
    "    # The boundary here is chosen based on tau0 where m1=m_max and m2=m_min\n",
    "    inflection_tau0 = tau0_from_mass1_mass2(m_max, m_min, f_lower=fL)\n",
    "    if _tau0 > inflection_tau0:\n",
    "        # m2=m_min and m1=[m_min, m_max]\n",
    "        mchirp = mchirp_from_tau0(_tau0, f_lower=fL)\n",
    "        # m1,m2 can be interchanged assuming the func can return m2>m1\n",
    "        estimated_m1 = mass2_from_mchirp_mass1(mchirp, m_min)\n",
    "        upper_boundary_tau3 = tau3_from_mass1_mass2(estimated_m1, m_min, f_lower=fL)\n",
    "    elif _tau0 < inflection_tau0:\n",
    "        # m1=m_max and m2=[m_min, m_max]\n",
    "        mchirp = mchirp_from_tau0(_tau0, f_lower=fL)\n",
    "        estimated_m2 = mass2_from_mchirp_mass1(mchirp, m_max)\n",
    "        upper_boundary_tau3 = tau3_from_mass1_mass2(m_max, estimated_m2, f_lower=fL)\n",
    "    elif _tau0 == inflection_tau0:\n",
    "        # edge case: tau3 upper boundary where m1=m_max and m2=m_min\n",
    "        upper_boundary_tau3 = tau3_from_mass1_mass2(m_max, m_min, f_lower=fL)\n",
    "    return upper_boundary_tau3"
   ]
  },
  {
   "cell_type": "code",
   "execution_count": null,
   "metadata": {},
   "outputs": [],
   "source": [
    "utau3 = []\n",
    "for _utau0 in tqdm(utau0):\n",
    "    lb_tau3 = tau3_lower_boundary_from_tau0(_utau0)\n",
    "    ub_tau3 = tau3_upper_boundary_from_tau0(_utau0)\n",
    "    utau3.append(np.random.uniform(lb_tau3, ub_tau3))"
   ]
  },
  {
   "cell_type": "code",
   "execution_count": null,
   "metadata": {},
   "outputs": [],
   "source": [
    "# Plot the bounded tau3 alongside the 2D histogram of (tau0, tau3) for verification\n",
    "# This should be uniform on (tau0, tau3) and bounded by m1, m2 constraints\n",
    "utau3 = np.array(utau3)\n",
    "plt.hist2d(utau0, utau3, bins=1024, norm=mpl.colors.LogNorm())\n",
    "plt.xlabel('tau0')\n",
    "plt.ylabel('tau3')\n",
    "plt.xlim(0.0, 12.0)\n",
    "plt.ylim(0.0, 1.0)\n",
    "plt.colorbar()\n",
    "plt.show()"
   ]
  },
  {
   "cell_type": "code",
   "execution_count": null,
   "metadata": {},
   "outputs": [],
   "source": [
    "# Converting (tau0, tau3) to (m1, m2)\n",
    "mass1_metric = mass1_from_tau0_tau3(utau0, utau3, f_lower=fL)\n",
    "mass2_metric = mass2_from_tau0_tau3(utau0, utau3, f_lower=fL)"
   ]
  },
  {
   "cell_type": "code",
   "execution_count": null,
   "metadata": {},
   "outputs": [],
   "source": [
    "plt.hist2d(mass1_metric, mass2_metric, bins=1024, norm=mpl.colors.LogNorm())\n",
    "plt.xlabel('m1')\n",
    "plt.ylabel('m2')\n",
    "plt.colorbar()\n",
    "plt.show()"
   ]
  },
  {
   "cell_type": "code",
   "execution_count": null,
   "metadata": {},
   "outputs": [],
   "source": [
    "# Plot the other params\n",
    "mchirp_metric = mchirp_from_mass1_mass2(mass1_metric, mass2_metric)\n",
    "q_metric = mass1_metric/mass2_metric\n",
    "\n",
    "plt.hist(mchirp_metric, bins=128)\n",
    "plt.xlabel('Chirp Mass (Msun)')\n",
    "plt.ylabel('Number of Occurrences')\n",
    "plt.show()"
   ]
  },
  {
   "cell_type": "code",
   "execution_count": null,
   "metadata": {},
   "outputs": [],
   "source": [
    "# This isn't too different from a uniform distribution on (m1, m2)\n",
    "plt.hist(q_metric, bins=128)\n",
    "plt.xlabel('Mass ratio')\n",
    "plt.ylabel('Number of Occurrences')\n",
    "plt.show()"
   ]
  },
  {
   "cell_type": "code",
   "execution_count": null,
   "metadata": {},
   "outputs": [],
   "source": [
    "plt.hist2d(mchirp_metric, q_metric, bins=1024, norm=mpl.colors.LogNorm())\n",
    "plt.xlabel('Chirp Mass (Msun)')\n",
    "plt.ylabel('Mass Ratio (m1/m2)')\n",
    "plt.colorbar()\n",
    "plt.show()"
   ]
  },
  {
   "attachments": {},
   "cell_type": "markdown",
   "metadata": {},
   "source": [
    "## Sampling uniform on (tau0, tau3)"
   ]
  },
  {
   "cell_type": "code",
   "execution_count": null,
   "metadata": {},
   "outputs": [],
   "source": [
    "# We have the means to tell whether a given (tau0, tau3) is within the bounds provided\n",
    "# All we have to do is create samples uniform on (tau0, tau3)\n",
    "num_samples = 100_000_000\n",
    "tau0 = np.random.uniform(tau0_boundary_1, tau0_boundary_2, num_samples)\n",
    "tau3 = np.random.uniform(tau3_boundary_1, tau3_boundary_2, num_samples)"
   ]
  },
  {
   "cell_type": "code",
   "execution_count": null,
   "metadata": {},
   "outputs": [],
   "source": [
    "# For each point check whether it is within boundary\n",
    "all_coords = zip(tau0, tau3)\n",
    "accepted_coords = []\n",
    "counter = 0\n",
    "\n",
    "def get_good_samples(coords):\n",
    "    t0, t3 = coords\n",
    "    lb_tau3 = tau3_lower_boundary_from_tau0(t0)\n",
    "    ub_tau3 = tau3_upper_boundary_from_tau0(t0)\n",
    "    if lb_tau3 <= t3 <= ub_tau3:\n",
    "        return coords\n",
    "    else:\n",
    "        return (-1, -1)"
   ]
  },
  {
   "cell_type": "code",
   "execution_count": null,
   "metadata": {},
   "outputs": [],
   "source": [
    "#pool = multiprocessing.Pool(multiprocessing.cpu_count()-2)\n",
    "pool = multiprocessing.Pool(32)\n",
    "atau0, atau3 = zip(*pool.map(get_good_samples, all_coords))"
   ]
  },
  {
   "cell_type": "code",
   "execution_count": null,
   "metadata": {},
   "outputs": [],
   "source": [
    "# Filter the output to get valid points\n",
    "atau0 = np.array(atau0)\n",
    "atau3 = np.array(atau3)\n",
    "\n",
    "atau0 = atau0[atau0 > 0.0]\n",
    "atau3 = atau3[atau3 > 0.0]\n",
    "\n",
    "# That is about 13.4% efficiency\n",
    "print(len(atau0), len(atau3))"
   ]
  },
  {
   "cell_type": "code",
   "execution_count": null,
   "metadata": {},
   "outputs": [],
   "source": [
    "plt.hist2d(atau0, atau3, bins=1024, norm=mpl.colors.LogNorm())\n",
    "plt.xlabel('tau0')\n",
    "plt.ylabel('tau3')\n",
    "plt.xlim(0.0, 12.0)\n",
    "plt.ylim(0.0, 1.0)\n",
    "plt.colorbar()\n",
    "plt.show()"
   ]
  },
  {
   "cell_type": "code",
   "execution_count": null,
   "metadata": {},
   "outputs": [],
   "source": [
    "# Plot the other params\n",
    "# Converting (tau0, tau3) to (m1, m2)\n",
    "amass1 = mass1_from_tau0_tau3(atau0, atau3, f_lower=fL)\n",
    "amass2 = mass2_from_tau0_tau3(atau0, atau3, f_lower=fL)\n",
    "\n",
    "amchirp = mchirp_from_mass1_mass2(amass1, amass2)\n",
    "aq = amass1/amass2"
   ]
  },
  {
   "cell_type": "code",
   "execution_count": null,
   "metadata": {},
   "outputs": [],
   "source": [
    "plt.hist2d(amass1, amass2, bins=256, norm=mpl.colors.LogNorm())\n",
    "plt.xlabel('m1')\n",
    "plt.ylabel('m2')\n",
    "plt.colorbar()\n",
    "plt.show()"
   ]
  },
  {
   "cell_type": "code",
   "execution_count": null,
   "metadata": {},
   "outputs": [],
   "source": [
    "plt.hist(amchirp, bins=128)\n",
    "plt.xlabel('Chirp Mass (Msun)')\n",
    "plt.ylabel('Number of Occurrences')\n",
    "plt.show()"
   ]
  },
  {
   "cell_type": "code",
   "execution_count": null,
   "metadata": {},
   "outputs": [],
   "source": [
    "plt.hist(aq, bins=128)\n",
    "plt.xlabel('Mass ratio')\n",
    "plt.ylabel('Number of Occurrences')\n",
    "plt.show()"
   ]
  },
  {
   "cell_type": "code",
   "execution_count": null,
   "metadata": {},
   "outputs": [],
   "source": [
    "plt.hist2d(amchirp, aq, bins=256, norm=mpl.colors.LogNorm())\n",
    "plt.xlabel('Chirp Mass (Msun)')\n",
    "plt.ylabel('Mass Ratio (m1/m2)')\n",
    "plt.colorbar()\n",
    "plt.show()"
   ]
  },
  {
   "cell_type": "markdown",
   "metadata": {},
   "source": [
    "## Sampling uniform on (tau0, q)"
   ]
  },
  {
   "cell_type": "code",
   "execution_count": null,
   "metadata": {},
   "outputs": [],
   "source": [
    "# We have the means to tell whether a given (tau0, tau3) is within the bounds provided\n",
    "# All we have to do is create samples uniform on (tau0, tau3)\n",
    "# tau0 = np.random.uniform(tau0_boundary_1, tau0_boundary_2, num_samples)\n",
    "tau0 = (np.random.power(0.2, num_samples) * (tau0_boundary_2-tau0_boundary_1)) + tau0_boundary_1\n",
    "q = np.random.uniform(1.0, m_max/m_min, num_samples)"
   ]
  },
  {
   "cell_type": "code",
   "execution_count": null,
   "metadata": {},
   "outputs": [],
   "source": [
    "def check_m1_m2(m1, m2):\n",
    "    if m1 < m2 or m1 < m_min or m1 > m_max:\n",
    "        return False\n",
    "    elif m2 > m1 or m2 < m_min or m2 > m_max:\n",
    "        return False\n",
    "    else:\n",
    "        return True"
   ]
  },
  {
   "cell_type": "code",
   "execution_count": null,
   "metadata": {},
   "outputs": [],
   "source": [
    "# For each point check whether it is within boundary\n",
    "all_coords = zip(tau0, q)\n",
    "accepted_coords = []\n",
    "counter = 0\n",
    "\n",
    "def get_good_samples(coords):\n",
    "    t0, qi = coords\n",
    "    mc_from_t0 = mchirp_from_tau0(t0, fL)\n",
    "    m2i = mass2_from_mchirp_q(mc_from_t0, qi)\n",
    "    m1i = mass1_from_mchirp_q(mc_from_t0, qi)\n",
    "    if check_m1_m2(m1i, m2i):\n",
    "        return (m1i, m2i, qi, mc_from_t0, t0)\n",
    "    else:\n",
    "        return (-1, -1, -1, -1, -1)"
   ]
  },
  {
   "cell_type": "code",
   "execution_count": null,
   "metadata": {},
   "outputs": [],
   "source": [
    "pool = multiprocessing.Pool(16)\n",
    "_mass1, _mass2, _q, _mchirp, _tau0 = zip(*pool.map(get_good_samples, all_coords))"
   ]
  },
  {
   "cell_type": "code",
   "execution_count": null,
   "metadata": {},
   "outputs": [],
   "source": [
    "# Filter the output to get valid points\n",
    "_mass1 = np.array(_mass1)\n",
    "_mass2 = np.array(_mass2)\n",
    "_q = np.array(_q)\n",
    "_mchirp = np.array(_mchirp)\n",
    "_tau0 = np.array(_tau0)\n",
    "\n",
    "data = np.column_stack((_mass1, _mass2, _q, _mchirp, _tau0))\n",
    "data = data[data[:,0] > 0.0]\n",
    "\n",
    "# That is about 13.4% efficiency\n",
    "print(len(data)/len(_mass1))"
   ]
  },
  {
   "cell_type": "code",
   "execution_count": null,
   "metadata": {},
   "outputs": [],
   "source": [
    "plt.hist2d(data[:,0], data[:,1], bins=1024, norm=mpl.colors.LogNorm())\n",
    "plt.xlabel('mass1')\n",
    "plt.ylabel('mass2')\n",
    "plt.colorbar()\n",
    "plt.show()"
   ]
  },
  {
   "cell_type": "code",
   "execution_count": null,
   "metadata": {},
   "outputs": [],
   "source": [
    "plt.hist2d(data[:,4], data[:,2], bins=1024, norm=mpl.colors.LogNorm())\n",
    "plt.xlabel('tau0')\n",
    "plt.ylabel('q')\n",
    "plt.colorbar()\n",
    "plt.show()"
   ]
  },
  {
   "cell_type": "code",
   "execution_count": null,
   "metadata": {},
   "outputs": [],
   "source": [
    "plt.hist(data[:,2], bins=128)\n",
    "plt.xlabel('q')\n",
    "plt.show()"
   ]
  },
  {
   "attachments": {},
   "cell_type": "markdown",
   "metadata": {},
   "source": [
    "## Sampling uniform on q in (tau0, q) space"
   ]
  },
  {
   "cell_type": "code",
   "execution_count": null,
   "metadata": {},
   "outputs": [],
   "source": [
    "m1 = np.random.uniform(7.0, 50.0, 100)\n",
    "m2 = np.full(100, 7.0)\n",
    "q_check_1 = m1/m2\n",
    "tau0_check_1 = tau0_from_mass1_mass2(m1, m2, f_lower=20.0)\n",
    "\n",
    "m1 = np.full(100, 50.0)\n",
    "m2 = np.random.uniform(7.0, 50.0, 100)\n",
    "q_check_2 = m1/m2\n",
    "tau0_check_2 = tau0_from_mass1_mass2(m1, m2, f_lower=20.0)"
   ]
  },
  {
   "cell_type": "code",
   "execution_count": null,
   "metadata": {},
   "outputs": [],
   "source": [
    "# Uniform on m1, m2\n",
    "plt.hist2d(tau0, mass1/mass2, bins=1024, norm=mpl.colors.LogNorm())\n",
    "plt.scatter(tau0_check_1, q_check_1, label='m2 = m_min')\n",
    "plt.scatter(tau0_check_2, q_check_2, label='m1 = m_max')\n",
    "plt.xlabel('tau0')\n",
    "plt.ylabel('q')\n",
    "plt.colorbar()\n",
    "plt.legend()\n",
    "plt.show()"
   ]
  },
  {
   "cell_type": "code",
   "execution_count": null,
   "metadata": {},
   "outputs": [],
   "source": [
    "## Get lines of constant mass ratio\n",
    "lines_of_q = np.random.uniform(1.0, m_max/m_min, num_samples)\n",
    "## For each mass ratio get the upper and lower bound on tau\n",
    "# Lower bound -- m1 = m_max, get m2, from m1, m2 get tau0\n",
    "lower_bound = {}\n",
    "lower_bound['m1'] = np.full(num_samples, m_max)\n",
    "lower_bound['m2'] = lower_bound['m1']/lines_of_q\n",
    "lower_bound['tau0'] = tau0_from_mass1_mass2(lower_bound['m1'], lower_bound['m2'], f_lower=20.0)\n",
    "# Upper bound -- m2 = m_min, get m1, from m1, m2 get tau0\n",
    "upper_bound = {}\n",
    "upper_bound['m2'] = np.full(num_samples, m_min)\n",
    "upper_bound['m1'] = upper_bound['m2']*lines_of_q\n",
    "upper_bound['tau0'] = tau0_from_mass1_mass2(upper_bound['m1'], upper_bound['m2'], f_lower=20.0)"
   ]
  },
  {
   "cell_type": "code",
   "execution_count": null,
   "metadata": {},
   "outputs": [],
   "source": [
    "# Sample within lower and upper bound provided for each q\n",
    "tau_samples = [np.random.uniform(lb, ub) for lb, ub in zip(lower_bound['tau0'], upper_bound['tau0'])]"
   ]
  },
  {
   "cell_type": "code",
   "execution_count": null,
   "metadata": {},
   "outputs": [],
   "source": [
    "# Uniform on q\n",
    "plt.hist2d(tau_samples, lines_of_q, bins=1024, norm=mpl.colors.LogNorm())\n",
    "plt.xlabel('tau0')\n",
    "plt.ylabel('q')\n",
    "plt.colorbar()\n",
    "plt.legend()\n",
    "plt.show()"
   ]
  },
  {
   "cell_type": "code",
   "execution_count": null,
   "metadata": {},
   "outputs": [],
   "source": [
    "plt.hist(tau_samples, bins=256)\n",
    "plt.xlabel('tau0')\n",
    "plt.show()"
   ]
  },
  {
   "cell_type": "code",
   "execution_count": null,
   "metadata": {},
   "outputs": [],
   "source": [
    "plt.hist(lines_of_q, bins=256)\n",
    "plt.xlabel('q')\n",
    "plt.show()"
   ]
  },
  {
   "cell_type": "code",
   "execution_count": null,
   "metadata": {},
   "outputs": [],
   "source": [
    "mchirp = mchirp_from_tau0(np.array(tau_samples), f_lower=20.0)\n",
    "plt.hist(mchirp, bins=256)\n",
    "plt.xlabel('mchirp')\n",
    "plt.show()"
   ]
  },
  {
   "cell_type": "code",
   "execution_count": null,
   "metadata": {},
   "outputs": [],
   "source": [
    "m1 = mass1_from_mchirp_q(mchirp, lines_of_q)\n",
    "m2 = mass2_from_mchirp_q(mchirp, lines_of_q)"
   ]
  },
  {
   "cell_type": "code",
   "execution_count": null,
   "metadata": {},
   "outputs": [],
   "source": [
    "plt.hist2d(m1, m2, bins=1024, norm=mpl.colors.LogNorm())\n",
    "plt.xlabel('m1')\n",
    "plt.ylabel('m2')\n",
    "plt.colorbar()\n",
    "plt.legend()\n",
    "plt.show()"
   ]
  },
  {
   "attachments": {},
   "cell_type": "markdown",
   "metadata": {},
   "source": [
    "The model will not learn to reject noise properly with this configuration. However, running this similar to how we did Kennebec_Annealed might prove useful."
   ]
  },
  {
   "attachments": {},
   "cell_type": "markdown",
   "metadata": {},
   "source": [
    "## Sampling uniform on mchirp in (mchirp, q) space"
   ]
  },
  {
   "cell_type": "code",
   "execution_count": null,
   "metadata": {},
   "outputs": [],
   "source": [
    "# Can we make it uniform on (mchirp, q)\n",
    "# No cubic roots involved!\n",
    "# Get lines of const mchirp and find the boundaries on q\n",
    "# The lower boundary is already fixed at q=1"
   ]
  },
  {
   "cell_type": "code",
   "execution_count": null,
   "metadata": {},
   "outputs": [],
   "source": [
    "def q_upper_boundary_from_mchirp(_mchirp):\n",
    "    # Maximum value of q (m1/m2) with m1>m2\n",
    "    inflection_mchirp = mchirp_from_mass1_mass2(m_max, m_min)\n",
    "    if _mchirp > inflection_mchirp:\n",
    "        # perpendicular of the m1, m2 right triangle\n",
    "        # m1=m_max and m2=[m_min, m_max]\n",
    "        estimated_m2 = mass2_from_mchirp_mass1(_mchirp, m_max)\n",
    "        upper_boundary_q = m_max/estimated_m2\n",
    "    elif _mchirp < inflection_mchirp:\n",
    "        # base of the m1, m2 right triangle\n",
    "        # m2=m_min and m1=[m_min, m_max]\n",
    "        # Assuming that the following function does not constrain m1>m2\n",
    "        estimated_m1 = mass2_from_mchirp_mass1(_mchirp, m_min)\n",
    "        upper_boundary_q = estimated_m1/m_min\n",
    "    elif _mchirp == inflection_mchirp:\n",
    "        # edge case: q upper boundary where m1=m_max and m2=m_min\n",
    "        upper_boundary_q = m_max/m_min\n",
    "    return upper_boundary_q"
   ]
  },
  {
   "cell_type": "code",
   "execution_count": null,
   "metadata": {},
   "outputs": [],
   "source": [
    "# Sample uniform on (mchirp, q)\n",
    "mchirp_low = mchirp_from_mass1_mass2(m_min, m_min)\n",
    "mchirp_high = mchirp_from_mass1_mass2(m_max, m_max)\n",
    "umchirp = np.random.uniform(mchirp_low, mchirp_high, num_samples)"
   ]
  },
  {
   "cell_type": "code",
   "execution_count": null,
   "metadata": {},
   "outputs": [],
   "source": [
    "uq = []\n",
    "for _umchirp in tqdm(umchirp):\n",
    "    lb_q = 1\n",
    "    ub_q = q_upper_boundary_from_mchirp(_umchirp)\n",
    "    uq.append(np.random.uniform(lb_q, ub_q))"
   ]
  },
  {
   "cell_type": "code",
   "execution_count": null,
   "metadata": {},
   "outputs": [],
   "source": [
    "plt.hist2d(umchirp, uq, bins=1024, norm=mpl.colors.LogNorm())\n",
    "plt.xlabel('Chirp Mass (Msun)')\n",
    "plt.ylabel('Mass Ratio (m1/m2)')\n",
    "plt.colorbar()\n",
    "plt.show()"
   ]
  },
  {
   "cell_type": "code",
   "execution_count": null,
   "metadata": {},
   "outputs": [],
   "source": [
    "# This is even more skewed :O\n",
    "plt.hist(uq, bins=128)\n",
    "plt.xlabel('Mass ratio')\n",
    "plt.ylabel('Number of Occurrences')\n",
    "plt.show()"
   ]
  },
  {
   "cell_type": "code",
   "execution_count": null,
   "metadata": {},
   "outputs": [],
   "source": [
    "umchirp = np.array(umchirp)\n",
    "uq = np.array(uq)\n",
    "mass1_umcq = mass1_from_mchirp_q(umchirp, uq)\n",
    "mass2_umcq = mass2_from_mchirp_q(umchirp, uq)\n",
    "\n",
    "plt.hist2d(mass1_umcq, mass2_umcq, bins=1024, norm=mpl.colors.LogNorm())\n",
    "plt.xlabel('m1')\n",
    "plt.ylabel('m2')\n",
    "plt.colorbar()\n",
    "plt.show()"
   ]
  },
  {
   "cell_type": "markdown",
   "metadata": {},
   "source": [
    "## Sampling power-law on q"
   ]
  },
  {
   "cell_type": "code",
   "execution_count": null,
   "metadata": {},
   "outputs": [],
   "source": [
    "import matplotlib.pyplot as plt\n",
    "from pycbc import distributions\n",
    "from pycbc import conversions\n",
    "import numpy as np\n",
    "\n",
    "# Create chirp mass and mass ratio distribution object that is uniform\n",
    "# in mass1 and mass2\n",
    "minmc = mchirp_low\n",
    "maxmc = mchirp_high\n",
    "mc_distribution = distributions.MchirpfromUniformMass1Mass2(mc=(minmc,maxmc))\n",
    "# generate q in a symmetric range [min, 1/min] to make mass1 and mass2\n",
    "# symmetric\n",
    "minq = 1/7\n",
    "maxq = 1/minq\n",
    "q_distribution = distributions.QfromUniformMass1Mass2(q=(minq,maxq))\n",
    "\n",
    "# Take 100000 random variable samples from this chirp mass and mass ratio\n",
    "# distribution.\n",
    "n_size = 100000\n",
    "mc_samples = mc_distribution.rvs(size=n_size)\n",
    "q_samples = q_distribution.rvs(size=n_size)\n",
    "\n",
    "# Convert chirp mass and mass ratio to mass1 and mass2\n",
    "m1 = conversions.mass1_from_mchirp_q(mc_samples['mc'],q_samples['q'])\n",
    "m2 = conversions.mass2_from_mchirp_q(mc_samples['mc'],q_samples['q'])"
   ]
  },
  {
   "cell_type": "code",
   "execution_count": null,
   "metadata": {},
   "outputs": [],
   "source": [
    "plt.hist(m1, bins=128)\n",
    "plt.hist(m2, bins=128)\n",
    "plt.xlabel('Mass ratio')\n",
    "plt.ylabel('Number of Occurrences')\n",
    "plt.show()"
   ]
  },
  {
   "cell_type": "code",
   "execution_count": null,
   "metadata": {},
   "outputs": [],
   "source": [
    "plt.hist(m1/m2, bins=128)\n",
    "plt.xlabel('Mass ratio')\n",
    "plt.ylabel('Number of Occurrences')\n",
    "plt.show()"
   ]
  },
  {
   "cell_type": "code",
   "execution_count": null,
   "metadata": {},
   "outputs": [],
   "source": [
    "plt.hist(mc_samples['mc'], bins=128)\n",
    "plt.xlabel('Mass ratio')\n",
    "plt.ylabel('Number of Occurrences')\n",
    "plt.show()"
   ]
  },
  {
   "attachments": {},
   "cell_type": "markdown",
   "metadata": {},
   "source": [
    "## Other Experimental"
   ]
  },
  {
   "cell_type": "code",
   "execution_count": null,
   "metadata": {},
   "outputs": [],
   "source": [
    "# Sample on const tau and const q lines together\n",
    "\n",
    "def get_mchirp_priors(ml, mu):\n",
    "    # Range for mchirp\n",
    "    min_mchirp = (ml*ml / (ml+ml)**2.)**(3./5) * (ml + ml)\n",
    "    max_mchirp = (mu*mu / (mu+mu)**2.)**(3./5) * (mu + mu)\n",
    "    return (min_mchirp, max_mchirp)\n",
    "\n",
    "def get_tau_priors(ml, mu, lf):\n",
    "    # Range for mchirp\n",
    "    min_mchirp, max_mchirp = get_mchirp_priors(ml, mu)\n",
    "    # Tau priors\n",
    "    G = 6.67e-11 # Nm^2/Kg^2\n",
    "    c = 3.0e8 # ms^-1\n",
    "    tau = lambda mc: 5. * (8.*np.pi*lf)**(-8./3.) * (mc*1.989e30*G/c**3.)**(-5./3.)\n",
    "    tau_lower = tau(max_mchirp)\n",
    "    tau_upper = tau(min_mchirp)\n",
    "    return (tau_lower, tau_upper)\n",
    "\n",
    "class BoundedPriors:\n",
    "\n",
    "    def __init__(self, mu, ml, lf):\n",
    "        # Common\n",
    "        self.lf = lf # Hz (signal low freq cutoff)\n",
    "        self.mu = mu\n",
    "        self.ml = ml\n",
    "        # Constants\n",
    "        G = 6.67e-11 # Nm^2/Kg^2\n",
    "        c = 3.0e8 # ms^-1\n",
    "        self.const = (5. * (8.*np.pi*lf)**(-8./3.)) * (1.989e30*G/c**3.)**(-5./3.)\n",
    "\n",
    "    def _intersection_with_m1_eq_m2(self, tau):\n",
    "        # Where does the curve intersect with m1=m2?\n",
    "        C_1dash = self.const * 2**(1./3.)\n",
    "        intersc_diagonal = (tau/C_1dash)**(-3./5.)\n",
    "        return intersc_diagonal\n",
    "    \n",
    "    def _intersection_with_m2_when_m1_is_mu(self, tau):\n",
    "        # Where does the curve intersect with x or y axis?\n",
    "        # Where does it intersect m2 when m1=50.0 Msun?\n",
    "        C_2dash = self.const/self.mu\n",
    "        C_3dash = (tau/C_2dash)**3.\n",
    "        # We get one non-complex root for the value of m2\n",
    "        m2_when_m1_is_mu = np.array([np.roots([c3d, 0.0, -1, -self.mu]) for c3d in C_3dash])\n",
    "        m2_when_m1_is_mu = np.array([np.real(foo[np.isreal(foo)])[0] for foo in m2_when_m1_is_mu])\n",
    "        return m2_when_m1_is_mu\n",
    "\n",
    "    def _intersection_with_m1_when_m2_is_ml(self, tau):\n",
    "        # Where does it intersect m1 when m2=7.0 Msun?\n",
    "        C_4dash = self.const/self.ml\n",
    "        C_5dash = (tau/C_4dash)**3.\n",
    "        # We get one non-complex root for the value of m2\n",
    "        m1_when_m2_is_ml = np.array([np.roots([c5d, 0.0, -1, -self.ml]) for c5d in C_5dash])\n",
    "        m1_when_m2_is_ml = np.array([np.real(foo[np.isreal(foo)])[0] for foo in m1_when_m2_is_ml])\n",
    "        return m1_when_m2_is_ml\n",
    "    \n",
    "    def _get_m1_upper_bounds(self, m2_when_m1_is_mu, m1_when_m2_is_ml):\n",
    "        upper_bounds = m2_when_m1_is_mu\n",
    "        # Checkl if bounds are correct\n",
    "        idxs = m2_when_m1_is_mu < self.ml\n",
    "        alt_idxs = m2_when_m1_is_mu >= self.ml\n",
    "        upper_bounds[idxs] = m1_when_m2_is_ml[idxs]\n",
    "        upper_bounds[alt_idxs] = np.full(sum(alt_idxs), self.mu)\n",
    "        return upper_bounds\n",
    "    \n",
    "    def _get_m2_from_m1_tau(self, mass1, tau):\n",
    "        C_6dash = (tau/(self.const/mass1))**3.\n",
    "        mass2_roots = np.array([np.roots([c6d, 0.0, -1, -_m1]) for c6d, _m1 in zip(C_6dash, mass1)])\n",
    "        mass2 = np.array([np.real(foo[np.isreal(foo)])[0] for foo in mass2_roots])\n",
    "        return mass2\n",
    "\n",
    "    def _custom_tau_q_(self, tau):\n",
    "        ## Step 2: Find the intersection of const Tau curve on P(m1, m2) where m1, m2 are uniform and m1>m2\n",
    "        m2_when_m1_is_mu = self._intersection_with_m2_when_m1_is_mu(tau)\n",
    "        m1_when_m2_is_ml = self._intersection_with_m1_when_m2_is_ml(tau)\n",
    "        ## Step 3: We can get an upper bound on m1 to get maximum allowed q.\n",
    "        upper_bounds = self._get_m1_upper_bounds(m2_when_m1_is_mu, m1_when_m2_is_ml)\n",
    "        # From the upper bounds on m1, get m2\n",
    "        m2_at_m1_upper_bound = self._get_m2_from_m1_tau(upper_bounds, tau)\n",
    "        # Maximum value of q allowed for given const tau\n",
    "        max_q = upper_bounds/m2_at_m1_upper_bound\n",
    "        ## Step 4: Sample however we want within bounds of q\n",
    "        # q = np.random.uniform(1.0, max_q)[0]\n",
    "        # q = (np.random.power(0.5, 1) * (max_q-1.0)) + 1.0\n",
    "        q = (beta.rvs(2, 1) * (max_q-1.0)) + 1.0\n",
    "        q = q[0]\n",
    "        ## Step 5: Obtain m1, m2 from const_mchirp and q\n",
    "        mchirp = mchirp_from_tau0(tau, self.lf)[0]\n",
    "        mass1 = mass1_from_mchirp_q(mchirp, q)\n",
    "        mass2 = mass2_from_mchirp_q(mchirp, q)\n",
    "        return (mass1, mass2, q, mchirp)\n",
    "\n",
    "    def get_bounded_gwparams_from_uniform_tau_uniform_q(self):\n",
    "        ## Step 1a: Get uniform Tau values within bounds provided by m1 and m2\n",
    "        tau_lower, tau_upper = get_tau_priors(ml=self.ml, mu=self.mu, lf=self.lf)\n",
    "        tau = np.random.uniform(tau_lower, tau_upper, 1)\n",
    "        # Common steps\n",
    "        mass1, mass2, q, mchirp = self._custom_tau_q_(tau)\n",
    "        return (mass1, mass2, q, mchirp, tau[0])"
   ]
  },
  {
   "cell_type": "code",
   "execution_count": null,
   "metadata": {},
   "outputs": [],
   "source": [
    "bp = BoundedPriors(50.0, 7.0, 20.0)"
   ]
  },
  {
   "cell_type": "code",
   "execution_count": null,
   "metadata": {},
   "outputs": [],
   "source": [
    "m1 = []\n",
    "m2 = []\n",
    "q = []\n",
    "mchirp = []\n",
    "tau = []\n",
    "\n",
    "for _ in tqdm(range(1_000_000)):\n",
    "    _m1, _m2, _q, _mchirp, _tau = bp.get_bounded_gwparams_from_uniform_tau_uniform_q()\n",
    "    m1.append(_m1)\n",
    "    m2.append(_m2)\n",
    "    q.append(_q)\n",
    "    mchirp.append(_mchirp)\n",
    "    tau.append(_tau)"
   ]
  },
  {
   "cell_type": "code",
   "execution_count": null,
   "metadata": {},
   "outputs": [],
   "source": [
    "plt.hist2d(m1, m2, bins=256, norm=mpl.colors.LogNorm())\n",
    "plt.xlabel('m1')\n",
    "plt.ylabel('m2')\n",
    "plt.colorbar()\n",
    "plt.show()"
   ]
  },
  {
   "cell_type": "code",
   "execution_count": null,
   "metadata": {},
   "outputs": [],
   "source": [
    "plt.hist(q, bins=128)\n",
    "plt.xlabel('q')\n",
    "plt.ylabel('N')\n",
    "plt.show()"
   ]
  },
  {
   "cell_type": "code",
   "execution_count": null,
   "metadata": {},
   "outputs": [],
   "source": [
    "plt.hist(mchirp, bins=128)\n",
    "plt.xlabel('mchirp')\n",
    "plt.ylabel('N')\n",
    "plt.show()"
   ]
  },
  {
   "cell_type": "code",
   "execution_count": null,
   "metadata": {},
   "outputs": [],
   "source": []
  }
 ],
 "metadata": {
  "kernelspec": {
   "display_name": ".venv",
   "language": "python",
   "name": "python3"
  },
  "language_info": {
   "codemirror_mode": {
    "name": "ipython",
    "version": 3
   },
   "file_extension": ".py",
   "mimetype": "text/x-python",
   "name": "python",
   "nbconvert_exporter": "python",
   "pygments_lexer": "ipython3",
   "version": "3.9.19"
  },
  "orig_nbformat": 4
 },
 "nbformat": 4,
 "nbformat_minor": 2
}
