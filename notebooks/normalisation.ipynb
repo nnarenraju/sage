{
 "cells": [
  {
   "cell_type": "code",
   "execution_count": 1,
   "metadata": {},
   "outputs": [],
   "source": [
    "class Normalise:\n",
    "    \"\"\"\n",
    "    Normalise the parameter using prior ranges\n",
    "    \n",
    "        For example, norm_tc = (tc - min_val)/(max_val - min_val)\n",
    "        The values of max_val and min_val are provided\n",
    "        to the class. self.get_norm can be called during\n",
    "        data generation to get normalised values of tc, if needed.\n",
    "    \n",
    "    \"\"\"\n",
    "    \n",
    "    def __init__(self, min_val, max_val):\n",
    "        self.min_val = min_val\n",
    "        self.max_val = max_val\n",
    "\n",
    "    def norm(self, val):\n",
    "        # Return lambda to use for normalisation\n",
    "        return (val - self.min_val)/(self.max_val - self.min_val)\n",
    "\n",
    "def get_normalisations():\n",
    "    # Normalise chirp mass\n",
    "    ml = 7.0\n",
    "    mu = 50.0\n",
    "    # m2 will always be slightly lower than m1, but (m, m) will give limit\n",
    "    # that the mchirp will never reach but tends to as num_samples tends to inf.\n",
    "    # Range for mchirp can be written as --> (min_mchirp, max_mchirp)\n",
    "    min_mchirp = (ml*ml / (ml+ml)**2.)**(3./5) * (ml + ml)\n",
    "    max_mchirp = (mu*mu / (mu+mu)**2.)**(3./5) * (mu + mu)\n",
    "    norm_mchirp = Normalise(min_val=min_mchirp, max_val=max_mchirp)\n",
    "    return norm_mchirp"
   ]
  },
  {
   "cell_type": "code",
   "execution_count": 3,
   "metadata": {},
   "outputs": [],
   "source": [
    "ml = 7.0\n",
    "mu = 50.0\n",
    "mc_low = (ml*ml / (ml+ml)**2.)**(3./5) * (ml + ml)\n",
    "mc_high = (mu*mu / (mu+mu)**2.)**(3./5) * (mu + mu)\n",
    "norm_mchirp = get_normalisations()"
   ]
  },
  {
   "cell_type": "code",
   "execution_count": 8,
   "metadata": {},
   "outputs": [
    {
     "data": {
      "text/plain": [
       "1.0"
      ]
     },
     "execution_count": 8,
     "metadata": {},
     "output_type": "execute_result"
    }
   ],
   "source": [
    "norm_mchirp.norm(mc_high)"
   ]
  },
  {
   "cell_type": "code",
   "execution_count": null,
   "metadata": {},
   "outputs": [],
   "source": []
  }
 ],
 "metadata": {
  "kernelspec": {
   "display_name": "Python 3 (ipykernel)",
   "language": "python",
   "name": "python3"
  },
  "language_info": {
   "codemirror_mode": {
    "name": "ipython",
    "version": 3
   },
   "file_extension": ".py",
   "mimetype": "text/x-python",
   "name": "python",
   "nbconvert_exporter": "python",
   "pygments_lexer": "ipython3",
   "version": "3.9.20"
  },
  "orig_nbformat": 4
 },
 "nbformat": 4,
 "nbformat_minor": 2
}
