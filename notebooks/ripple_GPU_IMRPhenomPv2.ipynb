{
 "cells": [
  {
   "cell_type": "markdown",
   "metadata": {},
   "source": [
    "# Testing GPU-based IMRPhenom with Ripple\n",
    "-- Comparison with LALSimulation and PyCBC"
   ]
  },
  {
   "cell_type": "markdown",
   "metadata": {},
   "source": [
    "### Package Installations"
   ]
  },
  {
   "cell_type": "code",
   "execution_count": 34,
   "metadata": {},
   "outputs": [
    {
     "name": "stdout",
     "output_type": "stream",
     "text": [
      "Requirement already satisfied: lalsuite in /home/nnarenraju/Research/ORChiD/DEBUGGING/ML-GWSC1-Glasgow/source/baseline/.venv/lib/python3.9/site-packages (7.21)\n",
      "Requirement already satisfied: astropy in /home/nnarenraju/Research/ORChiD/DEBUGGING/ML-GWSC1-Glasgow/source/baseline/.venv/lib/python3.9/site-packages (from lalsuite) (6.0.0)\n",
      "Requirement already satisfied: ligo-segments in /home/nnarenraju/Research/ORChiD/DEBUGGING/ML-GWSC1-Glasgow/source/baseline/.venv/lib/python3.9/site-packages (from lalsuite) (1.4.0)\n",
      "Requirement already satisfied: lscsoft-glue in /home/nnarenraju/Research/ORChiD/DEBUGGING/ML-GWSC1-Glasgow/source/baseline/.venv/lib/python3.9/site-packages (from lalsuite) (3.0.1)\n",
      "Requirement already satisfied: matplotlib in /home/nnarenraju/Research/ORChiD/DEBUGGING/ML-GWSC1-Glasgow/source/baseline/.venv/lib/python3.9/site-packages (from lalsuite) (3.8.2)\n",
      "Requirement already satisfied: numpy>=1.7 in /home/nnarenraju/Research/ORChiD/DEBUGGING/ML-GWSC1-Glasgow/source/baseline/.venv/lib/python3.9/site-packages (from lalsuite) (1.26.2)\n",
      "Requirement already satisfied: python-dateutil in /home/nnarenraju/Research/ORChiD/DEBUGGING/ML-GWSC1-Glasgow/source/baseline/.venv/lib/python3.9/site-packages (from lalsuite) (2.8.2)\n",
      "Requirement already satisfied: scipy in /home/nnarenraju/Research/ORChiD/DEBUGGING/ML-GWSC1-Glasgow/source/baseline/.venv/lib/python3.9/site-packages (from lalsuite) (1.11.4)\n",
      "Requirement already satisfied: pyerfa>=2.0 in /home/nnarenraju/Research/ORChiD/DEBUGGING/ML-GWSC1-Glasgow/source/baseline/.venv/lib/python3.9/site-packages (from astropy->lalsuite) (2.0.1.1)\n",
      "Requirement already satisfied: astropy-iers-data>=0.2023.10.30.0.29.53 in /home/nnarenraju/Research/ORChiD/DEBUGGING/ML-GWSC1-Glasgow/source/baseline/.venv/lib/python3.9/site-packages (from astropy->lalsuite) (0.2023.12.4.0.30.20)\n",
      "Requirement already satisfied: PyYAML>=3.13 in /home/nnarenraju/Research/ORChiD/DEBUGGING/ML-GWSC1-Glasgow/source/baseline/.venv/lib/python3.9/site-packages (from astropy->lalsuite) (6.0.1)\n",
      "Requirement already satisfied: packaging>=19.0 in /home/nnarenraju/Research/ORChiD/DEBUGGING/ML-GWSC1-Glasgow/source/baseline/.venv/lib/python3.9/site-packages (from astropy->lalsuite) (23.2)\n",
      "Requirement already satisfied: six in /home/nnarenraju/Research/ORChiD/DEBUGGING/ML-GWSC1-Glasgow/source/baseline/.venv/lib/python3.9/site-packages (from ligo-segments->lalsuite) (1.16.0)\n",
      "Requirement already satisfied: pyOpenSSL in /home/nnarenraju/Research/ORChiD/DEBUGGING/ML-GWSC1-Glasgow/source/baseline/.venv/lib/python3.9/site-packages (from lscsoft-glue->lalsuite) (23.3.0)\n",
      "Requirement already satisfied: pyRXP in /home/nnarenraju/Research/ORChiD/DEBUGGING/ML-GWSC1-Glasgow/source/baseline/.venv/lib/python3.9/site-packages (from lscsoft-glue->lalsuite) (3.0.1)\n",
      "Requirement already satisfied: contourpy>=1.0.1 in /home/nnarenraju/Research/ORChiD/DEBUGGING/ML-GWSC1-Glasgow/source/baseline/.venv/lib/python3.9/site-packages (from matplotlib->lalsuite) (1.2.0)\n",
      "Requirement already satisfied: cycler>=0.10 in /home/nnarenraju/Research/ORChiD/DEBUGGING/ML-GWSC1-Glasgow/source/baseline/.venv/lib/python3.9/site-packages (from matplotlib->lalsuite) (0.12.1)\n",
      "Requirement already satisfied: fonttools>=4.22.0 in /home/nnarenraju/Research/ORChiD/DEBUGGING/ML-GWSC1-Glasgow/source/baseline/.venv/lib/python3.9/site-packages (from matplotlib->lalsuite) (4.46.0)\n",
      "Requirement already satisfied: kiwisolver>=1.3.1 in /home/nnarenraju/Research/ORChiD/DEBUGGING/ML-GWSC1-Glasgow/source/baseline/.venv/lib/python3.9/site-packages (from matplotlib->lalsuite) (1.4.5)\n",
      "Requirement already satisfied: pillow>=8 in /home/nnarenraju/Research/ORChiD/DEBUGGING/ML-GWSC1-Glasgow/source/baseline/.venv/lib/python3.9/site-packages (from matplotlib->lalsuite) (10.1.0)\n",
      "Requirement already satisfied: pyparsing>=2.3.1 in /home/nnarenraju/Research/ORChiD/DEBUGGING/ML-GWSC1-Glasgow/source/baseline/.venv/lib/python3.9/site-packages (from matplotlib->lalsuite) (3.1.1)\n",
      "Requirement already satisfied: importlib-resources>=3.2.0 in /home/nnarenraju/Research/ORChiD/DEBUGGING/ML-GWSC1-Glasgow/source/baseline/.venv/lib/python3.9/site-packages (from matplotlib->lalsuite) (6.1.1)\n",
      "Requirement already satisfied: zipp>=3.1.0 in /home/nnarenraju/Research/ORChiD/DEBUGGING/ML-GWSC1-Glasgow/source/baseline/.venv/lib/python3.9/site-packages (from importlib-resources>=3.2.0->matplotlib->lalsuite) (3.17.0)\n",
      "Requirement already satisfied: cryptography<42,>=41.0.5 in /home/nnarenraju/Research/ORChiD/DEBUGGING/ML-GWSC1-Glasgow/source/baseline/.venv/lib/python3.9/site-packages (from pyOpenSSL->lscsoft-glue->lalsuite) (41.0.7)\n",
      "Requirement already satisfied: cffi>=1.12 in /home/nnarenraju/Research/ORChiD/DEBUGGING/ML-GWSC1-Glasgow/source/baseline/.venv/lib/python3.9/site-packages (from cryptography<42,>=41.0.5->pyOpenSSL->lscsoft-glue->lalsuite) (1.16.0)\n",
      "Requirement already satisfied: pycparser in /home/nnarenraju/Research/ORChiD/DEBUGGING/ML-GWSC1-Glasgow/source/baseline/.venv/lib/python3.9/site-packages (from cffi>=1.12->cryptography<42,>=41.0.5->pyOpenSSL->lscsoft-glue->lalsuite) (2.21)\n",
      "\n",
      "\u001b[1m[\u001b[0m\u001b[34;49mnotice\u001b[0m\u001b[1;39;49m]\u001b[0m\u001b[39;49m A new release of pip is available: \u001b[0m\u001b[31;49m23.3.1\u001b[0m\u001b[39;49m -> \u001b[0m\u001b[32;49m23.3.2\u001b[0m\n",
      "\u001b[1m[\u001b[0m\u001b[34;49mnotice\u001b[0m\u001b[1;39;49m]\u001b[0m\u001b[39;49m To update, run: \u001b[0m\u001b[32;49mpip install --upgrade pip\u001b[0m\n",
      "Requirement already satisfied: jax in /home/nnarenraju/Research/ORChiD/DEBUGGING/ML-GWSC1-Glasgow/source/baseline/.venv/lib/python3.9/site-packages (0.4.23)\n",
      "Requirement already satisfied: ml-dtypes>=0.2.0 in /home/nnarenraju/Research/ORChiD/DEBUGGING/ML-GWSC1-Glasgow/source/baseline/.venv/lib/python3.9/site-packages (from jax) (0.3.1)\n",
      "Requirement already satisfied: numpy>=1.22 in /home/nnarenraju/Research/ORChiD/DEBUGGING/ML-GWSC1-Glasgow/source/baseline/.venv/lib/python3.9/site-packages (from jax) (1.26.2)\n",
      "Requirement already satisfied: opt-einsum in /home/nnarenraju/Research/ORChiD/DEBUGGING/ML-GWSC1-Glasgow/source/baseline/.venv/lib/python3.9/site-packages (from jax) (3.3.0)\n",
      "Requirement already satisfied: scipy>=1.9 in /home/nnarenraju/Research/ORChiD/DEBUGGING/ML-GWSC1-Glasgow/source/baseline/.venv/lib/python3.9/site-packages (from jax) (1.11.4)\n",
      "Requirement already satisfied: importlib-metadata>=4.6 in /home/nnarenraju/Research/ORChiD/DEBUGGING/ML-GWSC1-Glasgow/source/baseline/.venv/lib/python3.9/site-packages (from jax) (7.0.0)\n",
      "Requirement already satisfied: zipp>=0.5 in /home/nnarenraju/Research/ORChiD/DEBUGGING/ML-GWSC1-Glasgow/source/baseline/.venv/lib/python3.9/site-packages (from importlib-metadata>=4.6->jax) (3.17.0)\n",
      "\n",
      "\u001b[1m[\u001b[0m\u001b[34;49mnotice\u001b[0m\u001b[1;39;49m]\u001b[0m\u001b[39;49m A new release of pip is available: \u001b[0m\u001b[31;49m23.3.1\u001b[0m\u001b[39;49m -> \u001b[0m\u001b[32;49m23.3.2\u001b[0m\n",
      "\u001b[1m[\u001b[0m\u001b[34;49mnotice\u001b[0m\u001b[1;39;49m]\u001b[0m\u001b[39;49m To update, run: \u001b[0m\u001b[32;49mpip install --upgrade pip\u001b[0m\n",
      "Looking in links: https://storage.googleapis.com/jax-releases/jax_cuda_releases.html\n",
      "Requirement already satisfied: jax[cuda12_pip] in /home/nnarenraju/Research/ORChiD/DEBUGGING/ML-GWSC1-Glasgow/source/baseline/.venv/lib/python3.9/site-packages (0.4.23)\n",
      "\u001b[33mWARNING: jax 0.4.23 does not provide the extra 'cuda12-pip'\u001b[0m\u001b[33m\n",
      "\u001b[0mRequirement already satisfied: ml-dtypes>=0.2.0 in /home/nnarenraju/Research/ORChiD/DEBUGGING/ML-GWSC1-Glasgow/source/baseline/.venv/lib/python3.9/site-packages (from jax[cuda12_pip]) (0.3.1)\n",
      "Requirement already satisfied: numpy>=1.22 in /home/nnarenraju/Research/ORChiD/DEBUGGING/ML-GWSC1-Glasgow/source/baseline/.venv/lib/python3.9/site-packages (from jax[cuda12_pip]) (1.26.2)\n",
      "Requirement already satisfied: opt-einsum in /home/nnarenraju/Research/ORChiD/DEBUGGING/ML-GWSC1-Glasgow/source/baseline/.venv/lib/python3.9/site-packages (from jax[cuda12_pip]) (3.3.0)\n",
      "Requirement already satisfied: scipy>=1.9 in /home/nnarenraju/Research/ORChiD/DEBUGGING/ML-GWSC1-Glasgow/source/baseline/.venv/lib/python3.9/site-packages (from jax[cuda12_pip]) (1.11.4)\n",
      "Requirement already satisfied: importlib-metadata>=4.6 in /home/nnarenraju/Research/ORChiD/DEBUGGING/ML-GWSC1-Glasgow/source/baseline/.venv/lib/python3.9/site-packages (from jax[cuda12_pip]) (7.0.0)\n",
      "Collecting jaxlib==0.4.23+cuda12.cudnn89 (from jax[cuda12_pip])\n",
      "  Downloading https://storage.googleapis.com/jax-releases/cuda12/jaxlib-0.4.23%2Bcuda12.cudnn89-cp39-cp39-manylinux2014_x86_64.whl (131.8 MB)\n",
      "\u001b[2K     \u001b[90m━━━━━━━━━━━━━━━━━━━━━━━━━━━━━━━━━━━━━━\u001b[0m \u001b[32m131.8/131.8 MB\u001b[0m \u001b[31m15.0 MB/s\u001b[0m eta \u001b[36m0:00:00\u001b[0m00:01\u001b[0m00:01\u001b[0m\n",
      "\u001b[?25hRequirement already satisfied: nvidia-cublas-cu12>=12.2.5.6 in /home/nnarenraju/Research/ORChiD/DEBUGGING/ML-GWSC1-Glasgow/source/baseline/.venv/lib/python3.9/site-packages (from jax[cuda12_pip]) (12.3.4.1)\n",
      "Requirement already satisfied: nvidia-cuda-cupti-cu12>=12.2.142 in /home/nnarenraju/Research/ORChiD/DEBUGGING/ML-GWSC1-Glasgow/source/baseline/.venv/lib/python3.9/site-packages (from jax[cuda12_pip]) (12.3.101)\n",
      "Requirement already satisfied: nvidia-cuda-nvcc-cu12>=12.2.140 in /home/nnarenraju/Research/ORChiD/DEBUGGING/ML-GWSC1-Glasgow/source/baseline/.venv/lib/python3.9/site-packages (from jax[cuda12_pip]) (12.3.103)\n",
      "Requirement already satisfied: nvidia-cuda-runtime-cu12>=12.2.140 in /home/nnarenraju/Research/ORChiD/DEBUGGING/ML-GWSC1-Glasgow/source/baseline/.venv/lib/python3.9/site-packages (from jax[cuda12_pip]) (12.3.101)\n",
      "Requirement already satisfied: nvidia-cudnn-cu12>=8.9 in /home/nnarenraju/Research/ORChiD/DEBUGGING/ML-GWSC1-Glasgow/source/baseline/.venv/lib/python3.9/site-packages (from jax[cuda12_pip]) (8.9.2.26)\n",
      "Requirement already satisfied: nvidia-cufft-cu12>=11.0.8.103 in /home/nnarenraju/Research/ORChiD/DEBUGGING/ML-GWSC1-Glasgow/source/baseline/.venv/lib/python3.9/site-packages (from jax[cuda12_pip]) (11.0.12.1)\n",
      "Requirement already satisfied: nvidia-cusolver-cu12>=11.5.2 in /home/nnarenraju/Research/ORChiD/DEBUGGING/ML-GWSC1-Glasgow/source/baseline/.venv/lib/python3.9/site-packages (from jax[cuda12_pip]) (11.5.4.101)\n",
      "Requirement already satisfied: nvidia-cusparse-cu12>=12.1.2.141 in /home/nnarenraju/Research/ORChiD/DEBUGGING/ML-GWSC1-Glasgow/source/baseline/.venv/lib/python3.9/site-packages (from jax[cuda12_pip]) (12.2.0.103)\n",
      "Requirement already satisfied: nvidia-nccl-cu12>=2.18.3 in /home/nnarenraju/Research/ORChiD/DEBUGGING/ML-GWSC1-Glasgow/source/baseline/.venv/lib/python3.9/site-packages (from jax[cuda12_pip]) (2.19.3)\n",
      "Requirement already satisfied: nvidia-nvjitlink-cu12>=12.2 in /home/nnarenraju/Research/ORChiD/DEBUGGING/ML-GWSC1-Glasgow/source/baseline/.venv/lib/python3.9/site-packages (from jax[cuda12_pip]) (12.3.101)\n",
      "Requirement already satisfied: zipp>=0.5 in /home/nnarenraju/Research/ORChiD/DEBUGGING/ML-GWSC1-Glasgow/source/baseline/.venv/lib/python3.9/site-packages (from importlib-metadata>=4.6->jax[cuda12_pip]) (3.17.0)\n",
      "Installing collected packages: jaxlib\n",
      "  Attempting uninstall: jaxlib\n",
      "    Found existing installation: jaxlib 0.4.23\n",
      "    Uninstalling jaxlib-0.4.23:\n",
      "      Successfully uninstalled jaxlib-0.4.23\n",
      "\u001b[33m  WARNING: Failed to remove contents in a temporary directory '/home/nnarenraju/Research/ORChiD/DEBUGGING/ML-GWSC1-Glasgow/source/baseline/.venv/lib/python3.9/site-packages/~-xlib'.\n",
      "  You can safely remove it manually.\u001b[0m\u001b[33m\n",
      "\u001b[0mSuccessfully installed jaxlib-0.4.23+cuda12.cudnn89\n",
      "\n",
      "\u001b[1m[\u001b[0m\u001b[34;49mnotice\u001b[0m\u001b[1;39;49m]\u001b[0m\u001b[39;49m A new release of pip is available: \u001b[0m\u001b[31;49m23.3.1\u001b[0m\u001b[39;49m -> \u001b[0m\u001b[32;49m23.3.2\u001b[0m\n",
      "\u001b[1m[\u001b[0m\u001b[34;49mnotice\u001b[0m\u001b[1;39;49m]\u001b[0m\u001b[39;49m To update, run: \u001b[0m\u001b[32;49mpip install --upgrade pip\u001b[0m\n",
      "Requirement already satisfied: ripplegw in /home/nnarenraju/Research/ORChiD/DEBUGGING/ML-GWSC1-Glasgow/source/baseline/.venv/lib/python3.9/site-packages (0.0.4)\n",
      "Requirement already satisfied: jax in /home/nnarenraju/Research/ORChiD/DEBUGGING/ML-GWSC1-Glasgow/source/baseline/.venv/lib/python3.9/site-packages (from ripplegw) (0.4.23)\n",
      "Requirement already satisfied: jaxlib in /home/nnarenraju/Research/ORChiD/DEBUGGING/ML-GWSC1-Glasgow/source/baseline/.venv/lib/python3.9/site-packages (from ripplegw) (0.4.23+cuda12.cudnn89)\n",
      "Requirement already satisfied: numpy in /home/nnarenraju/Research/ORChiD/DEBUGGING/ML-GWSC1-Glasgow/source/baseline/.venv/lib/python3.9/site-packages (from ripplegw) (1.26.2)\n",
      "Requirement already satisfied: ml-dtypes>=0.2.0 in /home/nnarenraju/Research/ORChiD/DEBUGGING/ML-GWSC1-Glasgow/source/baseline/.venv/lib/python3.9/site-packages (from jax->ripplegw) (0.3.1)\n",
      "Requirement already satisfied: opt-einsum in /home/nnarenraju/Research/ORChiD/DEBUGGING/ML-GWSC1-Glasgow/source/baseline/.venv/lib/python3.9/site-packages (from jax->ripplegw) (3.3.0)\n",
      "Requirement already satisfied: scipy>=1.9 in /home/nnarenraju/Research/ORChiD/DEBUGGING/ML-GWSC1-Glasgow/source/baseline/.venv/lib/python3.9/site-packages (from jax->ripplegw) (1.11.4)\n",
      "Requirement already satisfied: importlib-metadata>=4.6 in /home/nnarenraju/Research/ORChiD/DEBUGGING/ML-GWSC1-Glasgow/source/baseline/.venv/lib/python3.9/site-packages (from jax->ripplegw) (7.0.0)\n",
      "Requirement already satisfied: zipp>=0.5 in /home/nnarenraju/Research/ORChiD/DEBUGGING/ML-GWSC1-Glasgow/source/baseline/.venv/lib/python3.9/site-packages (from importlib-metadata>=4.6->jax->ripplegw) (3.17.0)\n",
      "\n",
      "\u001b[1m[\u001b[0m\u001b[34;49mnotice\u001b[0m\u001b[1;39;49m]\u001b[0m\u001b[39;49m A new release of pip is available: \u001b[0m\u001b[31;49m23.3.1\u001b[0m\u001b[39;49m -> \u001b[0m\u001b[32;49m23.3.2\u001b[0m\n",
      "\u001b[1m[\u001b[0m\u001b[34;49mnotice\u001b[0m\u001b[1;39;49m]\u001b[0m\u001b[39;49m To update, run: \u001b[0m\u001b[32;49mpip install --upgrade pip\u001b[0m\n",
      "Requirement already satisfied: matplotlib in /home/nnarenraju/Research/ORChiD/DEBUGGING/ML-GWSC1-Glasgow/source/baseline/.venv/lib/python3.9/site-packages (3.8.2)\n",
      "Requirement already satisfied: contourpy>=1.0.1 in /home/nnarenraju/Research/ORChiD/DEBUGGING/ML-GWSC1-Glasgow/source/baseline/.venv/lib/python3.9/site-packages (from matplotlib) (1.2.0)\n",
      "Requirement already satisfied: cycler>=0.10 in /home/nnarenraju/Research/ORChiD/DEBUGGING/ML-GWSC1-Glasgow/source/baseline/.venv/lib/python3.9/site-packages (from matplotlib) (0.12.1)\n",
      "Requirement already satisfied: fonttools>=4.22.0 in /home/nnarenraju/Research/ORChiD/DEBUGGING/ML-GWSC1-Glasgow/source/baseline/.venv/lib/python3.9/site-packages (from matplotlib) (4.46.0)\n",
      "Requirement already satisfied: kiwisolver>=1.3.1 in /home/nnarenraju/Research/ORChiD/DEBUGGING/ML-GWSC1-Glasgow/source/baseline/.venv/lib/python3.9/site-packages (from matplotlib) (1.4.5)\n",
      "Requirement already satisfied: numpy<2,>=1.21 in /home/nnarenraju/Research/ORChiD/DEBUGGING/ML-GWSC1-Glasgow/source/baseline/.venv/lib/python3.9/site-packages (from matplotlib) (1.26.2)\n",
      "Requirement already satisfied: packaging>=20.0 in /home/nnarenraju/Research/ORChiD/DEBUGGING/ML-GWSC1-Glasgow/source/baseline/.venv/lib/python3.9/site-packages (from matplotlib) (23.2)\n",
      "Requirement already satisfied: pillow>=8 in /home/nnarenraju/Research/ORChiD/DEBUGGING/ML-GWSC1-Glasgow/source/baseline/.venv/lib/python3.9/site-packages (from matplotlib) (10.1.0)\n",
      "Requirement already satisfied: pyparsing>=2.3.1 in /home/nnarenraju/Research/ORChiD/DEBUGGING/ML-GWSC1-Glasgow/source/baseline/.venv/lib/python3.9/site-packages (from matplotlib) (3.1.1)\n",
      "Requirement already satisfied: python-dateutil>=2.7 in /home/nnarenraju/Research/ORChiD/DEBUGGING/ML-GWSC1-Glasgow/source/baseline/.venv/lib/python3.9/site-packages (from matplotlib) (2.8.2)\n",
      "Requirement already satisfied: importlib-resources>=3.2.0 in /home/nnarenraju/Research/ORChiD/DEBUGGING/ML-GWSC1-Glasgow/source/baseline/.venv/lib/python3.9/site-packages (from matplotlib) (6.1.1)\n",
      "Requirement already satisfied: zipp>=3.1.0 in /home/nnarenraju/Research/ORChiD/DEBUGGING/ML-GWSC1-Glasgow/source/baseline/.venv/lib/python3.9/site-packages (from importlib-resources>=3.2.0->matplotlib) (3.17.0)\n",
      "Requirement already satisfied: six>=1.5 in /home/nnarenraju/Research/ORChiD/DEBUGGING/ML-GWSC1-Glasgow/source/baseline/.venv/lib/python3.9/site-packages (from python-dateutil>=2.7->matplotlib) (1.16.0)\n",
      "\n",
      "\u001b[1m[\u001b[0m\u001b[34;49mnotice\u001b[0m\u001b[1;39;49m]\u001b[0m\u001b[39;49m A new release of pip is available: \u001b[0m\u001b[31;49m23.3.1\u001b[0m\u001b[39;49m -> \u001b[0m\u001b[32;49m23.3.2\u001b[0m\n",
      "\u001b[1m[\u001b[0m\u001b[34;49mnotice\u001b[0m\u001b[1;39;49m]\u001b[0m\u001b[39;49m To update, run: \u001b[0m\u001b[32;49mpip install --upgrade pip\u001b[0m\n",
      "Requirement already satisfied: gwosc in /home/nnarenraju/Research/ORChiD/DEBUGGING/ML-GWSC1-Glasgow/source/baseline/.venv/lib/python3.9/site-packages (0.7.1)\n",
      "Requirement already satisfied: requests>=1.0.0 in /home/nnarenraju/Research/ORChiD/DEBUGGING/ML-GWSC1-Glasgow/source/baseline/.venv/lib/python3.9/site-packages (from gwosc) (2.31.0)\n",
      "Requirement already satisfied: charset-normalizer<4,>=2 in /home/nnarenraju/Research/ORChiD/DEBUGGING/ML-GWSC1-Glasgow/source/baseline/.venv/lib/python3.9/site-packages (from requests>=1.0.0->gwosc) (3.3.2)\n",
      "Requirement already satisfied: idna<4,>=2.5 in /home/nnarenraju/Research/ORChiD/DEBUGGING/ML-GWSC1-Glasgow/source/baseline/.venv/lib/python3.9/site-packages (from requests>=1.0.0->gwosc) (3.6)\n",
      "Requirement already satisfied: urllib3<3,>=1.21.1 in /home/nnarenraju/Research/ORChiD/DEBUGGING/ML-GWSC1-Glasgow/source/baseline/.venv/lib/python3.9/site-packages (from requests>=1.0.0->gwosc) (2.1.0)\n",
      "Requirement already satisfied: certifi>=2017.4.17 in /home/nnarenraju/Research/ORChiD/DEBUGGING/ML-GWSC1-Glasgow/source/baseline/.venv/lib/python3.9/site-packages (from requests>=1.0.0->gwosc) (2023.11.17)\n",
      "\n",
      "\u001b[1m[\u001b[0m\u001b[34;49mnotice\u001b[0m\u001b[1;39;49m]\u001b[0m\u001b[39;49m A new release of pip is available: \u001b[0m\u001b[31;49m23.3.1\u001b[0m\u001b[39;49m -> \u001b[0m\u001b[32;49m23.3.2\u001b[0m\n",
      "\u001b[1m[\u001b[0m\u001b[34;49mnotice\u001b[0m\u001b[1;39;49m]\u001b[0m\u001b[39;49m To update, run: \u001b[0m\u001b[32;49mpip install --upgrade pip\u001b[0m\n",
      "Requirement already satisfied: gwpy in /home/nnarenraju/Research/ORChiD/DEBUGGING/ML-GWSC1-Glasgow/source/baseline/.venv/lib/python3.9/site-packages (3.0.7)\n",
      "Requirement already satisfied: astropy>=4.3.0 in /home/nnarenraju/Research/ORChiD/DEBUGGING/ML-GWSC1-Glasgow/source/baseline/.venv/lib/python3.9/site-packages (from gwpy) (6.0.0)\n",
      "Requirement already satisfied: dqsegdb2 in /home/nnarenraju/Research/ORChiD/DEBUGGING/ML-GWSC1-Glasgow/source/baseline/.venv/lib/python3.9/site-packages (from gwpy) (1.2.1)\n",
      "Requirement already satisfied: gwdatafind>=1.1.0 in /home/nnarenraju/Research/ORChiD/DEBUGGING/ML-GWSC1-Glasgow/source/baseline/.venv/lib/python3.9/site-packages (from gwpy) (1.1.3)\n",
      "Requirement already satisfied: gwosc>=0.5.3 in /home/nnarenraju/Research/ORChiD/DEBUGGING/ML-GWSC1-Glasgow/source/baseline/.venv/lib/python3.9/site-packages (from gwpy) (0.7.1)\n",
      "Requirement already satisfied: h5py>=3.0.0 in /home/nnarenraju/Research/ORChiD/DEBUGGING/ML-GWSC1-Glasgow/source/baseline/.venv/lib/python3.9/site-packages (from gwpy) (3.10.0)\n",
      "Requirement already satisfied: ligo-segments>=1.0.0 in /home/nnarenraju/Research/ORChiD/DEBUGGING/ML-GWSC1-Glasgow/source/baseline/.venv/lib/python3.9/site-packages (from gwpy) (1.4.0)\n",
      "Requirement already satisfied: ligotimegps>=1.2.1 in /home/nnarenraju/Research/ORChiD/DEBUGGING/ML-GWSC1-Glasgow/source/baseline/.venv/lib/python3.9/site-packages (from gwpy) (2.0.1)\n",
      "Requirement already satisfied: matplotlib>=3.3.0 in /home/nnarenraju/Research/ORChiD/DEBUGGING/ML-GWSC1-Glasgow/source/baseline/.venv/lib/python3.9/site-packages (from gwpy) (3.8.2)\n",
      "Requirement already satisfied: numpy>=1.19 in /home/nnarenraju/Research/ORChiD/DEBUGGING/ML-GWSC1-Glasgow/source/baseline/.venv/lib/python3.9/site-packages (from gwpy) (1.26.2)\n",
      "Requirement already satisfied: python-dateutil in /home/nnarenraju/Research/ORChiD/DEBUGGING/ML-GWSC1-Glasgow/source/baseline/.venv/lib/python3.9/site-packages (from gwpy) (2.8.2)\n",
      "Requirement already satisfied: requests in /home/nnarenraju/Research/ORChiD/DEBUGGING/ML-GWSC1-Glasgow/source/baseline/.venv/lib/python3.9/site-packages (from gwpy) (2.31.0)\n",
      "Requirement already satisfied: scipy>=1.5.0 in /home/nnarenraju/Research/ORChiD/DEBUGGING/ML-GWSC1-Glasgow/source/baseline/.venv/lib/python3.9/site-packages (from gwpy) (1.11.4)\n",
      "Requirement already satisfied: tqdm>=4.10.0 in /home/nnarenraju/Research/ORChiD/DEBUGGING/ML-GWSC1-Glasgow/source/baseline/.venv/lib/python3.9/site-packages (from gwpy) (4.66.1)\n",
      "Requirement already satisfied: pyerfa>=2.0 in /home/nnarenraju/Research/ORChiD/DEBUGGING/ML-GWSC1-Glasgow/source/baseline/.venv/lib/python3.9/site-packages (from astropy>=4.3.0->gwpy) (2.0.1.1)\n",
      "Requirement already satisfied: astropy-iers-data>=0.2023.10.30.0.29.53 in /home/nnarenraju/Research/ORChiD/DEBUGGING/ML-GWSC1-Glasgow/source/baseline/.venv/lib/python3.9/site-packages (from astropy>=4.3.0->gwpy) (0.2023.12.4.0.30.20)\n",
      "Requirement already satisfied: PyYAML>=3.13 in /home/nnarenraju/Research/ORChiD/DEBUGGING/ML-GWSC1-Glasgow/source/baseline/.venv/lib/python3.9/site-packages (from astropy>=4.3.0->gwpy) (6.0.1)\n",
      "Requirement already satisfied: packaging>=19.0 in /home/nnarenraju/Research/ORChiD/DEBUGGING/ML-GWSC1-Glasgow/source/baseline/.venv/lib/python3.9/site-packages (from astropy>=4.3.0->gwpy) (23.2)\n",
      "Requirement already satisfied: igwn-auth-utils>=0.3.1 in /home/nnarenraju/Research/ORChiD/DEBUGGING/ML-GWSC1-Glasgow/source/baseline/.venv/lib/python3.9/site-packages (from gwdatafind>=1.1.0->gwpy) (1.1.0)\n",
      "Requirement already satisfied: six in /home/nnarenraju/Research/ORChiD/DEBUGGING/ML-GWSC1-Glasgow/source/baseline/.venv/lib/python3.9/site-packages (from ligo-segments>=1.0.0->gwpy) (1.16.0)\n",
      "Requirement already satisfied: contourpy>=1.0.1 in /home/nnarenraju/Research/ORChiD/DEBUGGING/ML-GWSC1-Glasgow/source/baseline/.venv/lib/python3.9/site-packages (from matplotlib>=3.3.0->gwpy) (1.2.0)\n",
      "Requirement already satisfied: cycler>=0.10 in /home/nnarenraju/Research/ORChiD/DEBUGGING/ML-GWSC1-Glasgow/source/baseline/.venv/lib/python3.9/site-packages (from matplotlib>=3.3.0->gwpy) (0.12.1)\n",
      "Requirement already satisfied: fonttools>=4.22.0 in /home/nnarenraju/Research/ORChiD/DEBUGGING/ML-GWSC1-Glasgow/source/baseline/.venv/lib/python3.9/site-packages (from matplotlib>=3.3.0->gwpy) (4.46.0)\n",
      "Requirement already satisfied: kiwisolver>=1.3.1 in /home/nnarenraju/Research/ORChiD/DEBUGGING/ML-GWSC1-Glasgow/source/baseline/.venv/lib/python3.9/site-packages (from matplotlib>=3.3.0->gwpy) (1.4.5)\n",
      "Requirement already satisfied: pillow>=8 in /home/nnarenraju/Research/ORChiD/DEBUGGING/ML-GWSC1-Glasgow/source/baseline/.venv/lib/python3.9/site-packages (from matplotlib>=3.3.0->gwpy) (10.1.0)\n",
      "Requirement already satisfied: pyparsing>=2.3.1 in /home/nnarenraju/Research/ORChiD/DEBUGGING/ML-GWSC1-Glasgow/source/baseline/.venv/lib/python3.9/site-packages (from matplotlib>=3.3.0->gwpy) (3.1.1)\n",
      "Requirement already satisfied: importlib-resources>=3.2.0 in /home/nnarenraju/Research/ORChiD/DEBUGGING/ML-GWSC1-Glasgow/source/baseline/.venv/lib/python3.9/site-packages (from matplotlib>=3.3.0->gwpy) (6.1.1)\n",
      "Requirement already satisfied: charset-normalizer<4,>=2 in /home/nnarenraju/Research/ORChiD/DEBUGGING/ML-GWSC1-Glasgow/source/baseline/.venv/lib/python3.9/site-packages (from requests->gwpy) (3.3.2)\n",
      "Requirement already satisfied: idna<4,>=2.5 in /home/nnarenraju/Research/ORChiD/DEBUGGING/ML-GWSC1-Glasgow/source/baseline/.venv/lib/python3.9/site-packages (from requests->gwpy) (3.6)\n",
      "Requirement already satisfied: urllib3<3,>=1.21.1 in /home/nnarenraju/Research/ORChiD/DEBUGGING/ML-GWSC1-Glasgow/source/baseline/.venv/lib/python3.9/site-packages (from requests->gwpy) (2.1.0)\n",
      "Requirement already satisfied: certifi>=2017.4.17 in /home/nnarenraju/Research/ORChiD/DEBUGGING/ML-GWSC1-Glasgow/source/baseline/.venv/lib/python3.9/site-packages (from requests->gwpy) (2023.11.17)\n",
      "Requirement already satisfied: cryptography>=2.3 in /home/nnarenraju/Research/ORChiD/DEBUGGING/ML-GWSC1-Glasgow/source/baseline/.venv/lib/python3.9/site-packages (from igwn-auth-utils>=0.3.1->gwdatafind>=1.1.0->gwpy) (41.0.7)\n",
      "Requirement already satisfied: safe-netrc>=1.0.0 in /home/nnarenraju/Research/ORChiD/DEBUGGING/ML-GWSC1-Glasgow/source/baseline/.venv/lib/python3.9/site-packages (from igwn-auth-utils>=0.3.1->gwdatafind>=1.1.0->gwpy) (1.0.1)\n",
      "Requirement already satisfied: scitokens>=1.7.0 in /home/nnarenraju/Research/ORChiD/DEBUGGING/ML-GWSC1-Glasgow/source/baseline/.venv/lib/python3.9/site-packages (from igwn-auth-utils>=0.3.1->gwdatafind>=1.1.0->gwpy) (1.8.1)\n",
      "Requirement already satisfied: zipp>=3.1.0 in /home/nnarenraju/Research/ORChiD/DEBUGGING/ML-GWSC1-Glasgow/source/baseline/.venv/lib/python3.9/site-packages (from importlib-resources>=3.2.0->matplotlib>=3.3.0->gwpy) (3.17.0)\n",
      "Requirement already satisfied: cffi>=1.12 in /home/nnarenraju/Research/ORChiD/DEBUGGING/ML-GWSC1-Glasgow/source/baseline/.venv/lib/python3.9/site-packages (from cryptography>=2.3->igwn-auth-utils>=0.3.1->gwdatafind>=1.1.0->gwpy) (1.16.0)\n",
      "Requirement already satisfied: PyJWT>=1.6.1 in /home/nnarenraju/Research/ORChiD/DEBUGGING/ML-GWSC1-Glasgow/source/baseline/.venv/lib/python3.9/site-packages (from scitokens>=1.7.0->igwn-auth-utils>=0.3.1->gwdatafind>=1.1.0->gwpy) (2.8.0)\n",
      "Requirement already satisfied: pycparser in /home/nnarenraju/Research/ORChiD/DEBUGGING/ML-GWSC1-Glasgow/source/baseline/.venv/lib/python3.9/site-packages (from cffi>=1.12->cryptography>=2.3->igwn-auth-utils>=0.3.1->gwdatafind>=1.1.0->gwpy) (2.21)\n",
      "\n",
      "\u001b[1m[\u001b[0m\u001b[34;49mnotice\u001b[0m\u001b[1;39;49m]\u001b[0m\u001b[39;49m A new release of pip is available: \u001b[0m\u001b[31;49m23.3.1\u001b[0m\u001b[39;49m -> \u001b[0m\u001b[32;49m23.3.2\u001b[0m\n",
      "\u001b[1m[\u001b[0m\u001b[34;49mnotice\u001b[0m\u001b[1;39;49m]\u001b[0m\u001b[39;49m To update, run: \u001b[0m\u001b[32;49mpip install --upgrade pip\u001b[0m\n",
      "Requirement already satisfied: scipy in /home/nnarenraju/Research/ORChiD/DEBUGGING/ML-GWSC1-Glasgow/source/baseline/.venv/lib/python3.9/site-packages (1.11.4)\n",
      "Requirement already satisfied: numpy<1.28.0,>=1.21.6 in /home/nnarenraju/Research/ORChiD/DEBUGGING/ML-GWSC1-Glasgow/source/baseline/.venv/lib/python3.9/site-packages (from scipy) (1.26.2)\n",
      "\n",
      "\u001b[1m[\u001b[0m\u001b[34;49mnotice\u001b[0m\u001b[1;39;49m]\u001b[0m\u001b[39;49m A new release of pip is available: \u001b[0m\u001b[31;49m23.3.1\u001b[0m\u001b[39;49m -> \u001b[0m\u001b[32;49m23.3.2\u001b[0m\n",
      "\u001b[1m[\u001b[0m\u001b[34;49mnotice\u001b[0m\u001b[1;39;49m]\u001b[0m\u001b[39;49m To update, run: \u001b[0m\u001b[32;49mpip install --upgrade pip\u001b[0m\n",
      "Requirement already satisfied: numpy in /home/nnarenraju/Research/ORChiD/DEBUGGING/ML-GWSC1-Glasgow/source/baseline/.venv/lib/python3.9/site-packages (1.26.2)\n",
      "\n",
      "\u001b[1m[\u001b[0m\u001b[34;49mnotice\u001b[0m\u001b[1;39;49m]\u001b[0m\u001b[39;49m A new release of pip is available: \u001b[0m\u001b[31;49m23.3.1\u001b[0m\u001b[39;49m -> \u001b[0m\u001b[32;49m23.3.2\u001b[0m\n",
      "\u001b[1m[\u001b[0m\u001b[34;49mnotice\u001b[0m\u001b[1;39;49m]\u001b[0m\u001b[39;49m To update, run: \u001b[0m\u001b[32;49mpip install --upgrade pip\u001b[0m\n"
     ]
    }
   ],
   "source": [
    "! pip install lalsuite\n",
    "! pip install --upgrade \"jax[cuda12_pip]\" -f https://storage.googleapis.com/jax-releases/jax_cuda_releases.html\n",
    "! pip install ripplegw\n",
    "! pip install matplotlib\n",
    "! pip install gwosc\n",
    "! pip install gwpy\n",
    "! pip install scipy\n",
    "! pip install numpy"
   ]
  },
  {
   "cell_type": "markdown",
   "metadata": {},
   "source": [
    "### Import Packages"
   ]
  },
  {
   "cell_type": "code",
   "execution_count": 1,
   "metadata": {},
   "outputs": [],
   "source": [
    "# Disabling LAL warnings\n",
    "import warnings\n",
    "warnings.filterwarnings(\"ignore\", \"Wswiglal-redir-stdio\")\n",
    "\n",
    "# Plotting\n",
    "import matplotlib.pyplot as plt\n",
    "plt.rcParams.update({'font.size': 12})\n",
    "\n",
    "# Generic\n",
    "import time\n",
    "import numpy as np\n",
    "from math import pi\n",
    "from functools import partial"
   ]
  },
  {
   "cell_type": "code",
   "execution_count": 2,
   "metadata": {},
   "outputs": [],
   "source": [
    "# GWOSC Packages\n",
    "from gwosc.datasets import event_gps\n",
    "from gwpy.timeseries import TimeSeries\n",
    "from scipy.signal.windows import tukey"
   ]
  },
  {
   "cell_type": "code",
   "execution_count": 3,
   "metadata": {},
   "outputs": [],
   "source": [
    "# JAX Packages\n",
    "import jax\n",
    "import jax.numpy as jnp\n",
    "\n",
    "from jax import vmap\n",
    "from functools import partial\n",
    "\n",
    "# Jax jitted version of waveform gen returns NaNs without this\n",
    "# It may also return NaNs if improper arguments are provided (eg. PhenomD args for PhenomPv2)\n",
    "jax.config.update(\"jax_enable_x64\", True)\n",
    "\n",
    "# Enable this just in case the jitted function produces NaNs\n",
    "jax.config.update(\"jax_debug_nans\", True)"
   ]
  },
  {
   "cell_type": "code",
   "execution_count": 4,
   "metadata": {},
   "outputs": [],
   "source": [
    "# Ripple fast waveform generation\n",
    "from ripple import ms_to_Mc_eta\n",
    "from ripple.waveforms.IMRPhenomD import gen_IMRPhenomD_hphc\n",
    "from ripple.waveforms.IMRPhenomPv2 import gen_IMRPhenomPv2_hphc"
   ]
  },
  {
   "cell_type": "code",
   "execution_count": 5,
   "metadata": {},
   "outputs": [],
   "source": [
    "# LALSimulation Packages\n",
    "import lal\n",
    "import lalsimulation as lalsim"
   ]
  },
  {
   "cell_type": "code",
   "execution_count": 6,
   "metadata": {},
   "outputs": [],
   "source": [
    "# PyCBC Packages\n",
    "import pycbc\n",
    "\n",
    "from pycbc import pnutils\n",
    "from pycbc.waveform import utils as wfutils\n",
    "from pycbc.types import TimeSeries, FrequencySeries\n",
    "from pycbc.conversions import get_final_from_initial, tau_from_final_mass_spin\n",
    "\n",
    "from scipy import signal"
   ]
  },
  {
   "cell_type": "markdown",
   "metadata": {},
   "source": [
    "### @jax.jit benchmark for sanity check"
   ]
  },
  {
   "cell_type": "code",
   "execution_count": 7,
   "metadata": {},
   "outputs": [
    {
     "name": "stdout",
     "output_type": "stream",
     "text": [
      "1.91 ms ± 830 µs per loop (mean ± std. dev. of 7 runs, 1 loop each)\n"
     ]
    }
   ],
   "source": [
    "# Running a benchmark provided on the JAX website\n",
    "@jax.jit\n",
    "def selu(x, alpha=1.67, lambda_=1.05):\n",
    "  return lambda_ * jnp.where(x > 0, x, alpha * jnp.exp(x) - alpha)\n",
    "\n",
    "# This takes about 2 ms for 1e6 values on the website\n",
    "# Saw times as fast as 350 micro-seconds on this\n",
    "# However, if we run Ripple and then try to run this, it gets slower (weird???)\n",
    "x = jnp.arange(1000000)\n",
    "%timeit selu(x).block_until_ready()"
   ]
  },
  {
   "cell_type": "markdown",
   "metadata": {},
   "source": [
    "## LALSimulation Implementaiton of IMRPhenomD"
   ]
  },
  {
   "cell_type": "code",
   "execution_count": 8,
   "metadata": {},
   "outputs": [],
   "source": [
    "approximant = lalsim.SimInspiralGetApproximantFromString(\"IMRPhenomD\")\n",
    "m1_msun = 20.0 # In solar masses\n",
    "m2_msun = 19.0\n",
    "chi1 = 0.0\n",
    "chi2 = 0.0\n",
    "tc = 0.0 # Time of coalescence in seconds\n",
    "phic = 0.0\n",
    "dist_mpc = 440.0 # Distance to source in Mpc\n",
    "inclination = 0.0 # Inclination Angle\n",
    "m1_kg = m1_msun*lal.MSUN_SI\n",
    "m2_kg = m2_msun*lal.MSUN_SI\n",
    "distance = dist_mpc*1e6*lal.PC_SI\n",
    "\n",
    "# Params for freq domain waveform\n",
    "f_min = 20.0\n",
    "f_max = 2048.0\n",
    "f_ref = f_min\n",
    "df = 0.25\n",
    "sample_length_in_s = 1./df\n",
    "\n",
    "hp, hc = lalsim.SimInspiralChooseFDWaveform(m1_kg, m2_kg,\n",
    "                                            0., 0., chi1,\n",
    "                                            0., 0., chi2,\n",
    "                                            distance, inclination,\n",
    "                                            phic, 0, 0., 0.,\n",
    "                                            df, f_min, f_max, f_ref,\n",
    "                                            None, approximant)\n",
    "hp_lalsim = hp.data.data\n",
    "hc_lalsim = hc.data.data"
   ]
  },
  {
   "cell_type": "code",
   "execution_count": 9,
   "metadata": {},
   "outputs": [
    {
     "name": "stdout",
     "output_type": "stream",
     "text": [
      "Observed sample rate = 4096.0\n"
     ]
    },
    {
     "data": {
      "image/png": "[encoded data removed]",
      "text/plain": [
       "<Figure size 1000x400 with 1 Axes>"
      ]
     },
     "metadata": {},
     "output_type": "display_data"
    }
   ],
   "source": [
    "hp_lalsim_td = np.fft.irfft(hp_lalsim)\n",
    "sample_rate = len(hp_lalsim_td)/sample_length_in_s\n",
    "print('Observed sample rate = {}'.format(sample_rate))\n",
    "hp_lalsim_td /= (1./sample_rate)\n",
    "\n",
    "plt.figure(figsize=(10.0, 4.0))\n",
    "plt.plot(hp_lalsim_td)\n",
    "plt.xlabel('Samples')\n",
    "plt.ylabel('Strain')\n",
    "plt.show()"
   ]
  },
  {
   "cell_type": "markdown",
   "metadata": {},
   "source": [
    "## PyCBC Implementation of IMRPhenomD"
   ]
  },
  {
   "cell_type": "markdown",
   "metadata": {},
   "source": [
    "### Getting a time-domain waveform for comparison"
   ]
  },
  {
   "cell_type": "code",
   "execution_count": 10,
   "metadata": {},
   "outputs": [
    {
     "data": {
      "image/png": "[encoded data removed]",
      "text/plain": [
       "<Figure size 640x480 with 1 Axes>"
      ]
     },
     "metadata": {},
     "output_type": "display_data"
    }
   ],
   "source": [
    "import matplotlib.pyplot as pp\n",
    "from pycbc.waveform import get_td_waveform\n",
    "\n",
    "m1_msun = 10.0 # In solar masses\n",
    "m2_msun = 9.9\n",
    "chi1 = 0.0\n",
    "chi2 = 0.0\n",
    "tc = 0.0 # Time of coalescence in seconds\n",
    "phic = 0.0\n",
    "dist_mpc = 440.0 # Distance to source in Mpc\n",
    "inclination = 0.0 # Inclination Angle\n",
    "polarization_angle = 0 # Polarization angle\n",
    "mchirp = (m1_msun*m2_msun / (m1_msun+m2_msun)**2.)**(3./5) * (m1_msun + m2_msun)\n",
    "mchirp = round(mchirp, 2)\n",
    "\n",
    "f_ref = 20.0\n",
    "\n",
    "for apx in ['IMRPhenomD']:\n",
    "    hp_pycbc, hc_pycbc = get_td_waveform(approximant=apx,\n",
    "                                    mass1=m1_msun,\n",
    "                                    mass2=m2_msun,\n",
    "                                    spin1z=chi1,\n",
    "                                    spin2z=chi2,\n",
    "                                    delta_t=1.0/4096.,\n",
    "                                    f_lower=20.0,\n",
    "                                    f_ref=20.0,\n",
    "                                    distance=dist_mpc,\n",
    "                                    polarization=polarization_angle,\n",
    "                                    inclination=inclination)\n",
    "\n",
    "    limits = slice(None, None)\n",
    "    pp.plot(hp_pycbc.sample_times[limits], hp_pycbc[limits], label='chirp mass = {}'.format(mchirp))\n",
    "\n",
    "pp.ylabel('Strain')\n",
    "pp.xlabel('Time (s)')\n",
    "pp.xlim(-10, +1)\n",
    "pp.grid()\n",
    "pp.legend()\n",
    "pp.show()"
   ]
  },
  {
   "cell_type": "markdown",
   "metadata": {},
   "source": [
    "### Getting a frequency-domain waveform and converting to time-domain"
   ]
  },
  {
   "cell_type": "code",
   "execution_count": 11,
   "metadata": {},
   "outputs": [],
   "source": [
    "\"\"\"\n",
    "Plot a time domain and Fourier domain waveform together in the time domain.\n",
    "Note that without special cleanup the Fourier domain waveform will exhibit\n",
    "the Gibb's phenomenon. (http://en.wikipedia.org/wiki/Gibbs_phenomenon)\n",
    "\"\"\"\n",
    "\n",
    "import matplotlib.pyplot as pp\n",
    "from pycbc import types, fft, waveform\n",
    "\n",
    "# Get a frequency domain waveform\n",
    "sptilde, sctilde = waveform.get_fd_waveform(approximant=\"IMRPhenomD\",\n",
    "                             mass1=20, mass2=19, delta_f=0.25, f_lower=20, distance=440.0)\n",
    "\n",
    "# FFT it to the time-domain\n",
    "sample_rate = 4096.0\n",
    "tlen = int(1.0 / (1./sample_rate) / sptilde.delta_f)\n",
    "sptilde.resize(int(tlen/2 + 1))\n",
    "hp_pycbc_fd2td = types.TimeSeries(types.zeros(tlen), delta_t=1./sample_rate)\n",
    "fft.ifft(sptilde, hp_pycbc_fd2td)\n",
    "# check irfft with numpy\n",
    "hp_pycbc_fd2td_np = np.fft.irfft(sptilde) / (1./sample_rate)\n"
   ]
  },
  {
   "cell_type": "code",
   "execution_count": 12,
   "metadata": {},
   "outputs": [
    {
     "name": "stdout",
     "output_type": "stream",
     "text": [
      "Time taken for conversion from fd to td via PyCBC = 0.02376556396484375\n"
     ]
    }
   ],
   "source": [
    "# Use the convert to TD function in PyCBC\n",
    "waveform_kwargs = {}\n",
    "waveform_kwargs['mass1'] = 20\n",
    "waveform_kwargs['mass2'] = 19\n",
    "waveform_kwargs['approximant'] = 'IMRPhenomD'\n",
    "waveform_kwargs['delta_f'] = 0.1\n",
    "waveform_kwargs['delta_t'] = 1./sample_rate\n",
    "waveform_kwargs['distance'] = 440.0\n",
    "waveform_kwargs['f_lower'] = 20\n",
    "\n",
    "start = time.time()\n",
    "hp_corrected, hc_corrected = waveform.get_td_waveform_from_fd(**waveform_kwargs)\n",
    "end = time.time() - start\n",
    "print('Time taken for conversion from fd to td via PyCBC = {}'.format(end))"
   ]
  },
  {
   "cell_type": "code",
   "execution_count": 13,
   "metadata": {},
   "outputs": [
    {
     "data": {
      "image/png": "[encoded data removed]",
      "text/plain": [
       "<Figure size 640x480 with 1 Axes>"
      ]
     },
     "metadata": {},
     "output_type": "display_data"
    }
   ],
   "source": [
    "pp.plot(hp_corrected.sample_times, hp_corrected, label='IMRPhenomD (Corrected)', color='blue')\n",
    "pp.plot(hp_pycbc_fd2td.sample_times, hp_pycbc_fd2td, label=\"IMRPhenomD (IFFT)\", alpha=0.8, color='green')\n",
    "pp.plot(hp_pycbc_fd2td.sample_times, hp_pycbc_fd2td_np, label=\"IMRPhenomD (np.fft.irfft)\", alpha=0.8, color='red')\n",
    "\n",
    "pp.ylabel('Strain')\n",
    "pp.xlabel('Time (s)')\n",
    "pp.legend()\n",
    "pp.show()"
   ]
  },
  {
   "cell_type": "markdown",
   "metadata": {},
   "source": [
    "The PyCBC FD to TD function seems to apply a wrap-around, smooths out the Gibbs phenomenon and tapers both end of the waveform. Applying the corrections made by this function to Ripple should give us waveforms that are consistent with PyCBC."
   ]
  },
  {
   "cell_type": "markdown",
   "metadata": {},
   "source": [
    "### Comparison with LALSimulation"
   ]
  },
  {
   "cell_type": "code",
   "execution_count": 14,
   "metadata": {},
   "outputs": [
    {
     "data": {
      "image/png": "[encoded data removed]",
      "text/plain": [
       "<Figure size 640x480 with 1 Axes>"
      ]
     },
     "metadata": {},
     "output_type": "display_data"
    }
   ],
   "source": [
    "pp.plot(hp_lalsim_td, label='LALSimulation', color='blue')\n",
    "pp.plot(hp_pycbc_fd2td_np, label=\"PyCBC\", alpha=0.8, color='red')\n",
    "\n",
    "pp.ylabel('Strain')\n",
    "pp.xlabel('Time (s)')\n",
    "pp.legend()\n",
    "pp.show()"
   ]
  },
  {
   "cell_type": "code",
   "execution_count": 15,
   "metadata": {},
   "outputs": [
    {
     "name": "stdout",
     "output_type": "stream",
     "text": [
      "{0.0}\n"
     ]
    },
    {
     "data": {
      "image/png": "[encoded data removed]",
      "text/plain": [
       "<Figure size 640x480 with 1 Axes>"
      ]
     },
     "metadata": {},
     "output_type": "display_data"
    }
   ],
   "source": [
    "# For obvious reasons, the residual should be zero\n",
    "print(set(hp_lalsim_td-hp_pycbc_fd2td_np))\n",
    "pp.plot(hp_lalsim_td-hp_pycbc_fd2td_np, label='lalsim-pycbc residual')\n",
    "\n",
    "pp.ylabel('Residual Amplitude')\n",
    "pp.xlabel('Time (s)')\n",
    "pp.legend()\n",
    "pp.show()"
   ]
  },
  {
   "attachments": {},
   "cell_type": "markdown",
   "metadata": {},
   "source": [
    "## Ripple Implementation of IMRPhenomD"
   ]
  },
  {
   "cell_type": "code",
   "execution_count": 16,
   "metadata": {},
   "outputs": [
    {
     "name": "stdout",
     "output_type": "stream",
     "text": [
      "[0.00000e+00 2.50000e-01 5.00000e-01 ... 2.04750e+03 2.04775e+03\n",
      " 2.04800e+03]\n"
     ]
    }
   ],
   "source": [
    "IMRphenom = 'IMRPhenomD'\n",
    "\n",
    "m1_msun = 20.0 # In solar masses\n",
    "m2_msun = 19.0\n",
    "chi1 = 0.0\n",
    "chi2 = 0.0\n",
    "tc = 0.0 # Time of coalescence in seconds\n",
    "phic = 0.0\n",
    "dist_mpc = 440.0 # Distance to source in Mpc\n",
    "inclination = 0.0 # Inclination Angle\n",
    "polarization_angle = 0 # Polarization angle\n",
    "\n",
    "Mc, eta = ms_to_Mc_eta(jnp.array([m1_msun, m2_msun]))\n",
    "\n",
    "params = jnp.array([Mc, eta, chi1, chi2, dist_mpc, tc, phic, inclination, polarization_angle])\n",
    "\n",
    "# Get a frequency domain waveform\n",
    "f_l = 20.0\n",
    "f_u = 2048.0\n",
    "df = 0.25\n",
    "f_ref = f_l\n",
    "\n",
    "fs = np.append(np.arange(0.0, f_u, df), 2048.)\n",
    "print(fs)"
   ]
  },
  {
   "cell_type": "code",
   "execution_count": 17,
   "metadata": {},
   "outputs": [],
   "source": [
    "def waveform(theta):\n",
    "    hp, _ = gen_IMRPhenomD_hphc(fs[1:], theta, f_ref)\n",
    "    return hp"
   ]
  },
  {
   "cell_type": "code",
   "execution_count": 18,
   "metadata": {},
   "outputs": [
    {
     "name": "stdout",
     "output_type": "stream",
     "text": [
      "[0.+0.j 0.+0.j 0.+0.j ... 0.+0.j 0.+0.j 0.+0.j]\n"
     ]
    }
   ],
   "source": [
    "hp_ripple = waveform(params)\n",
    "# restore zero-frequency component\n",
    "hp_ripple = np.insert(hp_ripple, 0, 0)\n",
    "hp_ripple = np.array(hp_ripple)\n",
    "hp_ripple[fs < 20] = 0.0 # ad-hoc high pass filtering\n",
    "print(hp_ripple)"
   ]
  },
  {
   "cell_type": "markdown",
   "metadata": {},
   "source": [
    "### Comparison of Ripple and LALSimulation"
   ]
  },
  {
   "cell_type": "code",
   "execution_count": 19,
   "metadata": {},
   "outputs": [
    {
     "data": {
      "image/png": "[encoded data removed]",
      "text/plain": [
       "<Figure size 640x480 with 1 Axes>"
      ]
     },
     "metadata": {},
     "output_type": "display_data"
    },
    {
     "name": "stdout",
     "output_type": "stream",
     "text": [
      "Sample duration observed (Ripple) = 4.0\n",
      "Length of sample (Ripple) = 16384\n",
      "Observed sample rate = 4096.0\n"
     ]
    }
   ],
   "source": [
    "hp_ripple_td = np.fft.irfft(hp_ripple)\n",
    "sample_rate = len(hp_ripple_td)/(1./df)\n",
    "hp_ripple_td /= (1./sample_rate)\n",
    "plt.plot(hp_ripple_td, label='Ripple')\n",
    "plt.plot(hp_lalsim_td, label='lalsim')\n",
    "plt.legend()\n",
    "plt.show()\n",
    "\n",
    "print('Sample duration observed (Ripple) = {}'.format(len(hp_ripple_td)/4096.))\n",
    "print('Length of sample (Ripple) = {}'.format(len(hp_ripple_td)))\n",
    "print('Observed sample rate = {}'.format(sample_rate))"
   ]
  },
  {
   "cell_type": "code",
   "execution_count": 20,
   "metadata": {},
   "outputs": [
    {
     "data": {
      "image/png": "[encoded data removed]",
      "text/plain": [
       "<Figure size 640x480 with 1 Axes>"
      ]
     },
     "metadata": {},
     "output_type": "display_data"
    }
   ],
   "source": [
    "plt.plot(hp_lalsim_td-hp_ripple_td, label='lalsim-ripple residual')\n",
    "plt.legend()\n",
    "plt.show()"
   ]
  },
  {
   "cell_type": "markdown",
   "metadata": {},
   "source": [
    "## Converting FD waveform to TD and cleaning-up (PyCBC and Ripple)"
   ]
  },
  {
   "cell_type": "code",
   "execution_count": 21,
   "metadata": {},
   "outputs": [],
   "source": [
    "def get_imr_length(approx, **kwds):\n",
    "    \"\"\" Call through to pnutils to obtain IMR waveform durations \"\"\"\n",
    "    m1 = float(kwds['mass1'])\n",
    "    m2 = float(kwds['mass2'])\n",
    "    s1z = float(kwds['spin1z'])\n",
    "    s2z = float(kwds['spin2z'])\n",
    "    f_low = float(kwds['f_lower'])\n",
    "    # 10% margin of error is incorporated in the pnutils function\n",
    "    return pnutils.get_imr_duration(m1, m2, s1z, s2z, f_low, approximant=approx)"
   ]
  },
  {
   "cell_type": "code",
   "execution_count": 22,
   "metadata": {},
   "outputs": [],
   "source": [
    "def imrphenomd_length_in_time(**kwds):\n",
    "    \"\"\" Stub for holding the calculation of IMRPhenomD waveform duration \"\"\"\n",
    "    return get_imr_length(\"IMRPhenomD\", **kwds)"
   ]
  },
  {
   "cell_type": "code",
   "execution_count": 23,
   "metadata": {},
   "outputs": [],
   "source": [
    "rwrap = None\n",
    "\n",
    "# Filter time lengths for waveform approximants\n",
    "_filter_time_lengths = {}\n",
    "_filter_time_lengths[\"IMRPhenomD\"] = imrphenomd_length_in_time\n",
    "_filter_time_lengths[\"IMRPhenomPv2\"] = imrphenomd_length_in_time\n",
    "_filter_time_lengths[\"IMRPhenomXPHM\"] = imrphenomd_length_in_time"
   ]
  },
  {
   "cell_type": "code",
   "execution_count": 24,
   "metadata": {},
   "outputs": [
    {
     "name": "stdout",
     "output_type": "stream",
     "text": [
      "('mass1', 20)\n",
      "('mass2', 19)\n",
      "('approximant', 'IMRPhenomD')\n",
      "('distance', 440.0)\n",
      "('spin1z', 0.0)\n",
      "('spin2z', 0.0)\n",
      "('f_ref', 20.0)\n",
      "('delta_f', 0.25)\n",
      "('f_lower', 20.0)\n",
      "('delta_t', 0.00048828125)\n"
     ]
    }
   ],
   "source": [
    "# Check waveform kwargs before proceeding\n",
    "# Use the convert to TD function in PyCBC\n",
    "waveform_kwargs = {}\n",
    "waveform_kwargs['mass1'] = 49\n",
    "waveform_kwargs['mass2'] = 43\n",
    "waveform_kwargs['approximant'] = 'IMRPhenomD'\n",
    "waveform_kwargs['distance'] = 440.0\n",
    "\n",
    "params = waveform_kwargs\n",
    "params['spin1z'] = 0.0\n",
    "params['spin2z'] = 0.0\n",
    "params['f_ref'] = 20.0\n",
    "params['delta_f'] = 0.25\n",
    "params['f_lower'] = 20.0\n",
    "params['delta_t'] = 1./2048.\n",
    "\n",
    "for item in params.items():\n",
    "    print(item)"
   ]
  },
  {
   "cell_type": "code",
   "execution_count": 25,
   "metadata": {},
   "outputs": [],
   "source": [
    "verbose = False"
   ]
  },
  {
   "cell_type": "code",
   "execution_count": 26,
   "metadata": {},
   "outputs": [],
   "source": [
    "@jax.jit\n",
    "def fast_ripple_IMRPhenomPv2(fs, theta, f_ref):\n",
    "    data = gen_IMRPhenomPv2_hphc(fs, theta, f_ref)\n",
    "    return data\n",
    "\n",
    "def fast_ripple_IMRPhenomD(fs, theta, f_ref):\n",
    "    data = gen_IMRPhenomD_hphc(fs, theta, f_ref)\n",
    "    return data"
   ]
  },
  {
   "cell_type": "code",
   "execution_count": 27,
   "metadata": {},
   "outputs": [],
   "source": [
    "## Doing the same thing step by step (understanding the inner working)\n",
    "## Don't worry, I will clean this up soon\n",
    "\n",
    "def fd_to_td(waveform_generator=None, rwrap=None, params=None, theta_ripple=None):\n",
    "    nparams = params.copy()\n",
    "\n",
    "    ### STEP 1: Calculation of rwrap ###\n",
    "    if rwrap is None:\n",
    "        # In the `pycbc.waveform.parameters` module, spin1z and\n",
    "        # spin2z have the default value 0. Users must have input\n",
    "        # masses, so no else is needed.\n",
    "        mass_spin_params = set(['mass1', 'mass2', 'spin1z', 'spin2z'])\n",
    "        if mass_spin_params.issubset(set(nparams.keys())):\n",
    "            m_final, spin_final = get_final_from_initial(\n",
    "                mass1=nparams['mass1'], mass2=nparams['mass2'],\n",
    "                spin1z=nparams['spin1z'], spin2z=nparams['spin2z'])\n",
    "            rwrap = tau_from_final_mass_spin(m_final, spin_final) * 10\n",
    "            if rwrap < 5:\n",
    "                # Long enough for very massive BBHs in XG detectors,\n",
    "                # up to (3000, 3000) solar mass, while still not a\n",
    "                # computational burden for 2G cases.\n",
    "                rwrap = 5\n",
    "\n",
    "    if nparams['approximant'] not in _filter_time_lengths:\n",
    "        raise ValueError(\"Approximant %s _filter_time_lengths function \\\n",
    "                            not available\" % (nparams['approximant']))\n",
    "    \n",
    "    ### STEP 2: Calculation of duration and new f_lower ###\n",
    "    # determine the duration to use\n",
    "    approximant = nparams['approximant']\n",
    "    full_duration = duration = _filter_time_lengths[approximant](**nparams)\n",
    "\n",
    "    while full_duration < duration * 1.5:\n",
    "        full_duration = _filter_time_lengths[approximant](**nparams)\n",
    "        nparams['f_lower'] *= 0.99\n",
    "        if 't_obs_start' in nparams and \\\n",
    "            full_duration >= nparams['t_obs_start']:\n",
    "            break\n",
    "\n",
    "    if 'f_ref' not in nparams:\n",
    "        nparams['f_ref'] = params['f_lower']\n",
    "\n",
    "    # factor to ensure the vectors are all large enough. We don't need to\n",
    "    # completely trust our duration estimator in this case, at a small\n",
    "    # increase in computational cost\n",
    "    fudge_duration = (max(0, full_duration) + .1 + rwrap) * 1.5\n",
    "    fsamples = int(fudge_duration / nparams['delta_t'])\n",
    "    N = pnutils.nearest_larger_binary_number(fsamples)\n",
    "    fudge_duration = N * nparams['delta_t']\n",
    "\n",
    "    nparams['delta_f'] = 1.0 / fudge_duration\n",
    "    tsize = int(1.0 / nparams['delta_t'] /  nparams['delta_f'])\n",
    "    fsize = tsize // 2 + 1\n",
    "\n",
    "    if verbose:\n",
    "        print('FD params needed to create TD waveform')\n",
    "        for item in nparams.items():\n",
    "            print(item)\n",
    "\n",
    "    print(nparams)\n",
    "    print(params)\n",
    "    print(fsize)\n",
    "    print(rwrap)\n",
    "\n",
    "    ### STEP 3: Calculate the h_plus and h_cross in frequency domain ###   \n",
    "    if waveform_generator == 'pycbc':\n",
    "        print(nparams)\n",
    "        hp, hc = pycbc.waveform.get_fd_waveform(**nparams)\n",
    "    elif waveform_generator == 'ripple':\n",
    "        theta = jnp.array([Mc, eta, chi1, chi2, dist_mpc, tc, phic, inclination, polarization_angle])\n",
    "        print(theta)\n",
    "        f_ref = 20.0 #Hz\n",
    "        fs = np.append(np.arange(0.0, 2048., nparams['delta_f']), 2048.)\n",
    "        print(len(fs))\n",
    "        assert fs[-2]+nparams['delta_f'] == 2048., \"fs = {}, check = {}\".format(fs, fs[-2]+nparams['delta_f'])\n",
    "        hp, hc = gen_IMRPhenomD_hphc(fs[1:], theta, f_ref)\n",
    "        hp = np.insert(hp, 0, 0)\n",
    "        hc = np.insert(hc, 0, 0)\n",
    "        print(len(hp))\n",
    "        hp[fs < nparams['f_lower']] = 0.0 # ad-hoc high pass filtering\n",
    "        hc[fs < nparams['f_lower']] = 0.0 # ad-hoc high pass filtering\n",
    "    elif waveform_generator == 'fast_ripple_IMRPhenomPv2':\n",
    "        f_ref = 20.0 #Hz\n",
    "        fs = np.append(np.arange(0.0, 2048., nparams['delta_f']), 2048.)\n",
    "        print(len(fs))\n",
    "        hp, hc = fast_ripple_IMRPhenomPv2(fs[1:], theta_ripple, f_ref)\n",
    "        hp = np.insert(hp, 0, 0)\n",
    "        hc = np.insert(hc, 0, 0)\n",
    "        print(len(hp))\n",
    "        hp[fs < nparams['f_lower']] = 0.0 # ad-hoc high pass filtering\n",
    "        hc[fs < nparams['f_lower']] = 0.0 # ad-hoc high pass filtering\n",
    "    elif waveform_generator == 'fast_ripple_IMRPhenomD':\n",
    "        f_ref = 20.0 #Hz\n",
    "        theta = jnp.array([Mc, eta, chi1, chi2, dist_mpc, tc, phic, inclination, polarization_angle])\n",
    "        fs = np.append(np.arange(0.0, 2048., nparams['delta_f']), 2048.)\n",
    "        hp, hc = fast_ripple_IMRPhenomD(fs[1:], theta, f_ref)\n",
    "\n",
    "        hp = np.insert(hp, 0, 0)\n",
    "        hc = np.insert(hc, 0, 0)\n",
    "        hp[fs < nparams['f_lower']] = 0.0 # ad-hoc high pass filtering\n",
    "        hc[fs < nparams['f_lower']] = 0.0 # ad-hoc high pass filtering\n",
    "\n",
    "    if verbose:\n",
    "        print('Current data-type of hp = {}'.format(type(hp)))\n",
    "    hp = np.array(hp)\n",
    "    hc = np.array(hc)\n",
    "    if verbose:\n",
    "        print('We now convert the PyCBC FrequencySeries to a np.ndarray and back to FS with minimal effort')\n",
    "        print('Current data-type of hp = {}'.format(type(hp)))\n",
    "    hp = FrequencySeries(hp, delta_f=nparams['delta_f'])\n",
    "    hc = FrequencySeries(hc, delta_f=nparams['delta_f'])\n",
    "    if verbose:\n",
    "        print('Current data-type of hp = {}'.format(type(hp)))\n",
    "    \n",
    "\n",
    "    ### STEP 4: Resize to get the correct sample rate ###\n",
    "    # Resize to the right sample rate\n",
    "    print('before resize = {}'.format(len(hp)))\n",
    "    hp.resize(fsize)\n",
    "    hc.resize(fsize)\n",
    "    print('after resize = {}'.format(len(hp)))\n",
    "\n",
    "    ### STEP 5: Correct for wraparound introduced by LAL ###\n",
    "    # avoid wraparound\n",
    "    hp = hp.cyclic_time_shift(-rwrap)\n",
    "    hc = hc.cyclic_time_shift(-rwrap)\n",
    "\n",
    "    ### STEP 6: Taper low freq edge and convert to time domain ###\n",
    "    # Removed delta_t from params as it is fixed to 2048 Hz\n",
    "    hp = wfutils.fd_to_td(hp, left_window=(nparams['f_lower'], params['f_lower']))\n",
    "    hc = wfutils.fd_to_td(hc, left_window=(nparams['f_lower'], params['f_lower']))\n",
    "    \n",
    "    assert hp.delta_t == params['delta_t']\n",
    "    assert hc.delta_t == params['delta_t']\n",
    "    print('Length of sample in seconds for hp and hc')\n",
    "    print(len(hp)*hp.delta_t, len(hc)*hc.delta_t)\n",
    "\n",
    "    ### STEP 7: PARTAAY ###\n",
    "    return hp, hc"
   ]
  },
  {
   "cell_type": "markdown",
   "metadata": {},
   "source": [
    "### Cleaning up the PyCBC FD output with the clean-up function"
   ]
  },
  {
   "cell_type": "code",
   "execution_count": 28,
   "metadata": {},
   "outputs": [
    {
     "name": "stdout",
     "output_type": "stream",
     "text": [
      "{'mass1': 20, 'mass2': 19, 'approximant': 'IMRPhenomD', 'distance': 440.0, 'spin1z': 0.0, 'spin2z': 0.0, 'f_ref': 20.0, 'delta_f': 0.0625, 'f_lower': 17.02915542189751, 'delta_t': 0.00048828125}\n",
      "{'mass1': 20, 'mass2': 19, 'approximant': 'IMRPhenomD', 'distance': 440.0, 'spin1z': 0.0, 'spin2z': 0.0, 'f_ref': 20.0, 'delta_f': 0.25, 'f_lower': 20.0, 'delta_t': 0.00048828125}\n",
      "16385\n",
      "5\n",
      "{'mass1': 20, 'mass2': 19, 'approximant': 'IMRPhenomD', 'distance': 440.0, 'spin1z': 0.0, 'spin2z': 0.0, 'f_ref': 20.0, 'delta_f': 0.0625, 'f_lower': 17.02915542189751, 'delta_t': 0.00048828125}\n",
      "before resize = 32769\n",
      "after resize = 16385\n",
      "Length of sample in seconds for hp and hc\n",
      "16.0 16.0\n"
     ]
    },
    {
     "data": {
      "text/plain": [
       "Text(0, 0.5, 'Strain')"
      ]
     },
     "execution_count": 28,
     "metadata": {},
     "output_type": "execute_result"
    },
    {
     "data": {
      "image/png": "[encoded data removed]",
      "text/plain": [
       "<Figure size 640x480 with 1 Axes>"
      ]
     },
     "metadata": {},
     "output_type": "display_data"
    }
   ],
   "source": [
    "hp_pycbc_corrected, _ = fd_to_td('pycbc', rwrap, params)\n",
    "pp.plot(hp_pycbc_corrected.sample_times, hp_pycbc_corrected)\n",
    "pp.xlabel('Time (seconds)')\n",
    "pp.ylabel('Strain')"
   ]
  },
  {
   "cell_type": "markdown",
   "metadata": {},
   "source": [
    "This means that we don't need any information other than updated delta_f in order to make a PyCBC Frequency series. Hopefully, this is fine with the constrain added to Ripple (it always seems to output data with sample rate = 4096.0 Hz)"
   ]
  },
  {
   "cell_type": "markdown",
   "metadata": {},
   "source": [
    "### Check if the clean-up function works with Ripple"
   ]
  },
  {
   "cell_type": "code",
   "execution_count": 29,
   "metadata": {},
   "outputs": [
    {
     "name": "stdout",
     "output_type": "stream",
     "text": [
      "{'mass1': 20, 'mass2': 19, 'approximant': 'IMRPhenomD', 'distance': 440.0, 'spin1z': 0.0, 'spin2z': 0.0, 'f_ref': 20.0, 'delta_f': 0.0625, 'f_lower': 17.02915542189751, 'delta_t': 0.00048828125}\n",
      "{'mass1': 20, 'mass2': 19, 'approximant': 'IMRPhenomD', 'distance': 440.0, 'spin1z': 0.0, 'spin2z': 0.0, 'f_ref': 20.0, 'delta_f': 0.25, 'f_lower': 20.0, 'delta_t': 0.00048828125}\n",
      "16385\n",
      "5\n",
      "before resize = 32769\n",
      "after resize = 16385\n",
      "Length of sample in seconds for hp and hc\n",
      "16.0 16.0\n"
     ]
    },
    {
     "data": {
      "text/plain": [
       "[<matplotlib.lines.Line2D at 0x7f187c72daf0>]"
      ]
     },
     "execution_count": 29,
     "metadata": {},
     "output_type": "execute_result"
    },
    {
     "data": {
      "image/png": "[encoded data removed]",
      "text/plain": [
       "<Figure size 640x480 with 1 Axes>"
      ]
     },
     "metadata": {},
     "output_type": "display_data"
    }
   ],
   "source": [
    "hp_ripple_corrected, _ = fd_to_td('fast_ripple_IMRPhenomD', rwrap, params)\n",
    "pp.plot(hp_ripple_corrected)"
   ]
  },
  {
   "cell_type": "markdown",
   "metadata": {},
   "source": [
    "IT'S ALIVE!!"
   ]
  },
  {
   "cell_type": "markdown",
   "metadata": {},
   "source": [
    "### Compare the cleaned TD results between PyCBC and Ripple"
   ]
  },
  {
   "cell_type": "code",
   "execution_count": 30,
   "metadata": {},
   "outputs": [
    {
     "data": {
      "text/plain": [
       "Text(0.5, 1.0, 'Residual between pycbc and ripple for FD to TD with cleanup')"
      ]
     },
     "execution_count": 30,
     "metadata": {},
     "output_type": "execute_result"
    },
    {
     "data": {
      "image/png": "[encoded data removed]",
      "text/plain": [
       "<Figure size 640x480 with 1 Axes>"
      ]
     },
     "metadata": {},
     "output_type": "display_data"
    }
   ],
   "source": [
    "pp.plot(hp_ripple_corrected-hp_pycbc_corrected)\n",
    "pp.title('Residual between pycbc and ripple for FD to TD with cleanup')"
   ]
  },
  {
   "cell_type": "markdown",
   "metadata": {},
   "source": [
    "## Ripple Implementation of IMRPhenomPv2 with JIT for fast waveform generation"
   ]
  },
  {
   "cell_type": "code",
   "execution_count": 31,
   "metadata": {},
   "outputs": [],
   "source": [
    "# Now we need to generate the frequency grid\n",
    "# Sampling frequency\n",
    "f_l = 20\n",
    "f_u = 2048\n",
    "del_f = 0.25\n",
    "sample_length_in_s = 1./del_f\n",
    "fs = jnp.arange(f_l, f_u, del_f)\n",
    "f_ref = f_l"
   ]
  },
  {
   "cell_type": "code",
   "execution_count": 32,
   "metadata": {},
   "outputs": [],
   "source": [
    "def get_waveform_kwargs(mass):\n",
    "    # And finally lets generate the waveform (IMRPhenomPv2)!\n",
    "    # Get a frequency domain waveform\n",
    "    # source parameters\n",
    "    m1_msun = mass\n",
    "    m2_msun = mass - 1\n",
    "    s1x = 0.0\n",
    "    s1y = 0.0\n",
    "    s1z = 0.0\n",
    "    s2x = 0.0\n",
    "    s2y = 0.0\n",
    "    s2z = 0.0\n",
    "    dist_mpc = 440.0\n",
    "    tc = 0.0\n",
    "    phiRef = 0.0\n",
    "    incl = 0.0\n",
    "    \n",
    "    Mc, eta = ms_to_Mc_eta(jnp.array([m1_msun, m2_msun]))\n",
    "    theta_ripple = jnp.array([Mc, eta, s1x, s1y, s1z, s2x, s2y, s2z, dist_mpc, tc, phiRef, incl])\n",
    "\n",
    "    return theta_ripple"
   ]
  },
  {
   "cell_type": "code",
   "execution_count": 33,
   "metadata": {},
   "outputs": [],
   "source": [
    "@jax.jit\n",
    "def waveform_generate(theta):\n",
    "    data = gen_IMRPhenomPv2_hphc(fs, theta, f_ref)\n",
    "    return data"
   ]
  },
  {
   "cell_type": "code",
   "execution_count": 34,
   "metadata": {},
   "outputs": [
    {
     "name": "stdout",
     "output_type": "stream",
     "text": [
      "Time taken to produce num_waveforms = 1500 with Ripple-JIT = 5.541683912277222 seconds\n"
     ]
    }
   ],
   "source": [
    "# Time taken for producing 1000 waveforms (same waveform)\n",
    "num_waveforms = 1500\n",
    "key = jax.random.PRNGKey(42)\n",
    "theta_ripple = get_waveform_kwargs(jax.random.uniform(key, minval=6.0, maxval=50.0))\n",
    "\n",
    "start = time.time()\n",
    "for idx in range(num_waveforms):\n",
    "    hp_ripple, hc_ripple = waveform_generate(theta_ripple)\n",
    "end = time.time() - start\n",
    "print('Time taken to produce num_waveforms = {} with Ripple-JIT = {} seconds'.format(num_waveforms, end))"
   ]
  },
  {
   "cell_type": "code",
   "execution_count": 35,
   "metadata": {},
   "outputs": [
    {
     "name": "stdout",
     "output_type": "stream",
     "text": [
      "Time taken to get one waveform is approximately = 3.694455941518148 ms\n"
     ]
    }
   ],
   "source": [
    "print('Time taken to get one waveform is approximately = {} ms'.format((end/num_waveforms)*1000.))"
   ]
  },
  {
   "cell_type": "code",
   "execution_count": 36,
   "metadata": {},
   "outputs": [
    {
     "data": {
      "text/plain": [
       "(12, 10000)"
      ]
     },
     "execution_count": 36,
     "metadata": {},
     "output_type": "execute_result"
    }
   ],
   "source": [
    "# Creating 10000 of the same waveform parameters for testing jitted waveform generator with vmap|\n",
    "single_waveform = waveform_generate(theta_ripple)\n",
    "thetas = jnp.ones(10000)[None,:] * theta_ripple[:,None]\n",
    "thetas.shape"
   ]
  },
  {
   "cell_type": "code",
   "execution_count": 37,
   "metadata": {},
   "outputs": [
    {
     "name": "stdout",
     "output_type": "stream",
     "text": [
      "Shape of waveforms generated = (2, 10000, 8112)\n",
      "Time taken to produce 10_000 IMRPhenomPv2 waveforms (jitted, vmap) = 5.654818534851074 s\n"
     ]
    }
   ],
   "source": [
    "# Apply vmap for a vectorised waveform generation\n",
    "vectorised = vmap(waveform_generate, in_axes=(1,))\n",
    "\n",
    "start = time.time()\n",
    "waveforms = vectorised(thetas)\n",
    "end = time.time() - start\n",
    "\n",
    "waveforms = np.array(waveforms)\n",
    "print('Shape of waveforms generated = {}'.format(waveforms.shape))\n",
    "print('Time taken to produce 10_000 IMRPhenomPv2 waveforms (jitted, vmap) = {} s'.format(end))"
   ]
  },
  {
   "cell_type": "code",
   "execution_count": 38,
   "metadata": {},
   "outputs": [
    {
     "data": {
      "text/plain": [
       "Array(True, dtype=bool)"
      ]
     },
     "execution_count": 38,
     "metadata": {},
     "output_type": "execute_result"
    }
   ],
   "source": [
    "# Sanity check to see if vmap worked properly\n",
    "jnp.allclose(single_waveform[0], waveforms[0][0])"
   ]
  },
  {
   "cell_type": "code",
   "execution_count": 39,
   "metadata": {},
   "outputs": [
    {
     "name": "stdout",
     "output_type": "stream",
     "text": [
      "Time taken on average to obtain one waveform using vmap and jit = 0.5654818534851074 ms\n"
     ]
    }
   ],
   "source": [
    "print('Time taken on average to obtain one waveform using vmap and jit = {} ms'.format((end/10000)*1000.))"
   ]
  },
  {
   "cell_type": "markdown",
   "metadata": {},
   "source": [
    "This is very good! Not quite as fast as mentioned on the Ripple paper (https://arxiv.org/abs/2302.05329) - 0.02 ms, even on IMRPhenomD. Maybe, we are missing something. Nevertheless, this is perfect. With this speed, we should be able to do on-the-fly data generation quite easily. "
   ]
  },
  {
   "cell_type": "markdown",
   "metadata": {},
   "source": [
    "## Optimising fast waveform generation for IMRPhenomPv2 with TD domain clean-up"
   ]
  },
  {
   "cell_type": "markdown",
   "metadata": {},
   "source": [
    "### How fast is IMRPhenonPv2 and FD clean-up with JIT? (not optimised)"
   ]
  },
  {
   "cell_type": "code",
   "execution_count": null,
   "metadata": {},
   "outputs": [],
   "source": [
    "num_waveforms = 100\n",
    "theta_ripple = get_waveform_kwargs(idx+800)\n",
    "\n",
    "start = time.time()\n",
    "for _ in range(num_waveforms):\n",
    "    hp, hc = fd_to_td('fast_ripple_IMRPhenomPv2', rwrap, params, theta_ripple)\n",
    "end = time.time() - start\n",
    "\n",
    "print('Time taken for fast Ripple IMRPhenomPv2 (nwaveforms = {}) = {}'.format(num_waveforms, end))"
   ]
  },
  {
   "cell_type": "markdown",
   "metadata": {},
   "source": [
    "This takes longer than expected because we haven't used JAX to define the array manipulations. Let's incorporate those changes and see if we can get this number down."
   ]
  },
  {
   "cell_type": "markdown",
   "metadata": {},
   "source": [
    "### Is this faster with IMRPhenomD? (TLDR; Not by much)"
   ]
  },
  {
   "cell_type": "code",
   "execution_count": null,
   "metadata": {},
   "outputs": [],
   "source": [
    "num_waveforms = 100\n",
    "start = time.time()\n",
    "for _ in range(num_waveforms):\n",
    "    hp, hc = fd_to_td('fast_ripple_IMRPhenomD', rwrap, params)\n",
    "end = time.time() - start\n",
    "\n",
    "print('Time taken for fast Ripple IMRPhenomD (nwaveforms = {}) = {}'.format(num_waveforms, end))"
   ]
  },
  {
   "cell_type": "markdown",
   "metadata": {},
   "source": [
    "It's not that much faster. Let's try and time each step for optimisation."
   ]
  },
  {
   "cell_type": "markdown",
   "metadata": {},
   "source": [
    "### How does the unoptimised Ripple code compare to PyCBC (which doesn't use JIT) for IMRPhenomD?"
   ]
  },
  {
   "cell_type": "code",
   "execution_count": null,
   "metadata": {},
   "outputs": [],
   "source": [
    "num_waveforms = 100\n",
    "start = time.time()\n",
    "for _ in range(num_waveforms):\n",
    "    hp, hc = fd_to_td('pycbc', rwrap, params)\n",
    "end = time.time() - start\n",
    "\n",
    "print('Time taken for PyCBC IMRPhenomD (nwaveforms = {}) = {}'.format(num_waveforms, end))"
   ]
  },
  {
   "cell_type": "code",
   "execution_count": 43,
   "metadata": {},
   "outputs": [
    {
     "name": "stdout",
     "output_type": "stream",
     "text": [
      "Time taken to produce num_waveforms = 220 with PyCBC for IMRPhenomD = 0.9656641483306885\n"
     ]
    }
   ],
   "source": [
    "## How fast is PyCBC without any of the clean-up stuff? \n",
    "num_waveforms = 220\n",
    "start = time.time()\n",
    "for _ in range(num_waveforms):\n",
    "    hp, hc = pycbc.waveform.get_fd_waveform(**params)\n",
    "end = time.time() - start\n",
    "print('Time taken to produce num_waveforms = {} with PyCBC for IMRPhenomD = {}'.format(num_waveforms, end))"
   ]
  },
  {
   "attachments": {},
   "cell_type": "markdown",
   "metadata": {},
   "source": [
    "### Running IMRPhenomD on Ripple with clean-up and without JIT (should be super slow)"
   ]
  },
  {
   "cell_type": "code",
   "execution_count": null,
   "metadata": {},
   "outputs": [],
   "source": [
    "num_waveforms = 100\n",
    "start = time.time()\n",
    "for _ in range(num_waveforms):\n",
    "    hp, hc = fd_to_td('ripple', rwrap, params)\n",
    "end = time.time() - start\n",
    "\n",
    "# Wow, that's quite slow.\n",
    "print('Time taken for fast Ripple IMRPhenomD (nwaveforms = {}) = {}'.format(num_waveforms, end))"
   ]
  },
  {
   "cell_type": "markdown",
   "metadata": {},
   "source": [
    "### Breaking down the clean-up process and using jnp for optimisation"
   ]
  },
  {
   "cell_type": "markdown",
   "metadata": {},
   "source": [
    "#### Initial parameters"
   ]
  },
  {
   "cell_type": "code",
   "execution_count": 45,
   "metadata": {},
   "outputs": [
    {
     "name": "stdout",
     "output_type": "stream",
     "text": [
      "('mass1', 20)\n",
      "('mass2', 19)\n",
      "('approximant', 'IMRPhenomD')\n",
      "('distance', 440.0)\n",
      "('spin1z', 0.0)\n",
      "('spin2z', 0.0)\n",
      "('f_ref', 20.0)\n",
      "('delta_f', 0.25)\n",
      "('f_lower', 20.0)\n",
      "('delta_t', 0.000244140625)\n"
     ]
    }
   ],
   "source": [
    "# Check waveform kwargs before proceeding\n",
    "# Use the convert to TD function in PyCBC\n",
    "waveform_kwargs = {}\n",
    "waveform_kwargs['mass1'] = 20\n",
    "waveform_kwargs['mass2'] = 19\n",
    "waveform_kwargs['approximant'] = 'IMRPhenomD'\n",
    "waveform_kwargs['distance'] = 440.0\n",
    "\n",
    "params = waveform_kwargs\n",
    "params['spin1z'] = 0.0\n",
    "params['spin2z'] = 0.0\n",
    "params['f_ref'] = 20.0\n",
    "params['delta_f'] = 0.25\n",
    "params['f_lower'] = 20.0\n",
    "params['delta_t'] = 1./4096.\n",
    "\n",
    "for item in params.items():\n",
    "    print(item)"
   ]
  },
  {
   "cell_type": "code",
   "execution_count": 46,
   "metadata": {},
   "outputs": [],
   "source": [
    "# Copy params dict for manipulation\n",
    "nparams = params.copy()"
   ]
  },
  {
   "attachments": {},
   "cell_type": "markdown",
   "metadata": {},
   "source": [
    "#### Optimising rwrap in the fd_to_td function"
   ]
  },
  {
   "cell_type": "code",
   "execution_count": 47,
   "metadata": {},
   "outputs": [
    {
     "name": "stdout",
     "output_type": "stream",
     "text": [
      "rwrap = 5 seconds\n"
     ]
    }
   ],
   "source": [
    "\"\"\" ORIGINAL IMPLEMENTATION (as seen on PyCBC documentation) \"\"\"\n",
    "# In the `pycbc.waveform.parameters` module, spin1z and\n",
    "# spin2z have the default value 0. Users must have input\n",
    "# masses, so no else is needed.\n",
    "mass_spin_params = set(['mass1', 'mass2', 'spin1z', 'spin2z'])\n",
    "if mass_spin_params.issubset(set(nparams.keys())):\n",
    "    m_final, spin_final = get_final_from_initial(\n",
    "        mass1=nparams['mass1'], mass2=nparams['mass2'],\n",
    "        spin1z=nparams['spin1z'], spin2z=nparams['spin2z'])\n",
    "    rwrap = tau_from_final_mass_spin(m_final, spin_final) * 10\n",
    "    if rwrap < 5:\n",
    "        # Long enough for very massive BBHs in XG detectors,\n",
    "        # up to (3000, 3000) solar mass, while still not a\n",
    "        # computational burden for 2G cases.\n",
    "        rwrap = 5\n",
    "\n",
    "print('rwrap = {} seconds'.format(rwrap))"
   ]
  },
  {
   "cell_type": "code",
   "execution_count": 48,
   "metadata": {},
   "outputs": [],
   "source": [
    "\"\"\" We can optimise the get_final_from_initial function if required \"\"\"\n",
    "# Check the rwrap values at rhe extremas of the mass parameter\n",
    "# We can ignore the rwrap function altogether if we find this to be set to rwrap = 5 in all cases\n",
    "def check_rwrap(m1, m2, chi1, chi2):\n",
    "    m_final, spin_final = get_final_from_initial(mass1=m1, mass2=m2, spin1z=chi1, spin2z=chi2)\n",
    "    rwrap = tau_from_final_mass_spin(m_final, spin_final) * 10\n",
    "    if rwrap < 5:\n",
    "        print('Failed: rwrap not required for the given mass+spin parameter set, rwrap ({}) < 5'.format(rwrap))\n",
    "    else:\n",
    "        print('Passed: rwrap is required for given mass+spin parameter set, rwrap ({}) >= 5'.format(rwrap))\n"
   ]
  },
  {
   "cell_type": "code",
   "execution_count": 49,
   "metadata": {},
   "outputs": [
    {
     "name": "stdout",
     "output_type": "stream",
     "text": [
      "Failed: rwrap not required for the given mass+spin parameter set, rwrap (0.005709369877343962) < 5\n"
     ]
    }
   ],
   "source": [
    "# Lowest chirp mass possible (non-spinning)\n",
    "check_rwrap(m1=5.0, m2=4.9, chi1=0.0, chi2=0.0)"
   ]
  },
  {
   "cell_type": "code",
   "execution_count": 50,
   "metadata": {},
   "outputs": [
    {
     "name": "stdout",
     "output_type": "stream",
     "text": [
      "Failed: rwrap not required for the given mass+spin parameter set, rwrap (0.005724958915744104) < 5\n"
     ]
    }
   ],
   "source": [
    "# Lowest chirp mass possible (spinning)\n",
    "check_rwrap(m1=5.0, m2=4.9, chi1=0.99, chi2=-0.99)"
   ]
  },
  {
   "cell_type": "code",
   "execution_count": 51,
   "metadata": {},
   "outputs": [
    {
     "name": "stdout",
     "output_type": "stream",
     "text": [
      "Failed: rwrap not required for the given mass+spin parameter set, rwrap (0.1152849995068931) < 5\n"
     ]
    }
   ],
   "source": [
    "# Highest chirp mass possible (non-spinning)\n",
    "check_rwrap(m1=100.0, m2=99.9, chi1=0.0, chi2=0.0)"
   ]
  },
  {
   "cell_type": "code",
   "execution_count": 52,
   "metadata": {},
   "outputs": [
    {
     "name": "stdout",
     "output_type": "stream",
     "text": [
      "Failed: rwrap not required for the given mass+spin parameter set, rwrap (0.1632940315793305) < 5\n"
     ]
    }
   ],
   "source": [
    "# Highest chirp mass possible (spinning)\n",
    "check_rwrap(m1=100.0, m2=99.9, chi1=0.99, chi2=0.99)"
   ]
  },
  {
   "cell_type": "code",
   "execution_count": 53,
   "metadata": {},
   "outputs": [
    {
     "name": "stdout",
     "output_type": "stream",
     "text": [
      "Failed: rwrap not required for the given mass+spin parameter set, rwrap (4.901270227338983) < 5\n",
      "Passed: rwrap is required for given mass+spin parameter set, rwrap (5.064645901583616) >= 5\n"
     ]
    }
   ],
   "source": [
    "# Where does rwrap actually go to large enough values\n",
    "# m1, m2 of {3000, 3000} is the limit\n",
    "check_rwrap(m1=3000.0, m2=3000.0, chi1=0.99, chi2=0.99) # Failed\n",
    "check_rwrap(m1=3100.0, m2=3100.0, chi1=0.99, chi2=0.99) # Passed"
   ]
  },
  {
   "attachments": {},
   "cell_type": "markdown",
   "metadata": {},
   "source": [
    "Can we reduce this rwrap value to something smaller given the mass and spin parameter space in which we are working? This might be possible."
   ]
  },
  {
   "attachments": {},
   "cell_type": "markdown",
   "metadata": {},
   "source": [
    "#### Optimising the _filter_time_lengths function using jnp"
   ]
  },
  {
   "cell_type": "code",
   "execution_count": 54,
   "metadata": {},
   "outputs": [
    {
     "name": "stdout",
     "output_type": "stream",
     "text": [
      "Initial full duration = 2.0590079746328094 seconds\n",
      "Time taken to calculate signal duration given nparams = 0.0007815361022949219 seconds\n"
     ]
    }
   ],
   "source": [
    "# determine the duration to use\n",
    "approximant = nparams['approximant']\n",
    "start = time.time()\n",
    "full_duration = duration = _filter_time_lengths[approximant](**nparams)\n",
    "end = time.time() - start\n",
    "\n",
    "print('Initial full duration = {} seconds'.format(full_duration))\n",
    "print('Time taken to calculate signal duration given nparams = {} seconds'.format(end))"
   ]
  },
  {
   "cell_type": "code",
   "execution_count": 55,
   "metadata": {},
   "outputs": [
    {
     "name": "stdout",
     "output_type": "stream",
     "text": [
      "2.0590079746328094 2.0590079746328094\n",
      "2.0590079746328094 2.0590079746328094\n",
      "Updated f_lower = 17.0 Hz\n",
      "Updated full duration = 3.228161538403766 seconds\n",
      "Time taken to update full_duration 1 times= 0.001520395278930664\n"
     ]
    }
   ],
   "source": [
    "# f_lower is changed such that the duration is 1.5 times the originally intended duration\n",
    "start = time.time()\n",
    "counter = 0\n",
    "while True:\n",
    "    print(full_duration, duration)\n",
    "    full_duration = _filter_time_lengths[approximant](**nparams)\n",
    "    if full_duration >= duration * 1.5:\n",
    "        break\n",
    "    else:\n",
    "        # This will reduce the number of iterations in _filter_time_lenghts\n",
    "        # It will consequently increase the time taken for waveform generation process\n",
    "        # But, we've already seen that this shouldn't matter much for Ripple\n",
    "        nparams['f_lower'] -= 3.0\n",
    "    counter+=1\n",
    "end = time.time() - start\n",
    "\n",
    "print('Updated f_lower = {} Hz'.format(nparams['f_lower']))\n",
    "print('Updated full duration = {} seconds'.format(full_duration))\n",
    "print('Time taken to update full_duration {} times= {}'.format(counter, end))"
   ]
  },
  {
   "cell_type": "code",
   "execution_count": 56,
   "metadata": {},
   "outputs": [
    {
     "name": "stdout",
     "output_type": "stream",
     "text": [
      "Time taken for fudge duration stuff = 0.00019812583923339844 seconds\n"
     ]
    }
   ],
   "source": [
    "# factor to ensure the vectors are all large enough. We don't need to\n",
    "# completely trust our duration estimator in this case, at a small\n",
    "# increase in computational cost\n",
    "start = time.time()\n",
    "fudge_duration = (max(0, full_duration) + .1 + rwrap) * 1.5\n",
    "fsamples = int(fudge_duration / nparams['delta_t'])\n",
    "N = pnutils.nearest_larger_binary_number(fsamples)\n",
    "fudge_duration = N * nparams['delta_t']\n",
    "\n",
    "nparams['delta_f'] = 1.0 / fudge_duration\n",
    "tsize = int(1.0 / nparams['delta_t'] /  nparams['delta_f'])\n",
    "fsize = tsize // 2 + 1\n",
    "end = time.time() - start\n",
    "\n",
    "print('Time taken for fudge duration stuff = {} seconds'.format(end))"
   ]
  },
  {
   "cell_type": "code",
   "execution_count": 57,
   "metadata": {},
   "outputs": [],
   "source": [
    "@jax.jit\n",
    "def dummy_time_length(nparams):\n",
    "    return 1.1 * lalsim.SimIMRPhenomDChirpTime(nparams['mass1']*1.989e+30, nparams['mass2']*1.989e+30, \n",
    "                                               nparams['spin1z'], nparams['spin2z'], \n",
    "                                               nparams['f_lower'])"
   ]
  },
  {
   "cell_type": "code",
   "execution_count": 58,
   "metadata": {},
   "outputs": [
    {
     "name": "stdout",
     "output_type": "stream",
     "text": [
      "Time taken to calculate IMR signal duration using lalsim = 1.5974044799804688e-05 seconds\n"
     ]
    },
    {
     "data": {
      "text/plain": [
       "\"\\nShould lead to the following error message if run:\\nTypeError: in method 'SimIMRPhenomDChirpTime', argument 1 of type 'REAL8'\\n\""
      ]
     },
     "execution_count": 58,
     "metadata": {},
     "output_type": "execute_result"
    }
   ],
   "source": [
    "_nparams = {}\n",
    "_nparams['mass1'] = 20.0\n",
    "_nparams['mass2'] = 19.0\n",
    "_nparams['spin1z'] = 0.0\n",
    "_nparams['spin2z'] = 0.0\n",
    "_nparams['f_lower'] = 20.0\n",
    "start = time.time()\n",
    "#dummy_time_length(nparams)\n",
    "end = time.time() - start\n",
    "print('Time taken to calculate IMR signal duration using lalsim = {} seconds'.format(end))\n",
    "\n",
    "\"\"\"\n",
    "Should lead to the following error message if run:\n",
    "TypeError: in method 'SimIMRPhenomDChirpTime', argument 1 of type 'REAL8'\n",
    "\"\"\""
   ]
  },
  {
   "attachments": {},
   "cell_type": "markdown",
   "metadata": {},
   "source": [
    "#### Optimising the freq clean-up after waveform generation"
   ]
  },
  {
   "cell_type": "code",
   "execution_count": 59,
   "metadata": {},
   "outputs": [
    {
     "name": "stdout",
     "output_type": "stream",
     "text": [
      "Time taken to produce a signal and apply an ad-hoc high pass filter = 0.0030698776245117188 seconds\n"
     ]
    }
   ],
   "source": [
    "f_ref = 20.0 #Hz\n",
    "# Convert into jnp array\n",
    "fs = np.append(np.arange(0.0, 2048., nparams['delta_f']), 2048.)\n",
    "\n",
    "start = time.time()\n",
    "\n",
    "# Use jnp functions to define theta\n",
    "hp, hc = fast_ripple_IMRPhenomPv2(fs[1:], theta_ripple, f_ref)\n",
    "\n",
    "# Use jnp for the insert operation\n",
    "hp = np.insert(hp, 0, 0)\n",
    "hc = np.insert(hc, 0, 0)\n",
    "# This should be possible via jnp as well\n",
    "hp[fs < nparams['f_lower']] = 0.0 # ad-hoc high pass filtering\n",
    "hc[fs < nparams['f_lower']] = 0.0 # ad-hoc high pass filtering\n",
    "\n",
    "end = time.time() - start\n",
    "\n",
    "print('Time taken to produce a signal and apply an ad-hoc high pass filter = {} seconds'.format(end))"
   ]
  },
  {
   "cell_type": "code",
   "execution_count": 60,
   "metadata": {},
   "outputs": [
    {
     "name": "stdout",
     "output_type": "stream",
     "text": [
      "Time taken to produce a signal using PyCBC = 0.006681203842163086 seconds\n"
     ]
    }
   ],
   "source": [
    "start = time.time()\n",
    "\n",
    "# Use jnp functions to define theta\n",
    "hp, hc = pycbc.waveform.get_fd_waveform(**nparams)\n",
    "end = time.time() - start\n",
    "\n",
    "print('Time taken to produce a signal using PyCBC = {} seconds'.format(end))"
   ]
  },
  {
   "cell_type": "markdown",
   "metadata": {},
   "source": [
    "It looks like PyCBC is about 3 times slower than JAX jitted version of IMRPhenomPv2. It might be worthy to note that, when using CUDA disabled Ripple, PyCBC (without ad-hoc high-pass filtering) and Ripple (with ad-hoc high-pass filtering) functions take about the same amount of computational time = 0.005 seconds. The speed-up is observed when using the CUDA-enabled version of JAX. We can further speed-up the waveform generation process in Ripple by using vmap to create a batch at a time. We should pair this with the BatchSampler in Pytorch to create a fast batrch loader. "
   ]
  },
  {
   "cell_type": "code",
   "execution_count": 61,
   "metadata": {},
   "outputs": [],
   "source": [
    "@jax.jit\n",
    "def dummy(fs):\n",
    "    # Use jnp functions to define theta\n",
    "    hp, hc = gen_IMRPhenomPv2_hphc(fs[1:], theta_ripple, f_ref)\n",
    "    return hp, hc"
   ]
  },
  {
   "cell_type": "code",
   "execution_count": 62,
   "metadata": {},
   "outputs": [
    {
     "name": "stdout",
     "output_type": "stream",
     "text": [
      "Time taken to produce a signal and apply an ad-hoc high pass filter = 3.264195203781128 seconds\n"
     ]
    }
   ],
   "source": [
    "fs = jnp.append(jnp.arange(0.0, 2048., nparams['delta_f']), 2048.)\n",
    "idxs = np.where(fs < nparams['f_lower'])\n",
    "\n",
    "start = time.time()\n",
    "hp, hc = dummy(fs)\n",
    "# Use jnp for the insert operation\n",
    "hp = np.insert(hp, 0, 0)\n",
    "hc = np.insert(hc, 0, 0)\n",
    "# This should be possible via jnp as well\n",
    "hp[idxs] = 0.0 # ad-hoc high pass filtering\n",
    "hc[idxs] = 0.0 # ad-hoc high pass filtering\n",
    "end = time.time() - start\n",
    "\n",
    "print('Time taken to produce a signal and apply an ad-hoc high pass filter = {} seconds'.format(end))"
   ]
  },
  {
   "cell_type": "markdown",
   "metadata": {},
   "source": [
    "Writing the insert and boolean indexing via jnp seems to slow things down 10 fold. Not sure what I'm doing wrong. Let's just keep it the way it is and only speed-up waveform generation. We still observe a 5-6 times speed-up compared to PyCBC which might be enough for on-the-fly waveform generation."
   ]
  },
  {
   "attachments": {},
   "cell_type": "markdown",
   "metadata": {},
   "source": [
    "#### Optimising the PyCBC resizing via jax"
   ]
  },
  {
   "cell_type": "raw",
   "metadata": {},
   "source": [
    "# Obtained from https://pycbc.org/pycbc/latest/html/_modules/pycbc/types/array.html#Array.resize\n",
    "def resize(self, new_size):\n",
    "    \"\"\" Resize self to new_size \"\"\"\n",
    "    if new_size == len(self):\n",
    "        return\n",
    "    else:\n",
    "        self._saved = LimitedSizeDict(size_limit=2**5)\n",
    "        new_arr = zeros(new_size, dtype=self.dtype)\n",
    "        if len(self) <= new_size:\n",
    "            new_arr[0:len(self)] = self\n",
    "        else:\n",
    "            new_arr[:] = self[0:new_size]\n",
    "            \n",
    "        self._data = new_arr._data"
   ]
  },
  {
   "cell_type": "code",
   "execution_count": 63,
   "metadata": {},
   "outputs": [],
   "source": [
    "\"\"\" Resizing function rewritten using jax.numpy module \"\"\"\n",
    "@jax.jit\n",
    "def fast_resize():\n",
    "    # Use jnp to speed things up\n",
    "    return hp[0:fsize]"
   ]
  },
  {
   "cell_type": "code",
   "execution_count": 64,
   "metadata": {},
   "outputs": [
    {
     "name": "stdout",
     "output_type": "stream",
     "text": [
      "Time taken for numpy resizing = 0.00010466575622558594 seconds\n"
     ]
    }
   ],
   "source": [
    "start = time.time()\n",
    "hp_resized = hp[:fsize]\n",
    "hc_resized = hc[:fsize]\n",
    "end = time.time() - start\n",
    "print('Time taken for numpy resizing = {} seconds'.format(end))"
   ]
  },
  {
   "cell_type": "code",
   "execution_count": 65,
   "metadata": {},
   "outputs": [
    {
     "name": "stdout",
     "output_type": "stream",
     "text": [
      "Time taken for numpy resizing = 0.30388736724853516 seconds\n"
     ]
    }
   ],
   "source": [
    "start = time.time()\n",
    "hp_resized = fast_resize()\n",
    "end = time.time() - start\n",
    "print('Time taken for numpy resizing = {} seconds'.format(end))"
   ]
  },
  {
   "cell_type": "markdown",
   "metadata": {},
   "source": [
    "We can combine this the waveform generation function. Don't understand why slicing is so slow with jit. It seems much faster to use the regular numpy version instead of the jax jitted version."
   ]
  },
  {
   "attachments": {},
   "cell_type": "markdown",
   "metadata": {},
   "source": [
    "#### Optimising the PyCBC cyclic time shift function via jax"
   ]
  },
  {
   "cell_type": "raw",
   "metadata": {},
   "source": [
    "from pycbc.waveform import apply_fseries_time_shift\n",
    "data = apply_fseries_time_shift(self, dt)\n",
    "data.start_time = self.start_time - dt"
   ]
  },
  {
   "cell_type": "code",
   "execution_count": 66,
   "metadata": {},
   "outputs": [],
   "source": [
    "# The PyCBC schemed optimisation makes apply_fseries_time_shift not so transparent\n",
    "# We can just use jnp on the generic version of time shift\n",
    "fseries = jnp.array(fs)\n",
    "dt = nparams['delta_t']"
   ]
  },
  {
   "cell_type": "code",
   "execution_count": 67,
   "metadata": {},
   "outputs": [],
   "source": [
    "@jax.jit\n",
    "def dummy_shift():\n",
    "    return hp * jnp.exp(-2j*jnp.pi*dt*fseries)"
   ]
  },
  {
   "cell_type": "code",
   "execution_count": 68,
   "metadata": {},
   "outputs": [
    {
     "name": "stdout",
     "output_type": "stream",
     "text": [
      "Time taken for jitted version = 0.2729320526123047 seconds\n"
     ]
    }
   ],
   "source": [
    "start = time.time()\n",
    "hp = dummy_shift()\n",
    "end = time.time() - start\n",
    "print('Time taken for jitted version = {} seconds'.format(end))"
   ]
  },
  {
   "cell_type": "code",
   "execution_count": 69,
   "metadata": {},
   "outputs": [
    {
     "name": "stdout",
     "output_type": "stream",
     "text": [
      "Time taken for jitted version = 0.4972958564758301 seconds\n"
     ]
    }
   ],
   "source": [
    "start = time.time()\n",
    "hp = hp * np.exp(-2j*np.pi*dt*fseries)\n",
    "end = time.time() - start\n",
    "print('Time taken for jitted version = {} seconds'.format(end))"
   ]
  },
  {
   "cell_type": "markdown",
   "metadata": {},
   "source": [
    "Cyclic shift seems to be faster via the jitted version than the numpy version. I don't really get a sense of why a certain jitted function is faster than another. TODO: Look at JAX and JIT documentation for a better understanding."
   ]
  },
  {
   "attachments": {},
   "cell_type": "markdown",
   "metadata": {},
   "source": [
    "#### Optimising the wfuitls.fd_to_td function"
   ]
  },
  {
   "attachments": {},
   "cell_type": "raw",
   "metadata": {},
   "source": [
    "def fd_to_td(htilde, delta_t=None, left_window=None, right_window=None,\n",
    "          left_beta=8, right_beta=8):\n",
    "    \"\"\"Converts a FD waveform to TD.\n",
    "\n",
    "    A window can optionally be applied using ``fd_taper`` to the left or right\n",
    "    side of the waveform before being converted to the time domain.\n",
    "\n",
    "    Parameters\n",
    "    ----------\n",
    "    htilde : FrequencySeries\n",
    "        The waveform to convert.\n",
    "    delta_t : float, optional\n",
    "        Make the returned time series have the given ``delta_t``.\n",
    "    left_window : tuple of float, optional\n",
    "        A tuple giving the start and end frequency of the FD taper to apply\n",
    "        on the left side. If None, no taper will be applied on the left.\n",
    "    right_window : tuple of float, optional\n",
    "        A tuple giving the start and end frequency of the FD taper to apply\n",
    "        on the right side. If None, no taper will be applied on the right.\n",
    "    left_beta : int, optional\n",
    "        The beta parameter to use for the left taper. See ``fd_taper`` for\n",
    "        details. Default is 8.\n",
    "    right_beta : int, optional\n",
    "        The beta parameter to use for the right taper. Default is 8.\n",
    "\n",
    "    Returns\n",
    "    -------\n",
    "    TimeSeries\n",
    "        The time-series representation of ``htilde``.\n",
    "    \"\"\"\n",
    "    if left_window is not None:\n",
    "        start, end = left_window\n",
    "        htilde = fd_taper(htilde, start, end, side='left', beta=left_beta)\n",
    "    if right_window is not None:\n",
    "        start, end = right_window\n",
    "        htilde = fd_taper(htilde, start, end, side='right', beta=right_beta)\n",
    "    return htilde.to_timeseries(delta_t=delta_t)"
   ]
  },
  {
   "cell_type": "code",
   "execution_count": 70,
   "metadata": {},
   "outputs": [],
   "source": [
    "# tapering params\n",
    "end = 2048.\n",
    "start = 20.\n",
    "beta = 8\n",
    "delta_f = nparams['delta_f']\n",
    "\n",
    "# windowing params\n",
    "width = end - start\n",
    "winlen = int(2 * (width / delta_f))\n",
    "window = np.array(signal.get_window(('kaiser', beta), winlen))\n",
    "kmin = int(start / delta_f)\n",
    "kmax = kmin + winlen//2"
   ]
  },
  {
   "cell_type": "code",
   "execution_count": 71,
   "metadata": {},
   "outputs": [],
   "source": [
    "# Original fd_taper function as defined in PyCBC\n",
    "@jax.jit\n",
    "def fd_taper_left(out):\n",
    "    out = out.copy()\n",
    "    out.at[kmin:kmax].set(out[kmin:kmax] * window[:winlen//2])\n",
    "    out.at[:kmin].set(out[:kmin] * 0.)\n",
    "    return out"
   ]
  },
  {
   "cell_type": "code",
   "execution_count": 72,
   "metadata": {},
   "outputs": [
    {
     "name": "stdout",
     "output_type": "stream",
     "text": [
      "Time taken for fd_taper = 0.02227950096130371 seconds\n"
     ]
    }
   ],
   "source": [
    "# Converting the above function to a jitted version if possible\n",
    "start = time.time()\n",
    "out = fd_taper_left(hp)\n",
    "end = time.time() - start\n",
    "print('Time taken for fd_taper = {} seconds'.format(end))"
   ]
  },
  {
   "cell_type": "markdown",
   "metadata": {},
   "source": [
    "This is quite fast without being bogged down by unnecessary param calculations. It looks like we have to create a new dataset object class that saves these params in RAM before the job starts."
   ]
  },
  {
   "cell_type": "markdown",
   "metadata": {},
   "source": [
    "#### Total time taken after making each step as fast as possible"
   ]
  },
  {
   "cell_type": "raw",
   "metadata": {},
   "source": [
    "All times are assumed to be time taken by calculation during active dataloading\n",
    "1. We can set rwrap = 0.2 as a fixed value, T_rwrap = 0.0\n",
    "2. Calculating full_duration and some basic manipulations, T_dur = 0.0001 + 0.0005 = 0.0006\n",
    "3. Signal generation + ad-hoc high pass filter, T_waveform = 0.001\n",
    "4. Resizing the waveform, T_resize = 0.0005\n",
    "5. Cyclic shift after resizing, T_cyclic = 0.0005\n",
    "6. Tapering function, T_taper = 0.0005"
   ]
  },
  {
   "cell_type": "code",
   "execution_count": 73,
   "metadata": {},
   "outputs": [
    {
     "name": "stdout",
     "output_type": "stream",
     "text": [
      "Total time taken for signal generation = 0.0031 seconds\n"
     ]
    }
   ],
   "source": [
    "total_time_taken = 0.0006 + 0.001 + 0.0005 + 0.0005 + 0.0005\n",
    "print('Total time taken for signal generation = {} seconds'.format(total_time_taken))"
   ]
  },
  {
   "cell_type": "markdown",
   "metadata": {},
   "source": [
    "This looks like it should be fine. Assuming that this can go up to 0.01 seconds per waveform generation, it should still do fine given that MR sampling is slower than this."
   ]
  },
  {
   "cell_type": "markdown",
   "metadata": {},
   "source": [
    "## Incorporating Ripple Fast Waveform Generation into ORChiD"
   ]
  },
  {
   "cell_type": "code",
   "execution_count": 15,
   "metadata": {},
   "outputs": [],
   "source": [
    "# Transform written under the SignalWrapper in ORChiD\n",
    "class FastGenerateWaveform():\n",
    "    ## Used to augment on all parameters (uses GPU-accelerated IMRPhenomPv2 waveform generation)\n",
    "    ## Link to Ripple: https://github.com/tedwards2412/ripple\n",
    "    def __init__(self):\n",
    "        # Generate the frequency grid (default values)\n",
    "        self.f_lower = 20.\n",
    "        self.f_upper = 2048.\n",
    "        self.delta_f = 0.25 # dummy\n",
    "        self.delta_t = 1./2048.\n",
    "        self.f_ref = self.f_lower\n",
    "        # Clean-up params\n",
    "        self.rwrap = 3.0\n",
    "        # Tapering params\n",
    "        beta = 8\n",
    "        # Condition for optimise f_min\n",
    "        self.duration_padfactor = 1.1\n",
    "        # Pick the longest waveform from priors to make some params static\n",
    "        # Below params are for m1 = 5.01, m2 = 5.0 and with aligned spins s1z, s2z = 0.99\n",
    "        _theta = {'mass1': 5.01, 'mass2': 5.0, 'spin1z': 0.99, 'spin2z': 0.99}\n",
    "        self.tmp_f_lower, self.tmp_delta_f, self.fsize = self.optimise_fmin(_theta)\n",
    "        print(self.tmp_f_lower, self.tmp_delta_f, self.fsize)\n",
    "        # Get the fseries over which we get the waveform in FD\n",
    "        self.fseries = jnp.append(jnp.arange(0.0, self.f_upper, self.tmp_delta_f), self.f_upper)\n",
    "        fseries_trunc = self.fseries[:self.fsize]\n",
    "        self.cshift = jnp.exp(-2j*jnp.pi*(-self.rwrap)*fseries_trunc)\n",
    "        self.clean_idx = self.fseries < self.tmp_f_lower\n",
    "        # Windowing params\n",
    "        self.width = self.f_lower - self.tmp_f_lower\n",
    "        self.winlen = int(2. * (self.width / self.tmp_delta_f))\n",
    "        self.window = np.array(signal.get_window(('kaiser', beta), self.winlen))\n",
    "        self.kmin = int(self.tmp_f_lower / self.tmp_delta_f)\n",
    "        self.kmax = self.kmin + self.winlen//2\n",
    "    \n",
    "    def __str__(self):\n",
    "        data = \"f_lower = {}, f_upper = {}, \\n \\\n",
    "        delta_f = {}, delta_t = {}, f_ref = {}, \\n \\\n",
    "        rwrap = {}\".format(self.f_lower, self.f_upper, self.delta_f,\n",
    "                                   self.delta_t, self.f_ref, self.rwrap)\n",
    "        return data\n",
    "\n",
    "    \"\"\" ONE-OFF FUNCTIONS (Dont't require JAX or to be jitted in any way) \"\"\"\n",
    "    def ms_to_Mc_eta(self, masses):\n",
    "        ## Converts binary component masses to chirp mass and symmetric mass ratio.\n",
    "        m1, m2 = masses\n",
    "        return (m1 * m2) ** (3 / 5) / (m1 + m2) ** (1 / 5), m1 * m2 / (m1 + m2) ** 2\n",
    "\n",
    "    def get_imr_duration(self, theta, f_lower):\n",
    "        # This function is applicable for IMRPhenomD and IMRPhenomPv2\n",
    "        # Multiplying by a factor of 1.1 for overestimate of signal duration\n",
    "        return 1.1 * lalsim.SimIMRPhenomDChirpTime(theta['mass1']*1.989e+30, theta['mass2']*1.989e+30, \n",
    "                                                   theta['spin1z'], theta['spin2z'], \n",
    "                                                   f_lower)\n",
    "    \n",
    "    def nearest_larger_binary_number(self, input_len):\n",
    "        # Return the nearest binary number larger than input_len.\n",
    "        return int(2**np.ceil(np.log2(input_len)))\n",
    "\n",
    "    def optimise_fmin(self, theta):\n",
    "        ## NOTE: We find that even for the longest duration waveform we deal with\n",
    "        ## the value of f_lower is still 17.02 Hz (we can fix this value and remove this function)\n",
    "        # determine the duration to use\n",
    "        full_duration = duration = self.get_imr_duration(theta, self.f_lower)\n",
    "        tmp_f_lower = self.f_lower\n",
    "        while True:\n",
    "            # This iteration is typically done 16 times\n",
    "            full_duration = self.get_imr_duration(theta, tmp_f_lower)\n",
    "            condition = duration * self.duration_padfactor\n",
    "            if full_duration >= condition:\n",
    "                break\n",
    "            else:\n",
    "                # We can change this to tmp_f_lower -= 3.0 to lower iterations\n",
    "                # It will consequently increase the time taken for waveform generation process\n",
    "                # But, we've already seen that this shouldn't matter much for Ripple\n",
    "                # tmp_f_lower *= 0.99 is consistent with PyCBC docs\n",
    "                tmp_f_lower *= 0.99\n",
    "\n",
    "        # factor to ensure the vectors are all large enough. We don't need to\n",
    "        # completely trust our duration estimator in this case, at a small\n",
    "        # increase in computational cost\n",
    "        fudge_duration = (full_duration + .1 + self.rwrap) * self.duration_padfactor\n",
    "        fsamples = int(fudge_duration / self.delta_t)\n",
    "        N = self.nearest_larger_binary_number(fsamples)\n",
    "        fudge_duration = N * self.delta_t\n",
    "\n",
    "        tmp_delta_f = 1.0 / fudge_duration\n",
    "        tsize = int(1.0 / self.delta_t /  tmp_delta_f)\n",
    "        fsize = tsize // 2 + 1\n",
    "\n",
    "        return (tmp_f_lower, tmp_delta_f, fsize)\n",
    "    \n",
    "    \"\"\" NON-JITTABLES \"\"\"\n",
    "    # Using jnp and jitting this function caused significant slowdown\n",
    "    # Might have something to do with multiple compilations\n",
    "    def ripple_cleanup(self, hpol):\n",
    "        # Add the 0th frequency bin back into the fseries\n",
    "        hpol = np.insert(hpol, 0, 0)\n",
    "        # ad-hoc high pass filtering\n",
    "        hpol[self.clean_idx] = 0.0\n",
    "        return hpol\n",
    "    \n",
    "    \"\"\" JITTABLES \"\"\"\n",
    "    # Jitting these functions require the first argument (self) to be defined as static\n",
    "    @partial(jax.jit, static_argnums=(0,))\n",
    "    def ripple_cleanup_jitted(self, hpol):\n",
    "        # Add the 0th frequency bin back into the fseries\n",
    "        hpol = jnp.insert(hpol, 0, 0)\n",
    "        # ad-hoc high pass filtering\n",
    "        hpol = hpol.at[self.clean_idx].set(0.0)\n",
    "        return hpol\n",
    "    \n",
    "    @partial(jax.jit, static_argnums=(0,))\n",
    "    def convert_to_timeseries(self, hpol):\n",
    "        ## Convert frequency series to time series\n",
    "        return jnp.fft.irfftn(hpol) * (1./self.delta_t)\n",
    "    \n",
    "    @partial(jax.jit, static_argnums=(0,))\n",
    "    def fd_taper_left(self, out):\n",
    "        # Apply Tapering\n",
    "        out = out.at[self.kmin:self.kmax].set(out[self.kmin:self.kmax] * self.window[:self.winlen//2])\n",
    "        out = out.at[:self.kmin].set(out[:self.kmin] * 0.)\n",
    "        # Convert frequency series to time series\n",
    "        out = self.convert_to_timeseries(out)\n",
    "        return out\n",
    "    \n",
    "    @partial(jax.jit, static_argnums=(0,))\n",
    "    def cyclic_time_shift(self, hpol):\n",
    "        return hpol * self.cshift\n",
    "\n",
    "    @partial(jax.jit, static_argnums=(0,))\n",
    "    def resize(self, hpol):\n",
    "        # Use jnp to speed things up\n",
    "        return hpol[0:self.fsize]\n",
    "\n",
    "    @partial(jax.jit, static_argnums=(0,))\n",
    "    def get_theta_ripple(self, theta):\n",
    "        # Convert the prior values to jnp array\n",
    "        # Following params are required for IMRPhenomPv2\n",
    "        # m1_msun, m2_msun, s1x, s1y, s1z, s2x, s2y, s2z, distance_mpc, tc, phiRef, inclination\n",
    "        Mc, eta = self.ms_to_Mc_eta(jnp.array([theta[0], theta[1]]))\n",
    "        theta_ripple = jnp.append(jnp.array([Mc, eta]), jnp.array(theta[2:]))\n",
    "        return theta_ripple\n",
    "\n",
    "    @partial(jax.jit, static_argnums=(0,))\n",
    "    def get_hphc(self, theta, fseries):\n",
    "        # Get the IMRPhenomPv2 waveform using Ripple\n",
    "        return gen_IMRPhenomPv2_hphc(fseries[1:], theta, self.f_lower)\n",
    "\n",
    "    \"\"\" JITTED MAIN \"\"\"\n",
    "    def generate(self, _theta):\n",
    "        theta = _theta.copy()\n",
    "        ## Generate waveform on the fly using GPU-accelerated Ripple\n",
    "        # Convert theta to theta_ripple (jnp) (only required params)\n",
    "        theta_ripple = self.get_theta_ripple(theta)\n",
    "        # Get h_plus and h_cross from the given waveform parameters theta\n",
    "        # Note than hp and hc are in the frequency domain\n",
    "        start = time.time()\n",
    "        hp, hc = self.get_hphc(theta_ripple, self.fseries)\n",
    "        print(len(hp))\n",
    "        # Ripple specific clean-up\n",
    "        hp = self.ripple_cleanup(hp)\n",
    "        hc = self.ripple_cleanup(hc)\n",
    "        # Resizing (to the required sample rate)\n",
    "        hp = self.resize(hp)\n",
    "        hc = self.resize(hc)\n",
    "        \n",
    "        # Cyclic time-shift\n",
    "        hp = self.cyclic_time_shift(hp)\n",
    "        hc = self.cyclic_time_shift(hc)\n",
    "        # Tapering and fd_to_td\n",
    "        hp_td = self.fd_taper_left(hp)\n",
    "        hc_td = self.fd_taper_left(hc)\n",
    "        end = time.time() - start\n",
    "        print('tt = {} seconds'.format(end))\n",
    "        \n",
    "        return hp_td, hc_td\n",
    "    \n",
    "    def apply(self, params):\n",
    "        # Augmentation on all params\n",
    "        out = self.generate(params)\n",
    "        # Input: (h_plus, h_cross) --> output: (det1 h_t, det_2 h_t)\n",
    "        # Shape remains the same, so reading in dataset object won't be a problem\n",
    "        return out\n"
   ]
  },
  {
   "cell_type": "code",
   "execution_count": 16,
   "metadata": {},
   "outputs": [],
   "source": [
    "params_orchid = [50.001, 45., 0.0, 0.0, 0.0, 0.0, 0.0, 0.0, 440., 0.0, 0.0, 0.0]"
   ]
  },
  {
   "cell_type": "code",
   "execution_count": 17,
   "metadata": {},
   "outputs": [
    {
     "name": "stdout",
     "output_type": "stream",
     "text": [
      "19.211920199999998 0.03125 32769\n"
     ]
    }
   ],
   "source": [
    "gen = FastGenerateWaveform()"
   ]
  },
  {
   "cell_type": "code",
   "execution_count": 18,
   "metadata": {},
   "outputs": [
    {
     "name": "stdout",
     "output_type": "stream",
     "text": [
      "65536\n",
      "tt = 3.934473991394043 seconds\n",
      "32.0\n"
     ]
    },
    {
     "data": {
      "text/plain": [
       "[<matplotlib.lines.Line2D at 0x7fe164470eb0>]"
      ]
     },
     "execution_count": 18,
     "metadata": {},
     "output_type": "execute_result"
    },
    {
     "data": {
      "image/png": "[encoded data removed]",
      "text/plain": [
       "<Figure size 640x480 with 1 Axes>"
      ]
     },
     "metadata": {},
     "output_type": "display_data"
    }
   ],
   "source": [
    "out = gen.apply(params_orchid)\n",
    "print(len(out[1])/2048.)\n",
    "plt.plot(out[1][:])"
   ]
  },
  {
   "cell_type": "code",
   "execution_count": null,
   "metadata": {},
   "outputs": [],
   "source": [
    "# We are doing about 200 per second\n",
    "start = time.time()\n",
    "for n in range(200):\n",
    "    out = gen.apply(params_orchid)\n",
    "end = time.time() - start\n",
    "print('Time taken for fastgen class = {} seconds'.format(end))"
   ]
  },
  {
   "cell_type": "code",
   "execution_count": 7,
   "metadata": {},
   "outputs": [
    {
     "data": {
      "text/plain": [
       "5.902958103587057e+20"
      ]
     },
     "execution_count": 7,
     "metadata": {},
     "output_type": "execute_result"
    }
   ],
   "source": [
    "pycbc.DYN_RANGE_FAC"
   ]
  },
  {
   "cell_type": "code",
   "execution_count": null,
   "metadata": {},
   "outputs": [],
   "source": [
    "class FastGenerateWaveform():\n",
    "    ## Used to augment on all parameters (uses GPU-accelerated IMRPhenomPv2 waveform generation)\n",
    "    ## Link to Ripple: https://github.com/tedwards2412/ripple\n",
    "    def __init__(self):\n",
    "        # Generate the frequency grid (default values)\n",
    "        self.f_lower = 20.\n",
    "        self.f_upper = 2048.\n",
    "        self.delta_f = 0.25\n",
    "        self.delta_t = 1./2048.\n",
    "        self.sample_length_in_s = 1./self.delta_f\n",
    "        self.f_ref = self.f_lower\n",
    "        # Clean-up params\n",
    "        self.rwrap = 3.0\n",
    "        # Tapering params\n",
    "        beta = 8\n",
    "        # Condition for optimise f_min\n",
    "        self.duration_padfactor = 1.1\n",
    "        # Pick the longest waveform from priors to make some params static\n",
    "        # Below params are for m1 = 5.01, m2 = 5.0 and with aligned spins s1z, s2z = 0.99\n",
    "        _theta = {'mass1': 5.01, 'mass2': 5.0, 'spin1z': 0.99, 'spin2z': 0.99}\n",
    "        self.tmp_f_lower, self.tmp_delta_f, self.fsize = self.optimise_fmin(_theta)\n",
    "        # Get the fseries over which we get the waveform in FD\n",
    "        self.fseries = jnp.append(jnp.arange(0.0, self.f_upper, self.tmp_delta_f), self.f_upper)\n",
    "        fseries_trunc = self.fseries[:self.fsize]\n",
    "        self.cshift = jnp.exp(-2j*jnp.pi*(-self.rwrap)*fseries_trunc)\n",
    "        self.clean_idx = self.fseries < self.tmp_f_lower\n",
    "        # Windowing params\n",
    "        self.width = self.f_lower - self.tmp_f_lower\n",
    "        self.winlen = int(2. * (self.width / self.tmp_delta_f))\n",
    "        self.window = np.array(get_window(('kaiser', beta), self.winlen))\n",
    "        self.kmin = int(self.tmp_f_lower / self.tmp_delta_f)\n",
    "        self.kmax = self.kmin + self.winlen//2\n",
    "\n",
    "        # Projection params\n",
    "        self.signal_length = 12.0 # seconds\n",
    "        self.whiten_padding = 5.0 # seconds\n",
    "        self.error_padding_in_s = 0.5 # seconds\n",
    "    \n",
    "    def __str__(self):\n",
    "        data = \"f_lower = {}, f_upper = {}, \\n \\\n",
    "        delta_f = {}, delta_t = {}, f_ref = {}, \\n \\\n",
    "        rwrap = {}\".format(self.f_lower, self.f_upper, self.delta_f,\n",
    "                                   self.delta_t, self.f_ref, self.rwrap)\n",
    "        return data\n",
    "\n",
    "    \"\"\" ONE-OFF FUNCTIONS (Dont't require JAX or to be jitted in any way) \"\"\"\n",
    "    def ms_to_Mc_eta(self, masses):\n",
    "        ## Converts binary component masses to chirp mass and symmetric mass ratio.\n",
    "        m1, m2 = masses\n",
    "        return (m1 * m2) ** (3 / 5) / (m1 + m2) ** (1 / 5), m1 * m2 / (m1 + m2) ** 2\n",
    "\n",
    "    def get_imr_duration(self, theta, f_lower):\n",
    "        # This function is applicable for IMRPhenomD and IMRPhenomPv2\n",
    "        # Multiplying by a factor of 1.1 for overestimate of signal duration\n",
    "        return 1.1 * lalsim.SimIMRPhenomDChirpTime(theta['mass1']*1.989e+30, theta['mass2']*1.989e+30, \n",
    "                                                   theta['spin1z'], theta['spin2z'], \n",
    "                                                   f_lower)\n",
    "    \n",
    "    def nearest_larger_binary_number(self, input_len):\n",
    "        # Return the nearest binary number larger than input_len.\n",
    "        return int(2**np.ceil(np.log2(input_len)))\n",
    "\n",
    "    def optimise_fmin(self, theta):\n",
    "        ## NOTE: We find that even for the longest duration waveform we deal with\n",
    "        ## the value of f_lower is still 17.02 Hz (we can fix this value and remove this function)\n",
    "        # determine the duration to use\n",
    "        full_duration = duration = self.get_imr_duration(theta, self.f_lower)\n",
    "        tmp_f_lower = self.f_lower\n",
    "        while True:\n",
    "            # This iteration is typically done 16 times\n",
    "            full_duration = self.get_imr_duration(theta, tmp_f_lower)\n",
    "            condition = duration * self.duration_padfactor\n",
    "            if full_duration >= condition:\n",
    "                break\n",
    "            else:\n",
    "                # We can change this to tmp_f_lower -= 3.0 to lower iterations\n",
    "                # It will consequently increase the time taken for waveform generation process\n",
    "                # But, we've already seen that this shouldn't matter much for Ripple\n",
    "                # tmp_f_lower *= 0.99 is consistent with PyCBC docs\n",
    "                tmp_f_lower *= 0.99\n",
    "\n",
    "        # factor to ensure the vectors are all large enough. We don't need to\n",
    "        # completely trust our duration estimator in this case, at a small\n",
    "        # increase in computational cost\n",
    "        fudge_duration = (full_duration + .1 + self.rwrap) * self.duration_padfactor\n",
    "        fsamples = int(fudge_duration / self.delta_t)\n",
    "        N = self.nearest_larger_binary_number(fsamples)\n",
    "        fudge_duration = N * self.delta_t\n",
    "\n",
    "        tmp_delta_f = 1.0 / fudge_duration\n",
    "        tsize = int(1.0 / self.delta_t /  tmp_delta_f)\n",
    "        fsize = tsize // 2 + 1\n",
    "\n",
    "        return (tmp_f_lower, tmp_delta_f, fsize)\n",
    "    \n",
    "    \"\"\" NON-JITTABLES \"\"\"\n",
    "    # Using jnp and jitting this function caused significant slowdown\n",
    "    # Might have something to do with multiple compilations\n",
    "    def ripple_cleanup(self, hpol):\n",
    "        # Add the 0th frequency bin back into the fseries\n",
    "        hpol = np.insert(hpol, 0, 0)\n",
    "        # ad-hoc high pass filtering\n",
    "        hpol[self.clean_idx] = 0.0\n",
    "        return hpol\n",
    "    \n",
    "    \"\"\" JITTABLES \"\"\"\n",
    "    # Jitting these functions require the first argument (self) to be defined as static\n",
    "    @partial(jax.jit, static_argnums=(0,))\n",
    "    def ripple_cleanup_jitted(self, hpol):\n",
    "        # Add the 0th frequency bin back into the fseries\n",
    "        hpol = jnp.insert(hpol, 0, 0)\n",
    "        # ad-hoc high pass filtering\n",
    "        hpol = hpol.at[self.clean_idx].set(0.0)\n",
    "        return hpol\n",
    "    \n",
    "    @partial(jax.jit, static_argnums=(0,))\n",
    "    def convert_to_timeseries(self, hpol):\n",
    "        ## Convert frequency series to time series\n",
    "        return jnp.fft.irfftn(hpol) * (1./self.delta_t)\n",
    "    \n",
    "    @partial(jax.jit, static_argnums=(0,))\n",
    "    def fd_taper_left(self, out):\n",
    "        # Apply Tapering\n",
    "        out = out.at[self.kmin:self.kmax].set(out[self.kmin:self.kmax] * self.window[:self.winlen//2])\n",
    "        out = out.at[:self.kmin].set(out[:self.kmin] * 0.)\n",
    "        # Convert frequency series to time series\n",
    "        out = self.convert_to_timeseries(out)\n",
    "        return out\n",
    "    \n",
    "    @partial(jax.jit, static_argnums=(0,))\n",
    "    def cyclic_time_shift(self, hpol):\n",
    "        return hpol * self.cshift\n",
    "\n",
    "    @partial(jax.jit, static_argnums=(0,))\n",
    "    def resize(self, hpol):\n",
    "        # Use jnp to speed things up\n",
    "        return hpol[0:self.fsize]\n",
    "\n",
    "    def get_theta_ripple(self, theta):\n",
    "        # Convert the prior values to jnp array\n",
    "        # Following params are required for IMRPhenomPv2\n",
    "        # m1_msun, m2_msun, s1x, s1y, s1z, s2x, s2y, s2z, distance_mpc, tc, phiRef, inclination\n",
    "        Mc, eta = self.ms_to_Mc_eta(jnp.array([theta[0], theta[1]]))\n",
    "        theta_ripple = jnp.append(jnp.array([Mc, eta]), jnp.array(theta[2:]))\n",
    "        return theta_ripple\n",
    "\n",
    "    @partial(jax.jit, static_argnums=(0,))\n",
    "    def get_hphc(self, theta, fseries):\n",
    "        # Get the IMRPhenomPv2 waveform using Ripple\n",
    "        return gen_IMRPhenomPv2_hphc(fseries[1:], theta, self.f_lower)\n",
    "\n",
    "    \"\"\" MAIN \"\"\"\n",
    "    def make_injection(self, hp, hc):\n",
    "        # Get the required sample length and tc\n",
    "        sample_length_in_s = len(hp)/2048.\n",
    "        tc_obs = sample_length_in_s - self.rwrap\n",
    "        tc_req = np.random.uniform(low=11.0, high=11.2)\n",
    "        start_time = tc_obs - tc_req\n",
    "        end_time = tc_obs + (self.signal_length - tc_req)\n",
    "        # Pad the start and end times for whitening and error padding\n",
    "        start_time -= (self.whiten_padding/2.0 + self.error_padding_in_s)\n",
    "        end_time += (self.whiten_padding/2.0 + self.error_padding_in_s)\n",
    "        # Pad hpol with zeros (append or prepend) if necessary\n",
    "        left_pad = int(-start_time * 2048.) if start_time < 0.0 else 0\n",
    "        right_pad = int((end_time-sample_length_in_s) * 2048.) if end_time > sample_length_in_s else 0\n",
    "        hp = np.pad(hp, (left_pad, right_pad), 'constant', constant_values=(0.0, 0.0))\n",
    "        hc = np.pad(hc, (left_pad, right_pad), 'constant', constant_values=(0.0, 0.0))\n",
    "        # Slice the required section out of hpol\n",
    "        start_idx = int(start_time*2048.) if start_time > 0.0 else 0\n",
    "        end_idx = int(end_time*2048.) + int(left_pad)\n",
    "        slice_idx = slice(start_idx, end_idx)\n",
    "        hp = hp[slice_idx]\n",
    "        hc = hc[slice_idx]\n",
    "        return ((hp, hc), tc_req)\n",
    "\n",
    "    def project(self, hp, hc, special):\n",
    "        # Get hp, hc in the time domain and convert to h(t)\n",
    "        ## Get random value (with a given prior) for polarisation angle, ra, dec\n",
    "        # Polarisation angle\n",
    "        pol_angle = special['distrs']['pol'].rvs()[0][0]\n",
    "        # Right ascension, declination\n",
    "        sky_pos = special['distrs']['sky'].rvs()[0]\n",
    "        declination, right_ascension = sky_pos\n",
    "        # Use project_wave and random realisation of polarisation angle, ra, dec to obtain augmented signal\n",
    "        strains = [det.project_wave(hp, hc, right_ascension, declination, pol_angle) for det in self.dets]\n",
    "        return strains\n",
    "\n",
    "    def generate(self, _theta):\n",
    "        theta = _theta.copy()\n",
    "        ## Generate waveform on the fly using GPU-accelerated Ripple\n",
    "        # Convert theta to theta_ripple (jnp) (only required params)\n",
    "        theta_ripple = self.get_theta_ripple(theta)\n",
    "        # Get h_plus and h_cross from the given waveform parameters theta\n",
    "        # Note than hp and hc are in the frequency domain\n",
    "        hp, hc = self.get_hphc(theta_ripple, self.fseries)\n",
    "        # Ripple specific clean-up\n",
    "        hp = self.ripple_cleanup(hp)\n",
    "        hc = self.ripple_cleanup(hc)\n",
    "        # Resizing (to the required sample rate)\n",
    "        hp = self.resize(hp)\n",
    "        hc = self.resize(hc)\n",
    "        # Cyclic time-shift\n",
    "        hp = self.cyclic_time_shift(hp)\n",
    "        hc = self.cyclic_time_shift(hc)\n",
    "        # Tapering and fd_to_td\n",
    "        hp_td = self.fd_taper_left(hp)\n",
    "        hc_td = self.fd_taper_left(hc)\n",
    "        \n",
    "        return hp_td, hc_td\n",
    "    \n",
    "    def apply(self, params: dict, special: dict):\n",
    "        # Set lal.Detector object as global as workaround for MP methods\n",
    "        # Project wave does not work with DataLoader otherwise\n",
    "        setattr(self, 'dets', special['dets'])\n",
    "        # Augmentation on all params\n",
    "        hp, hc = self.generate(params)\n",
    "        # Make hp, hc into proper injection (adjust to tc and zero pad)\n",
    "        (hp, hc), tc = self.make_injection(hp, hc)\n",
    "        injection_params = {'tc': tc}\n",
    "        # Convert hp, hc into h(t) using antenna pattern (H1, L1 considered)\n",
    "        out = self.project(hp, hc, special)\n",
    "        # Input: (h_plus, h_cross) --> output: (det1 h_t, det_2 h_t)\n",
    "        return (out, injection_params)"
   ]
  }
 ],
 "metadata": {
  "kernelspec": {
   "display_name": "Python 3",
   "language": "python",
   "name": "python3"
  },
  "language_info": {
   "codemirror_mode": {
    "name": "ipython",
    "version": 3
   },
   "file_extension": ".py",
   "mimetype": "text/x-python",
   "name": "python",
   "nbconvert_exporter": "python",
   "pygments_lexer": "ipython3",
   "version": "3.9.19"
  }
 },
 "nbformat": 4,
 "nbformat_minor": 4
}
