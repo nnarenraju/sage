{
 "cells": [
  {
   "cell_type": "code",
   "execution_count": null,
   "metadata": {},
   "outputs": [],
   "source": [
    "def trainer(cfg, data_cfg, train_fold, val_fold, balance_params):\n",
    "    \n",
    "    # Get the dataset objects for training and validation\n",
    "    train_data, val_data, aux_data = dat.get_dataset_objects(cfg, data_cfg, train_fold, val_fold)\n",
    "    \n",
    "    # Get the Pytorch DataLoader objects of train and valid data\n",
    "    train_loader, val_loader, aux_loader, nepoch, cflag = dat.get_dataloader(cfg, train_data, val_data, aux_data, balance_params)\n",
    "    \n",
    "    # Initialise chosen model architecture (Backend + Frontend)\n",
    "    # Equivalent to the \"Network\" variable in manual mode without weights\n",
    "    cfg.model_params.update(dict(_input_length=data_cfg.network_sample_length,\n",
    "                                 _decimated_bins=data_cfg._decimated_bins))\n",
    "\n",
    "    # Init Network\n",
    "    device = torch.device(\"cuda:0\" if torch.cuda.is_available() else \"cpu\")\n",
    "    Network = cfg.model(**cfg.model_params)\n",
    "    Network = Network.to(device)\n",
    "    Network = torch.nn.DataParallel(Network, device_ids=[0, 2])\n",
    "\n",
    "    if os.path.exists(cfg.weights_path):\n",
    "        weights = torch.load(cfg.weights_path, device)\n",
    "        # Workaround for module. error\n",
    "        from collections import OrderedDict\n",
    "        new_state_dict = OrderedDict()\n",
    "        for k, v in weights.items():\n",
    "            if 'module' not in k:\n",
    "                k = 'module.'+k\n",
    "            else:\n",
    "                k = k.replace('features.module.', 'module.features.')\n",
    "            new_state_dict[k]=v\n",
    "\n",
    "        Network.load_state_dict(new_state_dict)\n",
    "        del weights; del new_state_dict; gc.collect()\n",
    "    \n",
    "    ## Display\n",
    "    print(\"Sample length for training and testing = {}\".format(data_cfg.network_sample_length))\n",
    "    \n",
    "    # Optimizer and Scheduler (Set to None if unused)\n",
    "    optimizer = cfg.optimizer(Network.parameters(), **cfg.optimizer_params)\n",
    "    scheduler = cfg.scheduler(optimizer, **cfg.scheduler_params)\n",
    "    # Loss function used\n",
    "    loss_function = cfg.loss_function\n",
    "    checkpoint = None\n",
    "    \n",
    "    return Network, val_loader"
   ]
  },
  {
   "cell_type": "code",
   "execution_count": null,
   "metadata": {},
   "outputs": [],
   "source": [
    "\"\"\" Prepare Data \"\"\"\n",
    "cfg = Validate_1epoch_D4_BEST_background_estimation\n",
    "# Get data creation/usage configuration\n",
    "data_cfg = DefaultOTF\n",
    "\n",
    "# Get input data length\n",
    "# Used in torch summary and to initialise norm layers\n",
    "dat.input_sample_length(data_cfg)\n",
    "\n",
    "# Make export dir\n",
    "dat.make_export_dir(cfg)\n",
    "\n",
    "# Prepare input data for training and testing\n",
    "# This should create/use a dataset and save a copy of the lookup table\n",
    "dat.get_summary(cfg, data_cfg, cfg.export_dir)\n",
    "\n",
    "Network, val_loader = trainer(cfg, data_cfg, None, None, None)"
   ]
  },
  {
   "cell_type": "code",
   "execution_count": null,
   "metadata": {},
   "outputs": [],
   "source": [
    "def validation_phase(Network, validation_samples):\n",
    "    # Evaluation of a single validation batch\n",
    "    with torch.amp.autocast('cuda'):\n",
    "        # Gradient evaluation is not required for validation and testing\n",
    "        # Make sure that we don't do a .backward() function anywhere inside this scope\n",
    "        with torch.no_grad():\n",
    "            validation_output = Network(validation_samples)\n",
    "    \n",
    "    # Returning quantities if saving data\n",
    "    return validation_output"
   ]
  },
  {
   "cell_type": "code",
   "execution_count": null,
   "metadata": {},
   "outputs": [],
   "source": [
    "Network.eval()\n",
    "save_voutput = []\n",
    "device = torch.device(\"cuda\" if torch.cuda.is_available() else \"cpu\")\n",
    "\n",
    "with torch.no_grad():\n",
    "    pbar = tqdm(val_loader, bar_format='{l_bar}{bar:50}{r_bar}{bar:-10b}', position=0, leave=True)\n",
    "    for nbatch, (validation_samples, _, _) in enumerate(pbar):\n",
    "        # Set validation dtype and device\n",
    "        validation_samples = validation_samples.to(device=device)\n",
    "        # Run training phase and get loss and accuracy\n",
    "        voutput = validation_phase(Network, validation_samples)\n",
    "        save_voutput.append(voutput)"
   ]
  },
  {
   "cell_type": "code",
   "execution_count": null,
   "metadata": {},
   "outputs": [],
   "source": []
  }
 ],
 "metadata": {
  "language_info": {
   "name": "python"
  },
  "orig_nbformat": 4
 },
 "nbformat": 4,
 "nbformat_minor": 2
}
