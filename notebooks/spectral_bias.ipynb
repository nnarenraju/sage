{
 "cells": [
  {
   "cell_type": "code",
   "execution_count": 3,
   "metadata": {},
   "outputs": [],
   "source": [
    "import numpy as np\n",
    "import matplotlib.pyplot as plt\n",
    "\n",
    "import warnings\n",
    "warnings.filterwarnings(\"ignore\", \"Wswiglal-redir-stdio\")\n",
    "\n",
    "from pycbc.detector import Detector"
   ]
  },
  {
   "cell_type": "code",
   "execution_count": 4,
   "metadata": {},
   "outputs": [],
   "source": [
    "class SinusoidGenerator():\n",
    "    ## Used to create sinusoid with different parameters to test biases\n",
    "    ## Bias due to waveform frequency comes under spectral bias\n",
    "    ## Bias due to signal duration comes under lack of proper inductive bias\n",
    "    def __init__(self, \n",
    "                 A, \n",
    "                 phi, \n",
    "                 spectral_bias = False,\n",
    "                 fixed_duration = 5.0,\n",
    "                 lower_freq = 0.0,\n",
    "                 upper_freq = 1024.0, \n",
    "                 duration_bias = False,\n",
    "                 fixed_frequency = 100.0,\n",
    "                 lower_tau = 0.1,\n",
    "                 upper_tau = 12.0,\n",
    "    ):\n",
    "        # Sinusoidal wave parameters in general form\n",
    "        self.A = A\n",
    "        self.phi = phi\n",
    "        # Spectral Bias (same duration, different frequencies)\n",
    "        self.spectral_bias = spectral_bias\n",
    "        self.fixed_duration = fixed_duration\n",
    "        self.lower_freq = lower_freq\n",
    "        self.upper_freq = upper_freq\n",
    "        # Duration bias (same frequency, different durations)\n",
    "        self.duration_bias = duration_bias\n",
    "        self.fixed_frequency = fixed_frequency\n",
    "        self.lower_tau = lower_tau\n",
    "        self.upper_tau = upper_tau\n",
    "    \n",
    "    def generate(self, f, t):\n",
    "        return self.A * np.sin(2.*np.pi*f*t + self.phi)\n",
    "\n",
    "    def get_time_shift(self, detectors):\n",
    "        # time shift signals based of detector choice\n",
    "        ifo1, ifo2 = detectors\n",
    "        dt = Detector(ifo1).light_travel_time_to_detector(Detector(ifo2))\n",
    "        return dt\n",
    "    \n",
    "    def add_zero_padding(self, signal, start_time, sample_length, sample_rate):\n",
    "        # if random duration less than sample_length, add zero padding\n",
    "        duration = len(signal)/sample_rate\n",
    "        left_pad = int(start_time * sample_rate)\n",
    "        right_pad = int((sample_length - (start_time + duration)) * sample_rate)\n",
    "        padded_signal = np.pad(signal, (left_pad, right_pad), 'constant', constant_values=(0, 0))\n",
    "        return padded_signal\n",
    "\n",
    "    def testing_spectral_bias(self, special):\n",
    "        ## Generating sin waves with different frequencies but same duration\n",
    "        # Params\n",
    "        detectors = ('H1', 'L1')\n",
    "        sample_length = 12.0 # seconds\n",
    "        sample_rate = 2048. # Hz\n",
    "        inj_low = 4.0\n",
    "        inj_high = 5.0\n",
    "        # Simulating bias\n",
    "        random_freq = np.random.uniform(low=self.lower_freq, high=self.upper_freq)\n",
    "        tseries = np.linspace(0.0, self.fixed_duration, int(self.fixed_duration*sample_rate))\n",
    "        # Get time shift between detectors\n",
    "        dt = self.get_time_shift(detectors)\n",
    "        signal = self.generate(random_freq, tseries)\n",
    "        start_time = np.random.uniform(inj_low, inj_high)\n",
    "        signal_det1 = self.add_zero_padding(signal, start_time, sample_length, sample_rate)\n",
    "        signal_det2 = self.add_zero_padding(signal, start_time+dt, sample_length, sample_rate)\n",
    "        print(random_freq, start_time)\n",
    "        return np.stack((signal_det1, signal_det2), axis=0)\n",
    "\n",
    "    def testing_duration_bias(self, special):\n",
    "        ## Generating sin waves with different duration but same frequency\n",
    "        # Params\n",
    "        detectors = ('H1', 'L1')\n",
    "        sample_length = 12.0 # seconds\n",
    "        sample_rate = 2048. # Hz\n",
    "        inj_low = 4.0\n",
    "        inj_high = 5.0\n",
    "        # Simulating bias\n",
    "        random_dur = np.random.uniform(low=self.lower_tau, high=self.upper_tau)\n",
    "        tseries = np.linspace(0.0, random_dur, int(random_dur*sample_rate))\n",
    "        # Get time shift between detectors\n",
    "        dt = self.get_time_shift(detectors)\n",
    "        signal = self.generate(self.fixed_frequency, tseries)\n",
    "        start_time = np.random.uniform(inj_low, inj_high)\n",
    "        signal_det1 = self.add_zero_padding(signal, start_time, sample_length, sample_rate)\n",
    "        signal_det2 = self.add_zero_padding(signal, start_time+dt, sample_length, sample_rate)\n",
    "        print(random_dur, start_time)\n",
    "        return np.stack((signal_det1, signal_det2), axis=0)\n",
    "\n",
    "    def apply(self, params: dict, special: dict):\n",
    "        ## Generate sin waves for testing biased learning\n",
    "        # Generate data based on required bias\n",
    "        if self.spectral_bias:\n",
    "            signals = self.testing_spectral_bias(special)\n",
    "        elif self.duration_bias:\n",
    "            signals = self.testing_duration_bias(special)\n",
    "        return signals"
   ]
  },
  {
   "cell_type": "code",
   "execution_count": 5,
   "metadata": {},
   "outputs": [],
   "source": [
    "gen = SinusoidGenerator(A=1e-20, \n",
    "                        phi=0.0, \n",
    "                        spectral_bias = True,\n",
    "                        fixed_duration = 5.0,\n",
    "                        lower_freq = 20.0,\n",
    "                        upper_freq = 1024.0, \n",
    "                        duration_bias = False,\n",
    "                        fixed_frequency = 100.0,\n",
    "                        lower_tau = 0.1,\n",
    "                        upper_tau = 12.0)"
   ]
  },
  {
   "cell_type": "code",
   "execution_count": 6,
   "metadata": {},
   "outputs": [
    {
     "name": "stdout",
     "output_type": "stream",
     "text": [
      "166.86549805393136 4.417162293393675\n"
     ]
    },
    {
     "data": {
      "text/plain": [
       "[<matplotlib.lines.Line2D at 0x7fd811701dc0>]"
      ]
     },
     "execution_count": 6,
     "metadata": {},
     "output_type": "execute_result"
    },
    {
     "data": {
      "image/png": "[encoded data removed]",
      "text/plain": [
       "<Figure size 640x480 with 1 Axes>"
      ]
     },
     "metadata": {},
     "output_type": "display_data"
    }
   ],
   "source": [
    "signals = gen.apply({}, {})\n",
    "plt.plot(signals[0])"
   ]
  },
  {
   "cell_type": "code",
   "execution_count": 39,
   "metadata": {},
   "outputs": [],
   "source": [
    "gen = SinusoidGenerator(A=1.0, \n",
    "                        phi=0.0, \n",
    "                        spectral_bias = False,\n",
    "                        fixed_duration = 5.0,\n",
    "                        lower_freq = 20.0,\n",
    "                        upper_freq = 1024.0, \n",
    "                        duration_bias = True,\n",
    "                        fixed_frequency = 100.0,\n",
    "                        lower_tau = 0.1,\n",
    "                        upper_tau = 5.0)"
   ]
  },
  {
   "cell_type": "code",
   "execution_count": 54,
   "metadata": {},
   "outputs": [
    {
     "name": "stdout",
     "output_type": "stream",
     "text": [
      "1.0293954981653537 4.727453695332725\n"
     ]
    }
   ],
   "source": [
    "signals = gen.apply({}, {})"
   ]
  },
  {
   "cell_type": "code",
   "execution_count": null,
   "metadata": {},
   "outputs": [],
   "source": []
  }
 ],
 "metadata": {
  "kernelspec": {
   "display_name": ".venv",
   "language": "python",
   "name": "python3"
  },
  "language_info": {
   "codemirror_mode": {
    "name": "ipython",
    "version": 3
   },
   "file_extension": ".py",
   "mimetype": "text/x-python",
   "name": "python",
   "nbconvert_exporter": "python",
   "pygments_lexer": "ipython3",
   "version": "3.9.19"
  },
  "orig_nbformat": 4
 },
 "nbformat": 4,
 "nbformat_minor": 2
}
