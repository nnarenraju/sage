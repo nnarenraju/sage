{
 "cells": [
  {
   "cell_type": "markdown",
   "metadata": {},
   "source": [
    "## The Fun Side"
   ]
  },
  {
   "cell_type": "markdown",
   "metadata": {},
   "source": [
    "Sage is training and I don't feel like reading or writing. Making a 1D cellular automata with the famous \"Rule 30\" to look at pretty plots of complex emergent behaviour."
   ]
  },
  {
   "cell_type": "code",
   "execution_count": 2,
   "metadata": {},
   "outputs": [],
   "source": [
    "import numpy as np\n",
    "import matplotlib.pyplot as plt"
   ]
  },
  {
   "cell_type": "code",
   "execution_count": 3,
   "metadata": {},
   "outputs": [],
   "source": [
    "def apply_rule(rule, state, pos):\n",
    "    left = state[pos - 1]\n",
    "    center = state[pos]\n",
    "    right = state[(pos + 1) % len(state)]\n",
    "    return rule[left * 4 + center * 2 + right]\n",
    "\n",
    "def evolve(rule, initial_state, steps):\n",
    "    state = initial_state.copy()\n",
    "    history = [state.copy()]\n",
    "    \n",
    "    for _ in range(steps):\n",
    "        new_state = np.zeros_like(state)\n",
    "        for i in range(len(state)):\n",
    "            new_state[i] = apply_rule(rule, state, i)\n",
    "        state = new_state\n",
    "        history.append(state.copy())\n",
    "    \n",
    "    return history\n",
    "\n",
    "def plot_evolution(history):\n",
    "    plt.figure(figsize=(10, 5))\n",
    "    plt.imshow(history, cmap=\"binary\", interpolation=\"nearest\")\n",
    "    plt.xlabel(\"Time Step\")\n",
    "    plt.ylabel(\"Cell\")\n",
    "    plt.title(\"Rule 30 Cellular Automaton Evolution\")\n",
    "    plt.show()"
   ]
  },
  {
   "cell_type": "code",
   "execution_count": 4,
   "metadata": {},
   "outputs": [
    {
     "data": {
      "image/png": "[encoded data removed]",
      "text/plain": [
       "<Figure size 1000x500 with 1 Axes>"
      ]
     },
     "metadata": {},
     "output_type": "display_data"
    }
   ],
   "source": [
    "# Define Rule 30\n",
    "rule30 = np.array([0, 1, 1, 1, 1, 0, 0, 0], dtype=int)\n",
    "# Set initial state\n",
    "initial_state = np.zeros(101, dtype=int)\n",
    "initial_state[50] = 1\n",
    "\n",
    "# Evolve and plot\n",
    "steps = 64\n",
    "evolution_history = evolve(rule30, initial_state, steps)\n",
    "plot_evolution(np.array(evolution_history))"
   ]
  },
  {
   "cell_type": "code",
   "execution_count": null,
   "metadata": {},
   "outputs": [],
   "source": [
    "# Define Rule 30\n",
    "rule30 = np.array([0, 1, 1, 1, 1, 0, 0, 0], dtype=int)\n",
    "# Set initial state\n",
    "initial_state = np.zeros(10001, dtype=int)\n",
    "initial_state[50] = 1\n",
    "\n",
    "# Evolve and plot\n",
    "steps = 10000\n",
    "evolution_history = evolve(rule30, initial_state, steps)\n",
    "plot_evolution(np.array(evolution_history))"
   ]
  },
  {
   "cell_type": "markdown",
   "metadata": {},
   "source": [
    "### Conway's Game of Life"
   ]
  },
  {
   "cell_type": "code",
   "execution_count": 19,
   "metadata": {},
   "outputs": [
    {
     "name": "stdout",
     "output_type": "stream",
     "text": [
      "Collecting cellpylib\n",
      "  Downloading cellpylib-2.4.0.tar.gz (38 kB)\n",
      "  Preparing metadata (setup.py) ... \u001b[?25ldone\n",
      "\u001b[?25hRequirement already satisfied: numpy>=1.15.4 in /home/nnarenraju/Research/ORChiD/DEBUGGING/ML-GWSC1-Glasgow/source/baseline/.venv/lib/python3.9/site-packages (from cellpylib) (1.26.3)\n",
      "Requirement already satisfied: matplotlib>=3.0.2 in /home/nnarenraju/Research/ORChiD/DEBUGGING/ML-GWSC1-Glasgow/source/baseline/.venv/lib/python3.9/site-packages (from cellpylib) (3.7.4)\n",
      "Requirement already satisfied: contourpy>=1.0.1 in /home/nnarenraju/Research/ORChiD/DEBUGGING/ML-GWSC1-Glasgow/source/baseline/.venv/lib/python3.9/site-packages (from matplotlib>=3.0.2->cellpylib) (1.2.0)\n",
      "Requirement already satisfied: cycler>=0.10 in /home/nnarenraju/Research/ORChiD/DEBUGGING/ML-GWSC1-Glasgow/source/baseline/.venv/lib/python3.9/site-packages (from matplotlib>=3.0.2->cellpylib) (0.12.1)\n",
      "Requirement already satisfied: fonttools>=4.22.0 in /home/nnarenraju/Research/ORChiD/DEBUGGING/ML-GWSC1-Glasgow/source/baseline/.venv/lib/python3.9/site-packages (from matplotlib>=3.0.2->cellpylib) (4.46.0)\n",
      "Requirement already satisfied: kiwisolver>=1.0.1 in /home/nnarenraju/Research/ORChiD/DEBUGGING/ML-GWSC1-Glasgow/source/baseline/.venv/lib/python3.9/site-packages (from matplotlib>=3.0.2->cellpylib) (1.4.5)\n",
      "Requirement already satisfied: packaging>=20.0 in /home/nnarenraju/Research/ORChiD/DEBUGGING/ML-GWSC1-Glasgow/source/baseline/.venv/lib/python3.9/site-packages (from matplotlib>=3.0.2->cellpylib) (23.2)\n",
      "Requirement already satisfied: pillow>=6.2.0 in /home/nnarenraju/Research/ORChiD/DEBUGGING/ML-GWSC1-Glasgow/source/baseline/.venv/lib/python3.9/site-packages (from matplotlib>=3.0.2->cellpylib) (10.1.0)\n",
      "Requirement already satisfied: pyparsing>=2.3.1 in /home/nnarenraju/Research/ORChiD/DEBUGGING/ML-GWSC1-Glasgow/source/baseline/.venv/lib/python3.9/site-packages (from matplotlib>=3.0.2->cellpylib) (3.1.1)\n",
      "Requirement already satisfied: python-dateutil>=2.7 in /home/nnarenraju/Research/ORChiD/DEBUGGING/ML-GWSC1-Glasgow/source/baseline/.venv/lib/python3.9/site-packages (from matplotlib>=3.0.2->cellpylib) (2.8.2)\n",
      "Requirement already satisfied: importlib-resources>=3.2.0 in /home/nnarenraju/Research/ORChiD/DEBUGGING/ML-GWSC1-Glasgow/source/baseline/.venv/lib/python3.9/site-packages (from matplotlib>=3.0.2->cellpylib) (6.1.1)\n",
      "Requirement already satisfied: zipp>=3.1.0 in /home/nnarenraju/Research/ORChiD/DEBUGGING/ML-GWSC1-Glasgow/source/baseline/.venv/lib/python3.9/site-packages (from importlib-resources>=3.2.0->matplotlib>=3.0.2->cellpylib) (3.17.0)\n",
      "Requirement already satisfied: six>=1.5 in /home/nnarenraju/Research/ORChiD/DEBUGGING/ML-GWSC1-Glasgow/source/baseline/.venv/lib/python3.9/site-packages (from python-dateutil>=2.7->matplotlib>=3.0.2->cellpylib) (1.16.0)\n",
      "Building wheels for collected packages: cellpylib\n",
      "  Building wheel for cellpylib (setup.py) ... \u001b[?25ldone\n",
      "\u001b[?25h  Created wheel for cellpylib: filename=cellpylib-2.4.0-py3-none-any.whl size=37923 sha256=12e543e52e495c5036f3a39e3f756ba8dd4a2efce9ab0690323d18caaa7e5ff6\n",
      "  Stored in directory: /home/nnarenraju/.cache/pip/wheels/8d/99/7b/e22e3050aac196673184a559b605f04c264f8b672f1c028208\n",
      "Successfully built cellpylib\n",
      "Installing collected packages: cellpylib\n",
      "Successfully installed cellpylib-2.4.0\n",
      "\n",
      "\u001b[1m[\u001b[0m\u001b[34;49mnotice\u001b[0m\u001b[1;39;49m]\u001b[0m\u001b[39;49m A new release of pip is available: \u001b[0m\u001b[31;49m23.3.1\u001b[0m\u001b[39;49m -> \u001b[0m\u001b[32;49m24.0\u001b[0m\n",
      "\u001b[1m[\u001b[0m\u001b[34;49mnotice\u001b[0m\u001b[1;39;49m]\u001b[0m\u001b[39;49m To update, run: \u001b[0m\u001b[32;49mpip install --upgrade pip\u001b[0m\n"
     ]
    }
   ],
   "source": [
    "! pip install cellpylib"
   ]
  },
  {
   "cell_type": "code",
   "execution_count": 6,
   "metadata": {},
   "outputs": [],
   "source": [
    "import cellpylib as cpl\n",
    "from matplotlib.animation import FuncAnimation\n",
    "\n",
    "# Glider\n",
    "cellular_automaton = cpl.init_simple2d(60, 60)\n",
    "cellular_automaton[:, [28,29,30,30], [30,31,29,31]] = 1\n",
    "\n",
    "# Blinker\n",
    "cellular_automaton[:, [40,40,40], [15,16,17]] = 1\n",
    "\n",
    "# Light Weight Space Ship (LWSS)\n",
    "cellular_automaton[:, [18,18,19,20,21,21,21,21,20], [45,48,44,44,44,45,46,47,48]] = 1"
   ]
  },
  {
   "cell_type": "code",
   "execution_count": 7,
   "metadata": {},
   "outputs": [
    {
     "name": "stdout",
     "output_type": "stream",
     "text": [
      "(256, 60, 60)\n"
     ]
    }
   ],
   "source": [
    "# evolve the cellular automaton for 60 time steps\n",
    "timesteps = 256\n",
    "cellular_automaton = cpl.evolve2d(cellular_automaton, timesteps=timesteps, neighbourhood='Moore',\n",
    "                                  apply_rule=cpl.game_of_life_rule, memoize='recursive')\n",
    "print(cellular_automaton.shape)"
   ]
  },
  {
   "cell_type": "code",
   "execution_count": 8,
   "metadata": {},
   "outputs": [
    {
     "name": "stderr",
     "output_type": "stream",
     "text": [
      "MovieWriter ffmpeg unavailable; using Pillow instead.\n"
     ]
    },
    {
     "data": {
      "image/png": "[encoded data removed]",
      "text/plain": [
       "<Figure size 640x480 with 1 Axes>"
      ]
     },
     "metadata": {},
     "output_type": "display_data"
    }
   ],
   "source": [
    "# Set up plotting\n",
    "fig = plt.figure()\n",
    "ax = plt.axes()  \n",
    "\n",
    "# Animation function\n",
    "def animate(i):\n",
    "    img = plt.imshow(cellular_automaton[i])\n",
    "    return img\n",
    "\n",
    "animation = FuncAnimation(fig,\n",
    "                          func = animate,\n",
    "                          frames = np.arange(0, timesteps, 1), \n",
    "                          interval = 1)\n",
    "\n",
    "animation.save(\"./conways_game_of_life.gif\")"
   ]
  },
  {
   "cell_type": "code",
   "execution_count": null,
   "metadata": {},
   "outputs": [],
   "source": []
  }
 ],
 "metadata": {
  "kernelspec": {
   "display_name": ".venv",
   "language": "python",
   "name": "python3"
  },
  "language_info": {
   "codemirror_mode": {
    "name": "ipython",
    "version": 3
   },
   "file_extension": ".py",
   "mimetype": "text/x-python",
   "name": "python",
   "nbconvert_exporter": "python",
   "pygments_lexer": "ipython3",
   "version": "3.9.18"
  },
  "orig_nbformat": 4
 },
 "nbformat": 4,
 "nbformat_minor": 2
}
