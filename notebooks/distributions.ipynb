{
 "cells": [
  {
   "cell_type": "markdown",
   "metadata": {},
   "source": [
    "#### Packages"
   ]
  },
  {
   "cell_type": "code",
   "execution_count": 2,
   "metadata": {},
   "outputs": [],
   "source": [
    "import sys\n",
    "import numpy as np\n",
    "import warnings\n",
    "warnings.filterwarnings(\"ignore\", \"Wswiglal-redir-stdio\")\n",
    "\n",
    "from pycbc import transforms\n",
    "#sys.path.insert(0, \"../data\")\n",
    "#from pycbc_draw_samples import read_config\n",
    "\n",
    "import matplotlib.pyplot as plt\n",
    "import matplotlib as mpl\n",
    "from scipy.stats import beta\n",
    "import time"
   ]
  },
  {
   "cell_type": "code",
   "execution_count": null,
   "metadata": {},
   "outputs": [],
   "source": [
    "# Packages\n",
    "from pycbc.conversions import _mass2_from_mchirp_mass1\n",
    "from pycbc.conversions import mass1_from_mchirp_eta, mass2_from_mchirp_eta"
   ]
  },
  {
   "cell_type": "code",
   "execution_count": null,
   "metadata": {},
   "outputs": [],
   "source": [
    "from pycbc import distributions\n",
    "from pycbc import conversions\n",
    "from math import atan2,degrees"
   ]
  },
  {
   "cell_type": "code",
   "execution_count": null,
   "metadata": {},
   "outputs": [],
   "source": [
    "from scipy.stats import halfnorm"
   ]
  },
  {
   "cell_type": "markdown",
   "metadata": {},
   "source": [
    "### Uniform on Signal Duration"
   ]
  },
  {
   "cell_type": "code",
   "execution_count": null,
   "metadata": {},
   "outputs": [],
   "source": [
    "def get_tau_priors(ml, mu, lf):\n",
    "    # m2 will always be slightly lower than m1, but (m, m) will give limit\n",
    "    # that the mchirp will never reach but tends to as num_samples tends to inf.\n",
    "    # Range for mchirp can be written as --> (min_mchirp, max_mchirp)\n",
    "    min_mchirp = (ml*ml / (ml+ml)**2.)**(3./5) * (ml + ml)\n",
    "    max_mchirp = (mu*mu / (mu+mu)**2.)**(3./5) * (mu + mu)\n",
    "    # Tau priors\n",
    "    G = 6.67e-11\n",
    "    c = 3.0e8\n",
    "    tau = lambda mc: 5. * (8.*np.pi*lf)**(-8./3.) * (mc*1.989e30*G/c**3.)**(-5./3.)\n",
    "    tau_lower = tau(max_mchirp)\n",
    "    tau_upper = tau(min_mchirp)\n",
    "    return (tau_lower, tau_upper)"
   ]
  },
  {
   "cell_type": "code",
   "execution_count": null,
   "metadata": {},
   "outputs": [],
   "source": [
    "def get_uniform_masses(mass_lower, mass_upper, num_samples):\n",
    "    # Get uniform mass distribution\n",
    "    x_mass = [np.random.uniform(mass_lower, mass_upper, num_samples) for _ in range(2)]\n",
    "    # Apply the mass constraint (mass2 <= mass1)\n",
    "    masses = np.column_stack((x_mass[0], x_mass[1]))\n",
    "    masses = np.fliplr(np.sort(masses, axis=1))\n",
    "    # Sanity check\n",
    "    assert all(masses[:,0] > masses[:,1]), \"Mass1 > Mass2 in mass priors!\"\n",
    "    # Assign mass1 and mass2\n",
    "    mass1 = masses[:,0]\n",
    "    mass2 = masses[:,1]\n",
    "    return (mass1, mass2)"
   ]
  },
  {
   "cell_type": "code",
   "execution_count": null,
   "metadata": {},
   "outputs": [],
   "source": [
    "def q_from_mass1_mass2(mass1, mass2):\n",
    "    # Calculate mass ratio (mass1/mass2) on bounds [1, +inf]\n",
    "    return mass1/mass2"
   ]
  },
  {
   "cell_type": "code",
   "execution_count": null,
   "metadata": {},
   "outputs": [],
   "source": [
    "def get_mchirp_priors(ml, mu):\n",
    "    # m2 will always be slightly lower than m1, but (m, m) will give limit\n",
    "    # that the mchirp will never reach but tends to as num_samples tends to inf.\n",
    "    # Range for mchirp can be written as --> (min_mchirp, max_mchirp)\n",
    "    min_mchirp = (ml*ml / (ml+ml)**2.)**(3./5) * (ml + ml)\n",
    "    max_mchirp = (mu*mu / (mu+mu)**2.)**(3./5) * (mu + mu)\n",
    "    return (min_mchirp, max_mchirp)"
   ]
  },
  {
   "cell_type": "raw",
   "metadata": {},
   "source": [
    "Pseudocode\n",
    "1. U(Tau_low, Tau_high) determined from ml=7.0 Msun and mu=50.0 Msun\n",
    "2. Find the intersection of const Tau curve on P(m1, m2) where m1 and m2 are uniform and m1>m2\n",
    "3. We can get an upper and lower bound on m1. We can now sample uniformly on m1.\n",
    "4. Obtain m2 from m1 and const Tau.\n",
    "5. Obtain q and mchirp."
   ]
  },
  {
   "cell_type": "code",
   "execution_count": null,
   "metadata": {},
   "outputs": [],
   "source": [
    "num_samples = 100_000"
   ]
  },
  {
   "cell_type": "code",
   "execution_count": null,
   "metadata": {},
   "outputs": [],
   "source": [
    "## Step 1a: Get uniform Tau values within bounds provided by m1 and m2\n",
    "tau_lower, tau_upper = get_tau_priors(ml=7.0, mu=50.0, lf=20.0)\n",
    "tau = np.random.uniform(tau_lower, tau_upper, num_samples)"
   ]
  },
  {
   "cell_type": "code",
   "execution_count": null,
   "metadata": {},
   "outputs": [],
   "source": [
    "## Step 1b: Get uniform chirp mass and convert to tau\n",
    "mchirp_lower, mchirp_upper = get_mchirp_priors(ml=7.0, mu=50.0)\n",
    "expected_mchirp = np.random.uniform(mchirp_lower, mchirp_upper, num_samples)\n",
    "G = 6.67e-11\n",
    "c = 3.0e8\n",
    "lf = 20.0\n",
    "tau = 5. * (8.*np.pi*lf)**(-8./3.) * (expected_mchirp*1.989e30*G/c**3.)**(-5./3.)"
   ]
  },
  {
   "cell_type": "code",
   "execution_count": null,
   "metadata": {},
   "outputs": [],
   "source": [
    "## Step 1c: Get power law chirp mass and convert to tau\n",
    "mchirp_lower, mchirp_upper = get_mchirp_priors(ml=7.0, mu=50.0)\n",
    "plaw_mchirp = (np.random.power(0.4, num_samples) * (mchirp_upper-mchirp_lower)) + mchirp_lower\n",
    "assert min(plaw_mchirp) >= mchirp_lower\n",
    "assert max(plaw_mchirp) <= mchirp_upper\n",
    "\n",
    "G = 6.67e-11\n",
    "c = 3.0e8\n",
    "lf = 20.0\n",
    "tau = 5. * (8.*np.pi*lf)**(-8./3.) * (plaw_mchirp*1.989e30*G/c**3.)**(-5./3.)\n",
    "\n",
    "plt.figure(figsize=(6.0, 6.0))\n",
    "plt.hist(plaw_mchirp, bins=100)\n",
    "plt.xlabel('Chirp Mass')\n",
    "plt.show()\n",
    "\n",
    "plt.figure(figsize=(6.0, 6.0))\n",
    "plt.hist(tau, bins=100)\n",
    "plt.xlabel('Tau')\n",
    "plt.show()"
   ]
  },
  {
   "cell_type": "code",
   "execution_count": null,
   "metadata": {},
   "outputs": [],
   "source": [
    "## Step 1d: Get power law tau\n",
    "# Go lower than 1.0 to bias toward lower values of tau\n",
    "tau_lower, tau_upper = get_tau_priors(ml=7.0, mu=50.0, lf=20.0)\n",
    "tau = (np.random.power(0.5, num_samples) * (tau_upper-tau_lower)) + tau_lower\n",
    "assert min(tau) >= tau_lower\n",
    "assert max(tau) <= tau_upper\n",
    "\n",
    "plt.figure(figsize=(6.0, 6.0))\n",
    "plt.hist(tau, bins=128)\n",
    "plt.show()"
   ]
  },
  {
   "cell_type": "code",
   "execution_count": null,
   "metadata": {},
   "outputs": [],
   "source": [
    "## Step 1e: Get halfnorm chirp mass and convert to tau\n",
    "mchirp_lower, mchirp_upper = get_mchirp_priors(ml=7.0, mu=50.0)\n",
    "hnorm_mchirp = halfnorm.rvs(size=1_000_000) * 10.0 + mchirp_lower\n",
    "G = 6.67e-11\n",
    "c = 3.0e8\n",
    "lf = 20.0\n",
    "tau = 5. * (8.*np.pi*lf)**(-8./3.) * (hnorm_mchirp*1.989e30*G/c**3.)**(-5./3.)\n",
    "\n",
    "plt.figure(figsize=(6.0, 6.0))\n",
    "plt.hist(hnorm_mchirp, bins=100)\n",
    "plt.xlabel('Chirp Mass')\n",
    "plt.show()\n",
    "\n",
    "plt.figure(figsize=(6.0, 6.0))\n",
    "plt.hist(tau, bins=100)\n",
    "plt.xlabel('Tau')\n",
    "plt.show()"
   ]
  },
  {
   "cell_type": "code",
   "execution_count": null,
   "metadata": {},
   "outputs": [],
   "source": [
    "## Step 2: Find the intersection of const Tau curve on P(m1, m2) where m1, m2 are uniform and m1>m2\n",
    "\n",
    "# Where does the curve intersect with m1=m2?\n",
    "lf = 20.0 # Hz\n",
    "G = 6.67e-11 # Nm^2/Kg^2\n",
    "c = 3.0e8 # ms^-1\n",
    "# tau = 5. * (8.*np.pi*lf)**(-8./3.) * (mchirp*1.989e30*G/c**3.)**(-5./3.)\n",
    "# tau = C * mchirp**(-5./3.)\n",
    "# tau = C * (m1+m2)^(1/3) / (m1m2)\n",
    "# if m1=m2, tau = C * (2m)^(1/3) / m^2\n",
    "# tau = C * 2^(1/3) * (m)^(1/3-2) = C' * m^(-5/3)\n",
    "# m = (tau/C')^(-3./5.)\n",
    "C = (5. * (8.*np.pi*lf)**(-8./3.)) * (1.989e30*G/c**3.)**(-5./3.)\n",
    "C_1dash = C * 2**(1./3.)\n",
    "intersc_diagonal = (tau/C_1dash)**(-3./5.)\n",
    "\n",
    "# Where does the curve intersect with x or y axis?\n",
    "# Where does it intersect m2 when m1=50.0 Msun?\n",
    "# tau = C * (m1+m2)^(1/3) / (m1m2)\n",
    "# (tau*50)/C = (50+m2)^(1/3) / m2\n",
    "# (tau/C\")^3 = (50+m2)/m2^3\n",
    "# C\"'*m2^3 = (50+m2)\n",
    "# C\"'m2^3 - m2 - 50 = 0 (coeff = C\"', 0, -1, -50)\n",
    "C_2dash = C/50.\n",
    "C_3dash = (tau/C_2dash)**3.\n",
    "# We get one non-complex root for the value of m2\n",
    "m2_when_m1_is_mu = np.array([np.roots([c3d, 0.0, -1, -50]) for c3d in C_3dash])\n",
    "m2_when_m1_is_mu = np.array([np.real(foo[np.isreal(foo)])[0] for foo in m2_when_m1_is_mu])\n",
    "\n",
    "# Where does it intersect m1 when m2=7.0 Msun?\n",
    "# tau = C * (m1+m2)^(1/3) / (m1m2)\n",
    "# (tau*7)/C = (m1+7)^(1/3) / m1\n",
    "# (tau/C\"\")^3 = (m1+7)/m1^3\n",
    "# C\"\"'*m1^3 = (m1+7)\n",
    "# C\"\"'m1^3 - m1 - 7 = 0 (coeff = C\"\"', 0, -1, -7)\n",
    "C_4dash = C/7.\n",
    "C_5dash = (tau/C_4dash)**3.\n",
    "# We get one non-complex root for the value of m2\n",
    "m1_when_m2_is_ml = np.array([np.roots([c5d, 0.0, -1, -7]) for c5d in C_5dash])\n",
    "m1_when_m2_is_ml = np.array([np.real(foo[np.isreal(foo)])[0] for foo in m1_when_m2_is_ml])"
   ]
  },
  {
   "cell_type": "code",
   "execution_count": null,
   "metadata": {},
   "outputs": [],
   "source": [
    "## Step 3: We can get an upper and lower bound on m1. We can now sample uniformly on m1.\n",
    "upper_bounds = m2_when_m1_is_mu\n",
    "# Checkl if bounds are correct\n",
    "idxs = m2_when_m1_is_mu < 7.0\n",
    "alt_idxs = m2_when_m1_is_mu >= 7.0\n",
    "upper_bounds[idxs] = m1_when_m2_is_ml[idxs]\n",
    "upper_bounds[alt_idxs] = np.full(sum(alt_idxs), 50.0)\n",
    "\n",
    "# Lower bounds\n",
    "lower_bounds = intersc_diagonal\n",
    "# Sampling uniformly on m1\n",
    "# print(any([lower_bounds_i >= upper_bounds_i for lower_bounds_i, upper_bounds_i in zip(lower_bounds, upper_bounds)]))\n",
    "mass1 = np.array([np.random.uniform(lb, ub) for lb, ub in zip(lower_bounds, upper_bounds)])"
   ]
  },
  {
   "cell_type": "code",
   "execution_count": null,
   "metadata": {},
   "outputs": [],
   "source": [
    "## Step 4: Obtain m2 from m1 and const Tau.\n",
    "# tau = C * (m1+m2)^(1/3) / (m1m2)\n",
    "# C\"\"\"m2^3 - m2 - m1 = 0 (coeff = C\"\"\", 0, -1, -m1)\n",
    "# C\"\"\" = (tau/(C/m1))^3\n",
    "C_6dash = (tau/(C/mass1))**3.\n",
    "mass2_roots = np.array([np.roots([c6d, 0.0, -1, -_m1]) for c6d, _m1 in zip(C_6dash, mass1)])\n",
    "mass2 = np.array([np.real(foo[np.isreal(foo)])[0] for foo in mass2_roots])"
   ]
  },
  {
   "cell_type": "code",
   "execution_count": null,
   "metadata": {},
   "outputs": [],
   "source": [
    "## Step 5: Obtain q and mchirp.\n",
    "q = mass1/mass2\n",
    "mchirp = (mass1*mass2 / (mass1+mass2)**2.)**(3./5) * (mass1 + mass2)"
   ]
  },
  {
   "cell_type": "code",
   "execution_count": null,
   "metadata": {},
   "outputs": [],
   "source": [
    "# Plotting all distributions\n",
    "bins = 128\n",
    "fig, ax = plt.subplots(3, 2, figsize=(15, 15))\n",
    "ax[0][0].hist(q, bins=bins)\n",
    "ax[0][0].set_xlabel('q')\n",
    "ax[0][1].hist(mchirp, bins=bins)\n",
    "ax[0][1].set_xlabel('mchirp')\n",
    "ax[1][0].hist(mass1, bins=bins)\n",
    "ax[1][0].set_xlabel('m1')\n",
    "ax[1][1].hist(mass2, bins=bins)\n",
    "ax[1][1].set_xlabel('m2')\n",
    "ax[2][0].hist(tau, bins=bins)\n",
    "ax[2][0].set_xlabel('tau')\n",
    "ax[2][1].hist2d(mass1, mass2, bins=bins, norm=mpl.colors.LogNorm(), cmap=mpl.cm.cividis)\n",
    "ax[2][1].set_xlabel('m1')\n",
    "ax[2][1].set_ylabel('m2')\n",
    "plt.show()"
   ]
  },
  {
   "cell_type": "code",
   "execution_count": null,
   "metadata": {},
   "outputs": [],
   "source": [
    "plt.figure(figsize=(6.0, 6.0))\n",
    "plt.hist2d(mchirp, q, bins=1024, norm=mpl.colors.LogNorm(), cmap=mpl.cm.cividis)\n",
    "plt.show()"
   ]
  },
  {
   "attachments": {},
   "cell_type": "markdown",
   "metadata": {},
   "source": [
    "#### What if we sampled along a const Mc curve proportional to the length of the curve?"
   ]
  },
  {
   "cell_type": "code",
   "execution_count": null,
   "metadata": {},
   "outputs": [],
   "source": [
    "# Will sampling more for longer curves ensure that we always sample more for lower chirp masses?\n",
    "# If a const Mc curve in the given range is longer, it means that the Mc can be represented in more ways than one with a shorter length.\n",
    "# More data and thus better interpolation might be required for a healthy representation of that const Mc\n",
    "# In terms of sampling, this means that lower Mc curves are sampled more than higher Mc curves. So some power law on Mc.\n",
    "# Or power law on tau with longer duration being higher than shorter durations.\n",
    "# Okay, I've convinced myself that this isn't a waste of time."
   ]
  },
  {
   "cell_type": "code",
   "execution_count": null,
   "metadata": {},
   "outputs": [],
   "source": [
    "# What is the chirp mass of the longest curve?\n",
    "tau = 2.5 # seconds\n",
    "lf = 20.0 # Hz\n",
    "G = 6.67e-11 # Nm^2/Kg^2\n",
    "c = 3.0e8 # ms^-1\n",
    "chirp_mass_from_tau = ((tau/5.) * (8.*np.pi*lf)**(8./3.))**(-3./5.) * (c**3./(G*1.989e30))\n",
    "# This explains the difficulty of some of our runs to properly understand around this chirp mass\n",
    "print(chirp_mass_from_tau)"
   ]
  },
  {
   "cell_type": "code",
   "execution_count": null,
   "metadata": {},
   "outputs": [],
   "source": [
    "# Find the arc length of a cubic curve doesn't seem analytically trivial \n",
    "# We can try a brute force approximate method\n",
    "\n",
    "class BoundedPriors:\n",
    "\n",
    "    def __init__(self, mu, ml, lf):\n",
    "        # Common\n",
    "        self.lf = lf # Hz (signal low freq cutoff)\n",
    "        self.mu = mu\n",
    "        self.ml = ml\n",
    "        # Constants\n",
    "        G = 6.67e-11 # Nm^2/Kg^2\n",
    "        c = 3.0e8 # ms^-1\n",
    "        self.const = (5. * (8.*np.pi*lf)**(-8./3.)) * (1.989e30*G/c**3.)**(-5./3.)\n",
    "\n",
    "    def _intersection_with_m1_eq_m2(self, tau):\n",
    "        # Where does the curve intersect with m1=m2?\n",
    "        C_1dash = self.const * 2**(1./3.)\n",
    "        intersc_diagonal = (tau/C_1dash)**(-3./5.)\n",
    "        return intersc_diagonal\n",
    "    \n",
    "    def _intersection_with_m2_when_m1_is_mu(self, tau):\n",
    "        # Where does the curve intersect with x or y axis?\n",
    "        # Where does it intersect m2 when m1=50.0 Msun?\n",
    "        C_2dash = self.const/self.mu\n",
    "        C_3dash = (tau/C_2dash)**3.\n",
    "        # We get one non-complex root for the value of m2\n",
    "        m2_when_m1_is_mu = np.array([np.roots([c3d, 0.0, -1, -self.mu]) for c3d in C_3dash])\n",
    "        m2_when_m1_is_mu = np.array([np.real(foo[np.isreal(foo)])[0] for foo in m2_when_m1_is_mu])\n",
    "        return m2_when_m1_is_mu\n",
    "\n",
    "    def _intersection_with_m1_when_m2_is_ml(self, tau):\n",
    "        # Where does it intersect m1 when m2=7.0 Msun?\n",
    "        C_4dash = self.const/self.ml\n",
    "        C_5dash = (tau/C_4dash)**3.\n",
    "        # We get one non-complex root for the value of m2\n",
    "        m1_when_m2_is_ml = np.array([np.roots([c5d, 0.0, -1, -self.ml]) for c5d in C_5dash])\n",
    "        m1_when_m2_is_ml = np.array([np.real(foo[np.isreal(foo)])[0] for foo in m1_when_m2_is_ml])\n",
    "        return m1_when_m2_is_ml\n",
    "    \n",
    "    def _get_m1_upper_bounds(self, m2_when_m1_is_mu, m1_when_m2_is_ml):\n",
    "        upper_bounds = m2_when_m1_is_mu\n",
    "        # Checkl if bounds are correct\n",
    "        idxs = m2_when_m1_is_mu < self.ml\n",
    "        alt_idxs = m2_when_m1_is_mu >= self.ml\n",
    "        upper_bounds[idxs] = m1_when_m2_is_ml[idxs]\n",
    "        upper_bounds[alt_idxs] = np.full(sum(alt_idxs), self.mu)\n",
    "        return upper_bounds\n",
    "    \n",
    "    def _get_m2_from_m1_tau(self, mass1, tau):\n",
    "        C_6dash = (tau/(self.const/mass1))**3.\n",
    "        mass2_roots = np.array([np.roots([c6d, 0.0, -1, -_m1]) for c6d, _m1 in zip(C_6dash, mass1)])\n",
    "        mass2 = np.array([np.real(foo[np.isreal(foo)])[0] for foo in mass2_roots])\n",
    "        return mass2\n",
    "    \n",
    "    def _common_umc_utau(self, tau):\n",
    "        ## Step 2: Find the intersection of const Tau curve on P(m1, m2) where m1, m2 are uniform and m1>m2\n",
    "        intersc_diagonal = self._intersection_with_m1_eq_m2(tau)\n",
    "        m2_when_m1_is_mu = self._intersection_with_m2_when_m1_is_mu(tau)\n",
    "        m1_when_m2_is_ml = self._intersection_with_m1_when_m2_is_ml(tau)\n",
    "        ## Step 3: We can get an upper and lower bound on m1. We can now sample uniformly on m1.\n",
    "        upper_bounds = self._get_m1_upper_bounds(m2_when_m1_is_mu, m1_when_m2_is_ml)\n",
    "        lower_bounds = intersc_diagonal\n",
    "        mass1 = np.array([np.random.uniform(lb, ub) for lb, ub in zip(lower_bounds, upper_bounds)])\n",
    "        ## Step 4: Obtain m2 from m1 and const Tau.\n",
    "        mass2 = self._get_m2_from_m1_tau(mass1, tau)\n",
    "        ## Step 5: Obtain q and mchirp.\n",
    "        q = mass1/mass2\n",
    "        mchirp = (mass1*mass2 / (mass1+mass2)**2.)**(3./5) * (mass1 + mass2)\n",
    "        return (mass1, mass2, q, mchirp)\n",
    "\n",
    "    def get_arc_length_given_tau(self, tau, num_pts):\n",
    "        ## Step 2: Find the intersection of const Tau curve on P(m1, m2) where m1, m2 are uniform and m1>m2\n",
    "        intersc_diagonal = self._intersection_with_m1_eq_m2(tau)\n",
    "        m2_when_m1_is_mu = self._intersection_with_m2_when_m1_is_mu(tau)\n",
    "        m1_when_m2_is_ml = self._intersection_with_m1_when_m2_is_ml(tau)\n",
    "        ## Step 3: We can get an upper and lower bound on m1. We can now sample uniformly on m1.\n",
    "        upper_bounds = self._get_m1_upper_bounds(m2_when_m1_is_mu, m1_when_m2_is_ml)[0]\n",
    "        lower_bounds = intersc_diagonal[0]\n",
    "        mass1 = np.linspace(lower_bounds, upper_bounds, num_pts)\n",
    "        mass1.sort()\n",
    "        ## Step 4: Obtain m2 from m1 and const Tau.\n",
    "        mass2 = self._get_m2_from_m1_tau(mass1, tau)\n",
    "        ## Step 5: Get Euclidean distance between consecutive m1, m2 coords\n",
    "        coords = np.column_stack((mass1, mass2))\n",
    "        euc_dist = lambda coord1, coord2: np.sqrt((coord2[0]-coord1[0])**2+(coord2[1]-coord1[1])**2)\n",
    "        chunk_lengths = [euc_dist(coords[i], coords[i+1]) for i in range(len(coords)-1)]\n",
    "        arc_length = np.sum(chunk_lengths)\n",
    "        return arc_length\n",
    "    \n",
    "    def get_bounded_gwparams_from_importance_tau(self, num_samples=10_000):\n",
    "        # Get tau from a beta distribution\n",
    "        # Relative importance of const Tau line incorporated in this prior\n",
    "        tau_lower, tau_upper = get_tau_priors(ml=self.ml, mu=self.mu, lf=self.lf)\n",
    "        tau = beta.rvs(1.7, 5.25, size=num_samples) * (tau_upper - tau_lower) + tau_lower\n",
    "        # Common steps\n",
    "        mass1, mass2, q, mchirp = self._common_umc_utau(tau)\n",
    "        return (mass1, mass2, q, mchirp, tau)"
   ]
  },
  {
   "cell_type": "code",
   "execution_count": null,
   "metadata": {},
   "outputs": [],
   "source": [
    "plt.figure()\n",
    "bp = BoundedPriors(mu=50.0, ml=7.0, lf=20.0)"
   ]
  },
  {
   "cell_type": "code",
   "execution_count": null,
   "metadata": {},
   "outputs": [],
   "source": [
    "# Arc length for given tau\n",
    "alt = lambda foo: np.array([foo]) # too lazy to change class\n",
    "plt.figure()\n",
    "\n",
    "for num_pts in [2, 3, 5, 10, 100, 1000]:\n",
    "    start = time.time()\n",
    "    arclens = []\n",
    "    taus = np.linspace(0.5, 10.0, 1000)\n",
    "    for _tau in taus:\n",
    "        arclen = round(bp.get_arc_length_given_tau(alt(_tau), num_pts), 2)\n",
    "        arclens.append(arclen)\n",
    "        # print('arclen = {} for tau = {}'.format(arclen, _tau))\n",
    "    end = time.time()\n",
    "    time_taken = end - start\n",
    "    print('Time taken for 1000 taus with {} pts = {} min and {} seconds'.format(num_pts, int(time_taken/60), round(time_taken%60., 3)))\n",
    "    plt.plot(taus, arclens, label='{} pts for m1'.format(num_pts))\n",
    "\n",
    "plt.xlabel('Tau')\n",
    "plt.ylabel('Arc Lengths')\n",
    "plt.xlim(1, 3)\n",
    "plt.ylim(20.0, 36.0)\n",
    "plt.grid()\n",
    "plt.legend()\n",
    "plt.show()"
   ]
  },
  {
   "attachments": {},
   "cell_type": "markdown",
   "metadata": {},
   "source": [
    "It's nice that we can get away with a relatively small number of points for estimating the arc length."
   ]
  },
  {
   "cell_type": "code",
   "execution_count": null,
   "metadata": {},
   "outputs": [],
   "source": [
    "def get_tau_priors(ml, mu, lf):\n",
    "    # Range for mchirp\n",
    "    min_mchirp, max_mchirp = get_mchirp_priors(ml, mu)\n",
    "    # Tau priors\n",
    "    G = 6.67e-11 # Nm^2/Kg^2\n",
    "    c = 3.0e8 # ms^-1\n",
    "    tau = lambda mc: 5. * (8.*np.pi*lf)**(-8./3.) * (mc*1.989e30*G/c**3.)**(-5./3.)\n",
    "    tau_lower = tau(max_mchirp)\n",
    "    tau_upper = tau(min_mchirp)\n",
    "    return (tau_lower, tau_upper)"
   ]
  },
  {
   "cell_type": "code",
   "execution_count": null,
   "metadata": {},
   "outputs": [],
   "source": [
    "# Arc length for given tau\n",
    "alt = lambda foo: np.array([foo]) # too lazy to change class\n",
    "tau_min, tau_max = get_tau_priors(7.0, 50.0, 20.0)\n",
    "plt.figure()\n",
    "\n",
    "for num_pts in [5]:\n",
    "    start = time.time()\n",
    "    arclens = []\n",
    "    taus = np.linspace(tau_min, tau_max, 1000)\n",
    "    for _tau in taus:\n",
    "        arclen = round(bp.get_arc_length_given_tau(alt(_tau), num_pts), 2)\n",
    "        arclens.append(arclen)\n",
    "        # print('arclen = {} for tau = {}'.format(arclen, _tau))\n",
    "    end = time.time()\n",
    "    time_taken = end - start\n",
    "    print('Time taken for 1000 taus with {} pts = {} min and {} seconds'.format(num_pts, int(time_taken/60), round(time_taken%60., 3)))\n",
    "    plt.plot(taus, arclens, label='{} pts for m1'.format(num_pts))\n",
    "\n",
    "plt.xlabel('Tau')\n",
    "plt.ylabel('Arc Lengths')\n",
    "plt.xlim(tau_min, tau_max)\n",
    "plt.ylim(0.0)\n",
    "plt.grid()\n",
    "plt.legend()\n",
    "plt.show()"
   ]
  },
  {
   "attachments": {},
   "cell_type": "markdown",
   "metadata": {},
   "source": [
    "We don't need all that many samples for the longest signal duration since it can only be produced by a single m1, m2 pair. This makes sense. The same is true for the shortest signal duration. Pairing this with a uniform signal duration prior might help the network obtain an unbiased representation as fast as possible. The sampling will be proportional to the \"amount of information\". "
   ]
  },
  {
   "cell_type": "code",
   "execution_count": null,
   "metadata": {},
   "outputs": [],
   "source": [
    "foo = beta.rvs(1.7, 5.25, size=1_000_000) * (tau_max - tau_min) + tau_min\n",
    "plt.figure()\n",
    "plt.hist(foo, bins=100, density=True)\n",
    "plt.show()"
   ]
  },
  {
   "cell_type": "code",
   "execution_count": null,
   "metadata": {},
   "outputs": [],
   "source": [
    "mass1, mass2, q, mchirp, tau = bp.get_bounded_gwparams_from_importance_tau(num_samples=1_000_000)"
   ]
  },
  {
   "cell_type": "code",
   "execution_count": null,
   "metadata": {},
   "outputs": [],
   "source": [
    "# Plotting all distributions\n",
    "bins = 1024\n",
    "fig, ax = plt.subplots(3, 2, figsize=(15, 15))\n",
    "ax[0][0].hist(q, bins=bins)\n",
    "ax[0][0].set_xlabel('q')\n",
    "ax[0][1].hist(mchirp, bins=bins)\n",
    "ax[0][1].set_xlabel('mchirp')\n",
    "ax[1][0].hist(mass1, bins=bins)\n",
    "ax[1][0].set_xlabel('m1')\n",
    "ax[1][1].hist(mass2, bins=bins)\n",
    "ax[1][1].set_xlabel('m2')\n",
    "ax[2][0].hist(tau, bins=bins)\n",
    "ax[2][0].set_xlabel('tau')\n",
    "ax[2][1].hist2d(mass1, mass2, bins=bins, norm=mpl.colors.LogNorm(), cmap=mpl.cm.cividis)\n",
    "ax[2][1].set_xlabel('m1')\n",
    "ax[2][1].set_ylabel('m2')\n",
    "plt.show()"
   ]
  },
  {
   "cell_type": "code",
   "execution_count": null,
   "metadata": {},
   "outputs": [],
   "source": [
    "# Arc length for given mchirp\n",
    "alt = lambda foo: np.array([foo]) # too lazy to change class\n",
    "mchirp_min, mchirp_max = get_mchirp_priors(7.0, 50.0)\n",
    "plt.figure()\n",
    "\n",
    "for num_pts in [5]:\n",
    "    start = time.time()\n",
    "    arclens = []\n",
    "    mcs = np.linspace(mchirp_min, mchirp_max, 1000) # thinking linear in mchirp instead of tau\n",
    "    G = 6.67e-11\n",
    "    c = 3.0e8\n",
    "    lf = 20.0\n",
    "    taus = 5. * (8.*np.pi*lf)**(-8./3.) * (mcs*1.989e30*G/c**3.)**(-5./3.)\n",
    "    for _tau in taus:\n",
    "        arclen = round(bp.get_arc_length_given_tau(alt(_tau), num_pts), 2)\n",
    "        arclens.append(arclen)\n",
    "    end = time.time()\n",
    "    time_taken = end - start\n",
    "    print('Time taken for 1000 mcs with {} pts = {} min and {} seconds'.format(num_pts, int(time_taken/60), round(time_taken%60., 3)))\n",
    "    plt.plot(mcs, arclens, label='{} pts for m1'.format(num_pts))\n",
    "\n",
    "plt.xlabel('Mc')\n",
    "plt.ylabel('Arc Lengths')\n",
    "plt.xlim(mchirp_min, mchirp_max)\n",
    "plt.ylim(0.0)\n",
    "plt.grid()\n",
    "plt.legend()\n",
    "plt.show()"
   ]
  },
  {
   "attachments": {},
   "cell_type": "markdown",
   "metadata": {},
   "source": [
    "#### Plotting altered distribution"
   ]
  },
  {
   "cell_type": "code",
   "execution_count": null,
   "metadata": {},
   "outputs": [],
   "source": [
    "def labelLine(line,x,label=None,align=True,**kwargs):\n",
    "\n",
    "    ax = line.axes\n",
    "    xdata = line.get_xdata()\n",
    "    ydata = line.get_ydata()\n",
    "\n",
    "    if (x < xdata[0]) or (x > xdata[-1]):\n",
    "        print('x label location is outside data range!')\n",
    "        return\n",
    "\n",
    "    #Find corresponding y co-ordinate and angle of the line\n",
    "    ip = 1\n",
    "    for i in range(len(xdata)):\n",
    "        if x < xdata[i]:\n",
    "            ip = i\n",
    "            break\n",
    "\n",
    "    y = ydata[ip-1] + (ydata[ip]-ydata[ip-1])*(x-xdata[ip-1])/(xdata[ip]-xdata[ip-1])\n",
    "\n",
    "    if not label:\n",
    "        label = line.get_label()\n",
    "\n",
    "    if align:\n",
    "        #Compute the slope\n",
    "        dx = xdata[ip] - xdata[ip-1]\n",
    "        dy = ydata[ip] - ydata[ip-1]\n",
    "        ang = degrees(atan2(dy,dx))\n",
    "\n",
    "        #Transform to screen co-ordinates\n",
    "        pt = np.array([x,y]).reshape((1,2))\n",
    "        trans_angle = ax.transData.transform_angles(np.array((ang,)),pt)[0]\n",
    "\n",
    "    else:\n",
    "        trans_angle = 0\n",
    "\n",
    "    #Set a bunch of keyword arguments\n",
    "    if 'color' not in kwargs:\n",
    "        kwargs['color'] = line.get_color()\n",
    "\n",
    "    if ('horizontalalignment' not in kwargs) and ('ha' not in kwargs):\n",
    "        kwargs['ha'] = 'center'\n",
    "\n",
    "    if ('verticalalignment' not in kwargs) and ('va' not in kwargs):\n",
    "        kwargs['va'] = 'center'\n",
    "\n",
    "    if 'backgroundcolor' not in kwargs:\n",
    "        kwargs['backgroundcolor'] = ax.get_facecolor()\n",
    "\n",
    "    if 'clip_on' not in kwargs:\n",
    "        kwargs['clip_on'] = True\n",
    "\n",
    "    if 'zorder' not in kwargs:\n",
    "        kwargs['zorder'] = 2.5\n",
    "\n",
    "    ax.text(x,y,label,rotation=trans_angle,**kwargs)\n",
    "\n",
    "def labelLines(lines,align=True,xvals=None,**kwargs):\n",
    "\n",
    "    ax = lines[0].axes\n",
    "    labLines = []\n",
    "    labels = []\n",
    "\n",
    "    #Take only the lines which have labels other than the default ones\n",
    "    for line in lines:\n",
    "        label = line.get_label()\n",
    "        if \"_line\" not in label:\n",
    "            labLines.append(line)\n",
    "            labels.append(label)\n",
    "\n",
    "    if xvals is None:\n",
    "        xmin,xmax = ax.get_xlim()\n",
    "        xvals = np.linspace(xmin,xmax,len(labLines)+2)[1:-1]\n",
    "\n",
    "    for line,x,label in zip(labLines,xvals,labels):\n",
    "        labelLine(line,x,label,align,**kwargs)"
   ]
  },
  {
   "cell_type": "code",
   "execution_count": null,
   "metadata": {},
   "outputs": [],
   "source": [
    "_m1 = mass1\n",
    "_m2 = mass2\n",
    "ml, mu = (7.0, 50.0)\n",
    "\n",
    "plt.figure(figsize=(7.0, 6.0), dpi=300)\n",
    "mchirp = (_m1*_m2 / (_m1+_m2)**2.)**(3./5) * (_m1 + _m2)\n",
    "# cmap_custom = LinearSegmentedColormap.from_list('', ['white', *plt.cm.cividis(np.arange(255))])\n",
    "\n",
    "#plt.scatter(_m1, _m2, s=0.01, c=mchirp, cmap='cividis')\n",
    "plt.hist2d(_m1, _m2, cmap='cividis', bins=1024, norm=mpl.colors.LogNorm())\n",
    "\n",
    "# Get mchirp from given tau\n",
    "tau = [0.5, 1.0, 2.0, 4.0]\n",
    "print('tau = {}'.format(tau))\n",
    "lf = 20.0 # Signal low frequency cutoff\n",
    "G = 6.67e-11\n",
    "c = 3.0e8\n",
    "mchirp_from_tau = lambda tau: (((5. * (8.*np.pi*lf)**(-8./3.))/tau)**(3./5.))/(1.989e30*G/c**3.)\n",
    "mchirp_line = [mchirp_from_tau(_tau) for _tau in tau]\n",
    "\n",
    "# mchirp curve on m1, m2 plot\n",
    "print('mchirp line at = {}'.format(mchirp_line))\n",
    "for _mc, _tau in zip(mchirp_line, tau):\n",
    "    m1_line = np.linspace(ml, mu, 1000)\n",
    "    m2_line = [_mass2_from_mchirp_mass1(mchirp=_mc, mass1=m1i) for m1i in m1_line]\n",
    "    plt.plot(m1_line, m2_line, c='k', label=r'$\\tau={}s$'.format(_tau))\n",
    "\n",
    "labelLines(plt.gca().get_lines(), xvals=(41.8, 26.6, 16.55, 10), zorder=2.5, fontsize=12)\n",
    "\n",
    "# We change the fontsize of minor ticks label \n",
    "fontsize = 14\n",
    "plt.tick_params(axis='both', which='major', labelsize=fontsize)\n",
    "\n",
    "plt.xlim(ml, mu)\n",
    "plt.ylim(ml, mu)\n",
    "plt.xlabel(r'$\\mathregular{m_1} \\; (\\mathrm{M}_\\odot)$', fontsize=fontsize)\n",
    "plt.ylabel(r'$\\mathregular{m_2} \\; (\\mathrm{M}_\\odot)$', fontsize=fontsize)\n",
    "cbar = plt.colorbar(fraction=.05, pad=0.05)\n",
    "cbar.ax.tick_params(labelsize=fontsize)\n",
    "cbar.set_label('Number of Samples', size=fontsize)\n",
    "plt.tight_layout()\n",
    "plt.savefig('./paper/testing_dataset_priors.png')"
   ]
  },
  {
   "attachments": {},
   "cell_type": "markdown",
   "metadata": {},
   "source": [
    "### Experimenting with Tau0 and Tau3 joint distribution for ORChiD priors"
   ]
  },
  {
   "cell_type": "code",
   "execution_count": null,
   "metadata": {},
   "outputs": [],
   "source": [
    "# Defining Tau0 and Tau3\n",
    "fl = 20.0 # Hz (signal low freq cutoff)\n",
    "G = 6.67e-11 # Nm^2/Kg^2\n",
    "c = 3.0e8 # ms^-1\n",
    "A0 = 5./(256.*(np.pi*fl)**(8./3.))\n",
    "tau0_given_mc = lambda Mc: A0 * (Mc*1.989e30*G/c**3.)**(-5./3.)"
   ]
  },
  {
   "cell_type": "code",
   "execution_count": null,
   "metadata": {},
   "outputs": [],
   "source": [
    "# Get Mc bounds and use that to get bounds on tau0\n",
    "ml = 7.0 # Msun\n",
    "mu = 50.0 # Msun\n",
    "min_mchirp = (ml*ml / (ml+ml)**2.)**(3./5) * (ml + ml)\n",
    "max_mchirp = (mu*mu / (mu+mu)**2.)**(3./5) * (mu + mu)\n",
    "# Bounds on Tau0\n",
    "min_tau0 = tau0_given_mc(min_mchirp)\n",
    "max_tau0 = tau0_given_mc(max_mchirp)"
   ]
  },
  {
   "cell_type": "code",
   "execution_count": null,
   "metadata": {},
   "outputs": [],
   "source": [
    "# Tau3 when Tau0 is given\n",
    "# x^3 - px + q = 0 (where x=M^1/3, p=-A0/(tau0/me) and q=-me)\n",
    "# We will sample uniformly on tau0, me is constant and we get the roots for x\n",
    "# We can get M from x and apply it to tau3 = (A3/A0)*tau0*M to get tau3 at boundaries\n",
    "# tau3 = 4*A3*(tau0/4A0)**(2./5.) when eta = 0.25 at m1=m2\n",
    "# Once we get boundaries on tau3 given tau0, we can sample uniformly on tau0 to get tau3 within bounds\n",
    "\n",
    "## Sample uniformly on tau0\n",
    "num_samples = 10_000\n",
    "tau0 = np.random.uniform(min_tau0, max_tau0, num_samples)\n",
    "\n",
    "## Boundaries of tau3 given tau0\n"
   ]
  },
  {
   "cell_type": "code",
   "execution_count": null,
   "metadata": {},
   "outputs": [],
   "source": [
    "# Once we get points in the tau0, tau3 joint distribution, we can convert this to m1, m2\n",
    "pass"
   ]
  },
  {
   "cell_type": "code",
   "execution_count": null,
   "metadata": {},
   "outputs": [],
   "source": [
    "# Plotting the distributions\n",
    "# Hopefully a distribution that is uniform on tau0, tau3 space will translate to what we need on Mc, q\n",
    "pass"
   ]
  },
  {
   "attachments": {},
   "cell_type": "markdown",
   "metadata": {},
   "source": [
    "### Experimenting with joint distributions"
   ]
  },
  {
   "cell_type": "code",
   "execution_count": null,
   "metadata": {},
   "outputs": [],
   "source": [
    "import os\n",
    "import h5py\n",
    "import numpy as np\n",
    "import matplotlib.pyplot as plt\n",
    "import matplotlib as mpl\n",
    "import sys\n",
    "sys.path.append('/home/nnarenraju/Research/ORChiD/DEBUGGING/ML-GWSC1-Glasgow/source/baseline/utils')\n",
    "from get_testdata_snr import get_snrs\n",
    "#sys.path.append(\"/home/nnarenraju/Research/ORChiD/DEBUGGING/ML-GWSC1-Glasgow/source/baseline\")\n",
    "#from data_configs import Default as data_cfg"
   ]
  },
  {
   "cell_type": "code",
   "execution_count": null,
   "metadata": {},
   "outputs": [],
   "source": [
    "\n",
    "names = ['mass1', 'mass2', 'ra', 'dec', 'inclination', 'coa_phase', 'polarization',\n",
    "        'chirp_distance', 'spin1_a', 'spin1_azimuthal', 'spin1_polar', 'spin2_a',\n",
    "        'spin2_azimuthal', 'spin2_polar', 'injection_time', 'tc', 'spin1x', 'spin1y',\n",
    "        'spin1z', 'spin2x', 'spin2y', 'spin2z', 'mchirp', 'q', 'distance']\n",
    "\n",
    "mpnames = {name:n for n, name in enumerate(names)}"
   ]
  },
  {
   "cell_type": "code",
   "execution_count": null,
   "metadata": {},
   "outputs": [],
   "source": [
    "injections_file = \"/local/scratch/igr/nnarenraju/injections_plots/injections.hdf\"\n",
    "with h5py.File(injections_file, \"r\") as foo:\n",
    "    # Attributes of file        \n",
    "    injections = np.asarray(foo['data'])\n",
    "    injections = np.asarray([list(foo) for foo in injections])\n",
    "    print(injections.shape)\n",
    "    check = injections[:, mpnames[check_param]]\n",
    "    param = {name: injections[:, mpnames[name]] for name in names}"
   ]
  },
  {
   "cell_type": "code",
   "execution_count": null,
   "metadata": {},
   "outputs": [],
   "source": [
    "\"\"\" \n",
    "snrs = get_snrs(\"/local/scratch/igr/nnarenraju/dataset_D4_2e6_Nov05_seed42/injections/injections.hdf\", data_cfg)\n",
    " \n",
    "with h5py.File(\"snr.hdf\", 'a') as ds:\n",
    "    ds.create_dataset('snr', data=snrs)\n",
    "\"\"\""
   ]
  },
  {
   "cell_type": "code",
   "execution_count": null,
   "metadata": {},
   "outputs": [],
   "source": [
    "\n",
    "snrs_path = \"/local/scratch/igr/nnarenraju/injections_plots/snr.hdf\"\n",
    "if os.path.exists(snrs_path):\n",
    "    with h5py.File(snrs_path, 'r') as fp:\n",
    "        snrs = fp['snr'][()]\n",
    "\n",
    "param['snr'] = snrs\n",
    "idx = np.argwhere(snrs < 100.0).flatten()"
   ]
  },
  {
   "cell_type": "code",
   "execution_count": null,
   "metadata": {},
   "outputs": [],
   "source": [
    "lf = 20.0 # Hz\n",
    "G = 6.67e-11 # Nm^2/Kg^2\n",
    "c = 3.0e8 # ms^-1\n",
    "param['tau'] = 5. * (8.*np.pi*lf)**(-8./3.) * (param['mchirp']*1.989e30*G/c**3.)**(-5./3.)"
   ]
  },
  {
   "cell_type": "code",
   "execution_count": null,
   "metadata": {},
   "outputs": [],
   "source": [
    "check_param = 'snr'\n",
    "check = injections[:, mpnames[check_param]] if check_param != 'snr' else snrs"
   ]
  },
  {
   "cell_type": "code",
   "execution_count": null,
   "metadata": {},
   "outputs": [],
   "source": [
    "plt.figure()\n",
    "plt.hist(snrs[idx], bins=128)\n",
    "plt.vlines(np.mean(snrs[idx]), 0, 100_000, colors='k')\n",
    "plt.xlabel('Optimal network SNR')\n",
    "plt.ylim(0, 75000)\n",
    "plt.grid()\n",
    "plt.show()"
   ]
  },
  {
   "cell_type": "code",
   "execution_count": null,
   "metadata": {},
   "outputs": [],
   "source": [
    "fig, axs = plt.subplots(6, 5, figsize=(36, 30))\n",
    "pidxs = np.dstack(np.indices((6, 5))).reshape(30, 2)\n",
    "for n, name in enumerate(param.keys()):\n",
    "    i = pidxs[n][0]\n",
    "    j = pidxs[n][1]\n",
    "    axs[i][j].hist2d(check[idx], param[name][idx], bins=256, cmap=mpl.cm.Blues)\n",
    "    axs[i][j].set_xlabel(check_param)\n",
    "    axs[i][j].set_ylabel(name)\n",
    "\n",
    "for foo in pidxs[len(param.keys()):]:\n",
    "    i, j = foo\n",
    "    axs[i][j].set_visible(False)\n",
    "plt.show()"
   ]
  },
  {
   "cell_type": "code",
   "execution_count": null,
   "metadata": {},
   "outputs": [],
   "source": [
    "check_param = 'mchirp'\n",
    "check = injections[:, mpnames[check_param]] if check_param != 'snr' else snrs\n",
    "\n",
    "fig, axs = plt.subplots(6, 5, figsize=(36, 30))\n",
    "pidxs = np.dstack(np.indices((6, 5))).reshape(30, 2)\n",
    "for n, name in enumerate(param.keys()):\n",
    "    i = pidxs[n][0]\n",
    "    j = pidxs[n][1]\n",
    "    axs[i][j].hist2d(check[idx], param[name][idx], bins=256, cmap=mpl.cm.Blues)\n",
    "    axs[i][j].set_xlabel(check_param)\n",
    "    axs[i][j].set_ylabel(name)\n",
    "\n",
    "for foo in pidxs[len(param.keys()):]:\n",
    "    i, j = foo\n",
    "    axs[i][j].set_visible(False)\n",
    "plt.show()"
   ]
  },
  {
   "attachments": {},
   "cell_type": "markdown",
   "metadata": {},
   "source": [
    "### SNR distributions"
   ]
  },
  {
   "cell_type": "code",
   "execution_count": 1,
   "metadata": {},
   "outputs": [],
   "source": [
    "import numpy as np\n",
    "from scipy.stats import halfnorm\n",
    "import matplotlib.pyplot as plt"
   ]
  },
  {
   "cell_type": "code",
   "execution_count": 2,
   "metadata": {},
   "outputs": [
    {
     "data": {
      "image/png": "[encoded data removed]",
      "text/plain": [
       "<Figure size 640x480 with 1 Axes>"
      ]
     },
     "metadata": {},
     "output_type": "display_data"
    }
   ],
   "source": [
    "fig, ax = plt.subplots(1, 1)\n",
    "r = halfnorm.rvs(size=1_000_000) * 4.0 + 5.0\n",
    "ax.hist(r, bins='auto', histtype='stepfilled')\n",
    "ax.set_xlabel('Optimal SNR')\n",
    "ax.set_ylabel('Number of Occurences')\n",
    "plt.show()"
   ]
  },
  {
   "cell_type": "code",
   "execution_count": null,
   "metadata": {},
   "outputs": [],
   "source": [
    "r = halfnorm.rvs() * 4.0 + 5.0\n",
    "print(r)"
   ]
  },
  {
   "cell_type": "code",
   "execution_count": 2,
   "metadata": {},
   "outputs": [],
   "source": [
    "# SNR as a function of chirp mass\n",
    "lowest_mc_snr_mean = 10.0\n",
    "highest_mc_snr_mean = 7.0"
   ]
  },
  {
   "cell_type": "code",
   "execution_count": 25,
   "metadata": {},
   "outputs": [],
   "source": [
    "# Chirp mass limits\n",
    "ml = 7.0 # Msun\n",
    "mu = 50.0 # Msun\n",
    "min_mchirp = (ml*ml / (ml+ml)**2.)**(3./5) * (ml + ml)\n",
    "max_mchirp = (mu*mu / (mu+mu)**2.)**(3./5) * (mu + mu)"
   ]
  },
  {
   "cell_type": "code",
   "execution_count": 27,
   "metadata": {},
   "outputs": [],
   "source": [
    "# Get line params\n",
    "slope = (highest_mc_snr_mean-lowest_mc_snr_mean)/(max_mchirp-min_mchirp)\n",
    "const = lowest_mc_snr_mean - (slope*min_mchirp)\n",
    "mean_snr_given_mc = lambda mc: slope * mc + const"
   ]
  },
  {
   "cell_type": "code",
   "execution_count": 30,
   "metadata": {},
   "outputs": [
    {
     "data": {
      "image/png": "[encoded data removed]",
      "text/plain": [
       "<Figure size 640x480 with 1 Axes>"
      ]
     },
     "metadata": {},
     "output_type": "display_data"
    }
   ],
   "source": [
    "# Plot line\n",
    "chirp_masses = np.linspace(min_mchirp, max_mchirp, 1000)\n",
    "mean_snrs = np.array([mean_snr_given_mc(foo) for foo in chirp_masses])\n",
    "plt.plot(chirp_masses, mean_snrs)\n",
    "plt.ylabel('Mean SNRs')\n",
    "plt.xlabel('Chirp Masses')\n",
    "plt.ylim(4.0, 15.0)\n",
    "plt.show()"
   ]
  },
  {
   "cell_type": "code",
   "execution_count": 24,
   "metadata": {},
   "outputs": [
    {
     "name": "stdout",
     "output_type": "stream",
     "text": [
      "31965\n"
     ]
    },
    {
     "data": {
      "image/png": "[encoded data removed]",
      "text/plain": [
       "<Figure size 640x480 with 1 Axes>"
      ]
     },
     "metadata": {},
     "output_type": "display_data"
    }
   ],
   "source": [
    "foo = np.random.normal(loc=7.0, scale=1.1, size=10_000_000)\n",
    "print(len(foo[foo<4.0]))\n",
    "plt.hist(foo, bins=100)\n",
    "plt.show()"
   ]
  },
  {
   "cell_type": "code",
   "execution_count": 32,
   "metadata": {},
   "outputs": [
    {
     "name": "stdout",
     "output_type": "stream",
     "text": [
      "7.182751727923688\n"
     ]
    }
   ],
   "source": [
    "foo = np.random.normal(loc=7.0, scale=1.1)\n",
    "print(foo)"
   ]
  },
  {
   "cell_type": "code",
   "execution_count": 12,
   "metadata": {},
   "outputs": [
    {
     "name": "stdout",
     "output_type": "stream",
     "text": [
      "tau = 6.226214698954075 seconds\n"
     ]
    }
   ],
   "source": [
    "G = 6.67e-11\n",
    "c = 3.0e8\n",
    "lf = 20.0\n",
    "tau = lambda mc: 5. * (8.*np.pi*lf)**(-8./3.) * (mc*1.989e30*G/c**3.)**(-5./3.)\n",
    "print('tau = {} seconds'.format(tau(8.5)))"
   ]
  },
  {
   "cell_type": "code",
   "execution_count": null,
   "metadata": {},
   "outputs": [],
   "source": []
  }
 ],
 "metadata": {
  "kernelspec": {
   "display_name": "Python 3",
   "language": "python",
   "name": "python3"
  },
  "language_info": {
   "codemirror_mode": {
    "name": "ipython",
    "version": 3
   },
   "file_extension": ".py",
   "mimetype": "text/x-python",
   "name": "python",
   "nbconvert_exporter": "python",
   "pygments_lexer": "ipython3",
   "version": "3.9.19"
  },
  "orig_nbformat": 4
 },
 "nbformat": 4,
 "nbformat_minor": 2
}
