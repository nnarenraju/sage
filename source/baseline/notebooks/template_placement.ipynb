{
 "cells": [
  {
   "attachments": {},
   "cell_type": "markdown",
   "metadata": {},
   "source": [
    "### Studying the parameter space metric density for Sage"
   ]
  },
  {
   "attachments": {},
   "cell_type": "markdown",
   "metadata": {},
   "source": [
    "Refer: Gravitational waves from inspiralling compact binaries: hexagonal template\n",
    "placement and its efficiency in detecting physical signals by Thomas Cokelaer. \n",
    "\n",
    "Link = https://arxiv.org/abs/0706.4437"
   ]
  },
  {
   "attachments": {},
   "cell_type": "markdown",
   "metadata": {},
   "source": [
    "Salient idea - Since the model h explicitly depends on the two mass parameters M and η, then the spacing dxi are\n",
    "function of these two quantities as well. However, the metric expressed in these two coordinates is \n",
    "not a constant; it is not a constant either if we were to use the component masses, m1 and m2. \n",
    "The preference of chirptimes, denoted τ0 and τ3 (see appendix B, Eqs. B1) as coordinates on the signal \n",
    "manifold is indeed more practical because these variables are almost Cartesian. Although not \n",
    "perfectly constant for PN-order larger than 1PN, we shall assume that the metric is essentially \n",
    "constant in the local vicinity of every point on the manifold. We could use any combinations of \n",
    "chirptimes, but using the pair τ0 −τ3, there exists analytical inversion with the pair M − η."
   ]
  },
  {
   "cell_type": "code",
   "execution_count": 132,
   "metadata": {},
   "outputs": [],
   "source": [
    "import numpy as np\n",
    "import lal\n",
    "import matplotlib.pyplot as plt"
   ]
  },
  {
   "cell_type": "code",
   "execution_count": 177,
   "metadata": {},
   "outputs": [],
   "source": [
    "# Constants\n",
    "G = 6.67e-11\n",
    "c = 3.0e8"
   ]
  },
  {
   "cell_type": "code",
   "execution_count": 182,
   "metadata": {},
   "outputs": [
    {
     "name": "stdout",
     "output_type": "stream",
     "text": [
      "4.925490947641267e-06\n",
      "4.9135666666666664e-06\n"
     ]
    }
   ],
   "source": [
    "# Conversions make sense\n",
    "print(lal.MTSUN_SI)\n",
    "print(1.989e30*G/c**3.)"
   ]
  },
  {
   "attachments": {},
   "cell_type": "markdown",
   "metadata": {},
   "source": [
    "#### Tau0 and Tau3"
   ]
  },
  {
   "cell_type": "code",
   "execution_count": 206,
   "metadata": {},
   "outputs": [],
   "source": [
    "# Define tau0 and tau3\n",
    "fL = 40.0 # Hz\n",
    "A0 = 5/(256.*(np.pi*fL)**(8./3.))\n",
    "tau0 = lambda mchirp: A0 * (mchirp*1.989e30*G/c**3.)**(-5./3.)\n",
    "\n",
    "A3 = np.pi/(8.*(np.pi*fL)**(5./3.))\n",
    "tau3 = lambda _tau0, M: (A3/A0)*_tau0*(M*1.989e30*G/c**3.)"
   ]
  },
  {
   "cell_type": "code",
   "execution_count": 207,
   "metadata": {},
   "outputs": [],
   "source": [
    "# Limits on chirp mass\n",
    "ml = 3.0 # Msun\n",
    "mu = 30.0 # Msun\n",
    "min_mchirp = (ml*ml / (ml+ml)**2.)**(3./5) * (ml + ml)\n",
    "max_mchirp = (mu*mu / (mu+mu)**2.)**(3./5) * (mu + mu)\n",
    "\n",
    "# Bounds on total mass\n",
    "min_total_mass = ml*2.\n",
    "max_total_mass = mu*2."
   ]
  },
  {
   "cell_type": "code",
   "execution_count": 208,
   "metadata": {},
   "outputs": [
    {
     "name": "stdout",
     "output_type": "stream",
     "text": [
      "Limits on tau0 = 0.15100229716958533, 7.00890576392226\n",
      "Limits on tau3 = 0.011247897968794487, 5.220811761357236\n"
     ]
    }
   ],
   "source": [
    "# Place limits on tau0\n",
    "min_tau0 = tau0(max_mchirp)\n",
    "max_tau0 = tau0(min_mchirp)\n",
    "# Place limits on tau3\n",
    "min_tau3 = tau3(min_tau0, min_total_mass)\n",
    "max_tau3 = tau3(max_tau0, max_total_mass)\n",
    "\n",
    "print('Limits on tau0 = {}, {}'.format(min_tau0, max_tau0))\n",
    "print('Limits on tau3 = {}, {}'.format(min_tau3, max_tau3))"
   ]
  },
  {
   "attachments": {},
   "cell_type": "markdown",
   "metadata": {},
   "source": [
    "#### A0 and A3 for calculating Tau0 and Tau3"
   ]
  },
  {
   "cell_type": "code",
   "execution_count": 209,
   "metadata": {},
   "outputs": [],
   "source": [
    "# VERIFIED\n",
    "def _a0(f_lower):\n",
    "    \"\"\" Used in calculating chirp times: see Cokelaer, arxiv.org:0706.4437\n",
    "        appendix 1, also lalinspiral/python/sbank/tau0tau3.py. \"\"\"\n",
    "    return 5. / (256. * (np.pi * f_lower)**(8./3.))\n",
    "\n",
    "# VERIFIED\n",
    "def _a3(f_lower):\n",
    "    \"\"\" Another parameter used for chirp times \"\"\"\n",
    "    return np.pi / (8. * (np.pi * f_lower)**(5./3.))"
   ]
  },
  {
   "attachments": {},
   "cell_type": "markdown",
   "metadata": {},
   "source": [
    "#### Total mass and eta from tau0 and tau3"
   ]
  },
  {
   "cell_type": "code",
   "execution_count": 213,
   "metadata": {},
   "outputs": [],
   "source": [
    "# VERIFIED\n",
    "def mtotal_from_tau0_tau3(tau0, tau3, f_lower, in_seconds=False):\n",
    "    \"\"\" Returns total mass from :math: tau_0, tau_3 \"\"\"\n",
    "    mtotal = (tau3 / _a3(f_lower)) / (tau0 / _a0(f_lower)) # in seconds\n",
    "    if in_seconds:\n",
    "        return mtotal\n",
    "    # convert to kgs\n",
    "    mtotal /= (1.989e30*G/c**3.)\n",
    "    return mtotal\n",
    "\n",
    "# VERIFIED\n",
    "def _eta_from_tau0_tau3(tau0, tau3, f_lower):\n",
    "    \"\"\" Returns symmetric mass ratio from :math: tau_0, tau_3 \"\"\"\n",
    "    mtotal = mtotal_from_tau0_tau3(tau0, tau3, f_lower, in_seconds=True) # in seconds\n",
    "    eta = mtotal**(-2./3.) * (_a3(f_lower) / tau3)\n",
    "    return eta\n",
    "\n",
    "# VERIFIED\n",
    "def eta_from_tau0_tau3(tau0, tau3, f_lower):\n",
    "    \"\"\" Returns symmetric mass ratio from :math: tau_0, tau_3 \"\"\"\n",
    "    eta = ((tau3/_a3(f_lower)) * (_a0(f_lower)/tau0)**(2./5.))**(-5./3.) # dimensionless\n",
    "    return eta"
   ]
  },
  {
   "cell_type": "code",
   "execution_count": 214,
   "metadata": {},
   "outputs": [
    {
     "name": "stdout",
     "output_type": "stream",
     "text": [
      "6.0\n",
      "59.99999999999999\n"
     ]
    }
   ],
   "source": [
    "# Check boundary conditions\n",
    "# These values are swapped on Figure 1 in https://arxiv.org/abs/0706.4437. Probably a typo.\n",
    "print(mtotal_from_tau0_tau3(min_tau0, min_tau3, 40.0)) # This should be around 14 Msun\n",
    "print(mtotal_from_tau0_tau3(max_tau0, max_tau3, 40.0)) # This should be around 100 Msun\n"
   ]
  },
  {
   "cell_type": "code",
   "execution_count": 215,
   "metadata": {},
   "outputs": [
    {
     "name": "stdout",
     "output_type": "stream",
     "text": [
      "11.603972084031948\n",
      "11.603972084031936\n"
     ]
    }
   ],
   "source": [
    "print(eta_from_tau0_tau3(min_tau0, min_tau3, 40.0))\n",
    "print(_eta_from_tau0_tau3(min_tau0, min_tau3, 40.0))"
   ]
  },
  {
   "attachments": {},
   "cell_type": "markdown",
   "metadata": {},
   "source": [
    "#### mass1 and mass2 from tau0 and tau3"
   ]
  },
  {
   "cell_type": "code",
   "execution_count": 192,
   "metadata": {},
   "outputs": [],
   "source": [
    "def mass1_from_mtotal_eta(mtotal, eta):\n",
    "    \"\"\" Returns the primary mass from the total mass and symmetric mass ratio. \"\"\"\n",
    "    return 0.5 * mtotal * (1.0 + (1.0 - 4.0 * eta)**0.5)\n",
    "\n",
    "def mass2_from_mtotal_eta(mtotal, eta):\n",
    "    \"\"\" Returns the secondary mass from the total mass and symmetric mass ratio. \"\"\"\n",
    "    return 0.5 * mtotal * (1.0 - (1.0 - 4.0 * eta)**0.5)"
   ]
  },
  {
   "cell_type": "code",
   "execution_count": 193,
   "metadata": {},
   "outputs": [],
   "source": [
    "def mass1_from_tau0_tau3(tau0, tau3, f_lower):\n",
    "    \"\"\" Returns the primary mass from the given :math: tau_0, tau_3 \"\"\"\n",
    "    mtotal = mtotal_from_tau0_tau3(tau0, tau3, f_lower) # in Msun\n",
    "    eta = eta_from_tau0_tau3(tau0, tau3, f_lower) # dimensionless\n",
    "    return mass1_from_mtotal_eta(mtotal, eta) # in Msun\n",
    "\n",
    "def mass2_from_tau0_tau3(tau0, tau3, f_lower):\n",
    "    \"\"\" Returns the secondary mass from the given :math: tau_0, tau_3 \"\"\"\n",
    "    mtotal = mtotal_from_tau0_tau3(tau0, tau3, f_lower) # in Msun\n",
    "    eta = eta_from_tau0_tau3(tau0, tau3, f_lower) # dimensionless\n",
    "    return mass2_from_mtotal_eta(mtotal, eta) # in Msun"
   ]
  },
  {
   "attachments": {},
   "cell_type": "markdown",
   "metadata": {},
   "source": [
    "#### Sampling uniformly on tau0 and tau3"
   ]
  },
  {
   "cell_type": "code",
   "execution_count": 204,
   "metadata": {},
   "outputs": [
    {
     "name": "stdout",
     "output_type": "stream",
     "text": [
      "14.0 0.25 7.0\n"
     ]
    }
   ],
   "source": [
    "# This is what happens inside m1 from tau0 and tau3 given f_lower\n",
    "mtotal = mtotal_from_tau0_tau3(min_tau0, min_tau3, 20.0) # This doesn't makes sense (should be around 100 Msun)\n",
    "eta = eta_from_tau0_tau3(min_tau0, min_tau3, 20.0) # This doesn't make sense \n",
    "m1 = mass1_from_mtotal_eta(mtotal, eta) # should be around 50.0 Msun\n",
    "print(mtotal, eta, m1) "
   ]
  },
  {
   "cell_type": "code",
   "execution_count": 195,
   "metadata": {},
   "outputs": [
    {
     "name": "stdout",
     "output_type": "stream",
     "text": [
      "(7.000000000000002+35.34294166396984j)\n",
      "2646.415537853632\n"
     ]
    }
   ],
   "source": [
    "# This should correspond to m1=m2=m_min\n",
    "print(mass1_from_tau0_tau3(min_tau0, min_tau3, 20.0))\n",
    "# This should correspond to m1=m2=m_max\n",
    "print(mass1_from_tau0_tau3(min_tau0, max_tau3, 20.0))"
   ]
  },
  {
   "cell_type": "code",
   "execution_count": 131,
   "metadata": {},
   "outputs": [],
   "source": [
    "eta = lambda m1, m2: m1*m2/(m1+m2)**2\n",
    "mass1 = np.random.uniform(7.0, 50.0, 100_000)\n",
    "mass2 = np.random.uniform(7.0, 50.0, 100_000)\n",
    "etas = np.array([eta(_m1, _m2) for _m1, _m2 in zip(mass1, mass2)])"
   ]
  },
  {
   "cell_type": "code",
   "execution_count": null,
   "metadata": {},
   "outputs": [],
   "source": []
  }
 ],
 "metadata": {
  "kernelspec": {
   "display_name": ".venv",
   "language": "python",
   "name": "python3"
  },
  "language_info": {
   "codemirror_mode": {
    "name": "ipython",
    "version": 3
   },
   "file_extension": ".py",
   "mimetype": "text/x-python",
   "name": "python",
   "nbconvert_exporter": "python",
   "pygments_lexer": "ipython3",
   "version": "3.9.19"
  },
  "orig_nbformat": 4
 },
 "nbformat": 4,
 "nbformat_minor": 2
}
